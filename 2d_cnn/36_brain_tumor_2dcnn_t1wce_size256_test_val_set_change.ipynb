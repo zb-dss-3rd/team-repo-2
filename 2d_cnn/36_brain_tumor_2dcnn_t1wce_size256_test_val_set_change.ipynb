{
 "cells": [
  {
   "cell_type": "code",
   "execution_count": 1,
   "id": "fe5ee03f",
   "metadata": {},
   "outputs": [],
   "source": [
    "import os\n",
    "import json\n",
    "import glob\n",
    "import random\n",
    "import collections\n",
    "\n",
    "import numpy as np\n",
    "import pandas as pd\n",
    "import pydicom\n",
    "from pydicom.pixel_data_handlers.util import apply_voi_lut, apply_modality_lut\n",
    "import cv2\n",
    "import matplotlib.pyplot as plt\n",
    "import seaborn as sns\n",
    "import random\n",
    "from tqdm.notebook import tqdm\n",
    "\n",
    "import tensorflow as tf\n",
    "from tensorflow import keras\n",
    "from sklearn.metrics import roc_auc_score\n",
    "from sklearn.model_selection import train_test_split\n",
    "from tensorflow.keras.utils import to_categorical\n",
    "from tensorflow.keras import layers"
   ]
  },
  {
   "cell_type": "code",
   "execution_count": 2,
   "id": "f29e1395",
   "metadata": {},
   "outputs": [],
   "source": [
    "IMAGE_SIZE = 256\n",
    "TYPES = [\"FLAIR\", \"T1w\", \"T2w\", \"T1wCE\"]\n",
    "# WHITE_THRESHOLD = 10 # out of 255\n",
    "EXCLUDE = [109, 123, 709]\n",
    "\n",
    "KERNEL_SIZE = (3,3)\n",
    "\n",
    "base_path = 'D:\\zerobase\\Brain_tumor'\n",
    "\n",
    "FILENAME = '36_best_model_2dcnn_t1wce_size256_grad_test.h5'\n",
    "IMAGETYPE = 'T1wCE'\n",
    "\n",
    "train_df = pd.read_csv(base_path + \"/train_df.csv\")\n",
    "valid_df = pd.read_csv(base_path + '/test_df.csv')\n",
    "train_df = train_df[~train_df.BraTS21ID.isin(EXCLUDE)]"
   ]
  },
  {
   "cell_type": "code",
   "execution_count": 3,
   "id": "7bf88246",
   "metadata": {},
   "outputs": [
    {
     "data": {
      "text/html": [
       "<div>\n",
       "<style scoped>\n",
       "    .dataframe tbody tr th:only-of-type {\n",
       "        vertical-align: middle;\n",
       "    }\n",
       "\n",
       "    .dataframe tbody tr th {\n",
       "        vertical-align: top;\n",
       "    }\n",
       "\n",
       "    .dataframe thead th {\n",
       "        text-align: right;\n",
       "    }\n",
       "</style>\n",
       "<table border=\"1\" class=\"dataframe\">\n",
       "  <thead>\n",
       "    <tr style=\"text-align: right;\">\n",
       "      <th></th>\n",
       "      <th>BraTS21ID</th>\n",
       "      <th>MGMT_value</th>\n",
       "    </tr>\n",
       "  </thead>\n",
       "  <tbody>\n",
       "    <tr>\n",
       "      <th>0</th>\n",
       "      <td>185</td>\n",
       "      <td>1</td>\n",
       "    </tr>\n",
       "    <tr>\n",
       "      <th>1</th>\n",
       "      <td>816</td>\n",
       "      <td>1</td>\n",
       "    </tr>\n",
       "    <tr>\n",
       "      <th>2</th>\n",
       "      <td>707</td>\n",
       "      <td>1</td>\n",
       "    </tr>\n",
       "    <tr>\n",
       "      <th>3</th>\n",
       "      <td>683</td>\n",
       "      <td>0</td>\n",
       "    </tr>\n",
       "    <tr>\n",
       "      <th>4</th>\n",
       "      <td>6</td>\n",
       "      <td>1</td>\n",
       "    </tr>\n",
       "    <tr>\n",
       "      <th>...</th>\n",
       "      <td>...</td>\n",
       "      <td>...</td>\n",
       "    </tr>\n",
       "    <tr>\n",
       "      <th>463</th>\n",
       "      <td>356</td>\n",
       "      <td>0</td>\n",
       "    </tr>\n",
       "    <tr>\n",
       "      <th>464</th>\n",
       "      <td>89</td>\n",
       "      <td>1</td>\n",
       "    </tr>\n",
       "    <tr>\n",
       "      <th>465</th>\n",
       "      <td>217</td>\n",
       "      <td>0</td>\n",
       "    </tr>\n",
       "    <tr>\n",
       "      <th>466</th>\n",
       "      <td>834</td>\n",
       "      <td>0</td>\n",
       "    </tr>\n",
       "    <tr>\n",
       "      <th>467</th>\n",
       "      <td>708</td>\n",
       "      <td>1</td>\n",
       "    </tr>\n",
       "  </tbody>\n",
       "</table>\n",
       "<p>466 rows × 2 columns</p>\n",
       "</div>"
      ],
      "text/plain": [
       "     BraTS21ID  MGMT_value\n",
       "0          185           1\n",
       "1          816           1\n",
       "2          707           1\n",
       "3          683           0\n",
       "4            6           1\n",
       "..         ...         ...\n",
       "463        356           0\n",
       "464         89           1\n",
       "465        217           0\n",
       "466        834           0\n",
       "467        708           1\n",
       "\n",
       "[466 rows x 2 columns]"
      ]
     },
     "execution_count": 3,
     "metadata": {},
     "output_type": "execute_result"
    }
   ],
   "source": [
    "train_df"
   ]
  },
  {
   "cell_type": "code",
   "execution_count": 4,
   "id": "ad9a235c",
   "metadata": {},
   "outputs": [],
   "source": [
    "X_train, X_test, y_train, y_test = train_test_split(train_df['BraTS21ID'],train_df['MGMT_value'], test_size=0.2, stratify=train_df['MGMT_value'])\n",
    "train_df = pd.DataFrame({'BraTS21ID' : X_train,'MGMT_value':y_train})\n",
    "test_df = pd.DataFrame({'BraTS21ID' : X_test,'MGMT_value':y_test})\n",
    "\n",
    "test_df_id = test_df['BraTS21ID']"
   ]
  },
  {
   "cell_type": "code",
   "execution_count": 5,
   "id": "814e42ea",
   "metadata": {},
   "outputs": [],
   "source": [
    "# X, test_X, y, test_y = train_test_split(train_df['BraTS21ID'], train_df['MGMT_value'], test_size=0.2, random_state=13, stratify=train_df['MGMT_value'])\n",
    "# train_df = pd.DataFrame({'BraTS21ID':X, 'MGMT_value':y})\n",
    "# test_df = pd.DataFrame({'BraTS21ID':test_X, 'MGMT_value':test_y})"
   ]
  },
  {
   "cell_type": "code",
   "execution_count": 6,
   "id": "bf044056",
   "metadata": {},
   "outputs": [],
   "source": [
    "# def load_dicom(path, size = 224):\n",
    "def load_dicom(path, IMAGE_SIZE):\n",
    "    ''' \n",
    "    Reads a DICOM image, standardizes so that the pixel values are between 0 and 1, then rescales to 0 and 255\n",
    "    \n",
    "    Note super sure if this kind of scaling is appropriate, but everyone seems to do it. \n",
    "    '''\n",
    "    dicom = pydicom.read_file(path)\n",
    "    data = dicom.pixel_array\n",
    "#     print('read dicom file : ' , path)\n",
    "    \n",
    "#     data = apply_modality_lut(data, dicom)   # modality 적용\n",
    "#     data = apply_voi_lut(data,dicom)         # voi 적용\n",
    "    \n",
    "    if np.max(data) != 0:\n",
    "        data = data / np.max(data)\n",
    "    data = (data * 255).astype(np.uint8)\n",
    "    \n",
    "    k = cv2.getStructuringElement(cv2.MORPH_RECT,KERNEL_SIZE)  # tophat or gradient 적용시 활성화\n",
    "#     data = cv2.morphologyEx(data, cv2.MORPH_TOPHAT, k)       # tophat 적용\n",
    "    data = cv2.morphologyEx(data, cv2.MORPH_GRADIENT, k)       # gradient 적용\n",
    "    \n",
    "    return cv2.resize(data, (IMAGE_SIZE, IMAGE_SIZE))\n",
    "\n",
    "def get_all_image_paths(brats21id, image_type, folder='train'): \n",
    "    '''\n",
    "    Returns an arry of all the images of a particular type for a particular patient ID\n",
    "    '''\n",
    "    assert(image_type in TYPES), '이미지 타입 이름을 확인하세요'\n",
    "    \n",
    "    patient_path = os.path.join(\n",
    "        base_path + \"/%s/\" % folder, \n",
    "        str(brats21id).zfill(5),\n",
    "    )\n",
    "\n",
    "    paths = sorted(\n",
    "        glob.glob(os.path.join(patient_path, image_type, \"*\")), \n",
    "        key=lambda x: int(x[:-4].split(\"-\")[-1]),\n",
    "    )\n",
    "    \n",
    "    num_images = len(paths)\n",
    "    \n",
    "    start = int(num_images * 0.25)\n",
    "    end = int(num_images * 0.75)\n",
    "\n",
    "    interval = 3\n",
    "    \n",
    "    if num_images < 10: \n",
    "        interval = 1\n",
    "    \n",
    "    return np.array(paths[start:end:interval])\n",
    "\n",
    "def get_all_images(brats21id, image_type, folder='train', size = IMAGE_SIZE):\n",
    "    return [load_dicom(path, size) for path in get_all_image_paths(brats21id, image_type, folder)]\n",
    "\n",
    "\n",
    "def get_all_data_for_train(image_type):\n",
    "    global train_df\n",
    "    \n",
    "    X = []\n",
    "    y = []\n",
    "    train_ids = []\n",
    "\n",
    "    for i in tqdm(train_df.index):\n",
    "        x = train_df.loc[i]\n",
    "        images = get_all_images(int(x['BraTS21ID']), image_type, 'train', IMAGE_SIZE)\n",
    "        label = x['MGMT_value']\n",
    "\n",
    "        X += images\n",
    "        y += [label] * len(images)\n",
    "        train_ids += [int(x['BraTS21ID'])] * len(images)\n",
    "        assert(len(X) == len(y))\n",
    "    return np.array(X), np.array(y), np.array(train_ids)\n",
    "\n",
    "def get_all_data_for_val(image_type):\n",
    "    global valid_df\n",
    "    \n",
    "    X = []\n",
    "    y = []\n",
    "    valid_ids = []\n",
    "\n",
    "    for i in tqdm(valid_df.index):\n",
    "        x = valid_df.loc[i]\n",
    "        images = get_all_images(int(x['BraTS21ID']), image_type, 'train', IMAGE_SIZE)\n",
    "        label = x['MGMT_value']\n",
    "        \n",
    "        X += images\n",
    "        y += [label] * len(images)\n",
    "        valid_ids += [int(x['BraTS21ID'])] * len(images)\n",
    "        assert(len(X) == len(y))\n",
    "    return np.array(X), np.array(y), np.array(valid_ids)\n",
    "\n",
    "def get_all_data_for_test(image_type):\n",
    "    global test_df\n",
    "    \n",
    "    X = []\n",
    "    test_ids = []\n",
    "\n",
    "    for i in tqdm(test_df.index):\n",
    "        x = test_df.loc[i]\n",
    "        images = get_all_images(int(x['BraTS21ID']), image_type, 'train', IMAGE_SIZE)\n",
    "        X += images\n",
    "        test_ids += [int(x['BraTS21ID'])] * len(images)\n",
    "\n",
    "    return np.array(X), np.array(test_ids)\n",
    "\n",
    "\n",
    "\n",
    "\n"
   ]
  },
  {
   "cell_type": "code",
   "execution_count": 7,
   "id": "340485bc",
   "metadata": {},
   "outputs": [
    {
     "data": {
      "application/vnd.jupyter.widget-view+json": {
       "model_id": "b8c9a053df6d490e9e3ffe38d3c516d8",
       "version_major": 2,
       "version_minor": 0
      },
      "text/plain": [
       "  0%|          | 0/372 [00:00<?, ?it/s]"
      ]
     },
     "metadata": {},
     "output_type": "display_data"
    },
    {
     "data": {
      "application/vnd.jupyter.widget-view+json": {
       "model_id": "d71b1aa92d1a438c897f995782028ede",
       "version_major": 2,
       "version_minor": 0
      },
      "text/plain": [
       "  0%|          | 0/117 [00:00<?, ?it/s]"
      ]
     },
     "metadata": {},
     "output_type": "display_data"
    },
    {
     "data": {
      "application/vnd.jupyter.widget-view+json": {
       "model_id": "be70918fda5542c09f15665731f23ffc",
       "version_major": 2,
       "version_minor": 0
      },
      "text/plain": [
       "  0%|          | 0/94 [00:00<?, ?it/s]"
      ]
     },
     "metadata": {},
     "output_type": "display_data"
    },
    {
     "data": {
      "text/plain": [
       "((13348, 256, 256), (13348,), (13348,))"
      ]
     },
     "execution_count": 7,
     "metadata": {},
     "output_type": "execute_result"
    }
   ],
   "source": [
    "X, y, trainidt = get_all_data_for_train(IMAGETYPE)\n",
    "X_valid, y_valid, trainidt_valid = get_all_data_for_val(IMAGETYPE)\n",
    "X_test, testidt = get_all_data_for_test(IMAGETYPE)\n",
    "\n",
    "X = np.concatenate((X, X_valid), axis=0)\n",
    "y = np.concatenate((y, y_valid), axis=0)\n",
    "trainidt = np.concatenate((trainidt, trainidt_valid), axis=0) \n",
    "\n",
    "\n",
    "X.shape, y.shape, trainidt.shape"
   ]
  },
  {
   "cell_type": "code",
   "execution_count": 8,
   "id": "d8dbb7fa",
   "metadata": {},
   "outputs": [],
   "source": [
    "# X_train, X_valid, y_train, y_valid, trainidt_train, trainidt_valid = train_test_split(X, y, trainidt, test_size=0.2, random_state=40, stratify=y)\n",
    "X_train, X_val, y_train, y_val, trainidt_train, validt= train_test_split(X, y, trainidt, test_size=0.2, stratify=y)"
   ]
  },
  {
   "cell_type": "code",
   "execution_count": 9,
   "id": "055064b2",
   "metadata": {},
   "outputs": [
    {
     "data": {
      "text/plain": [
       "(TensorShape([10678, 256, 256, 1]),\n",
       " (10678, 2),\n",
       " TensorShape([3368, 256, 256, 1]),\n",
       " (3368, 2),\n",
       " (10678,),\n",
       " (3368,))"
      ]
     },
     "execution_count": 9,
     "metadata": {},
     "output_type": "execute_result"
    }
   ],
   "source": [
    "# split = int(X.shape[0] * 0.8)\n",
    "\n",
    "# X_train = X[:split]\n",
    "# X_valid = X[split:]\n",
    "\n",
    "# y_train = y[:split]\n",
    "# y_valid = y[split:]\n",
    "\n",
    "# trainidt_train = trainidt[:split]\n",
    "# trainidt_valid = trainidt[split:]\n",
    "\n",
    "X_train = tf.expand_dims(X_train, axis=-1)\n",
    "X_valid = tf.expand_dims(X_valid, axis=-1)\n",
    "\n",
    "y_train = to_categorical(y_train)\n",
    "y_valid = to_categorical(y_valid)\n",
    "\n",
    "X_train.shape, y_train.shape, X_valid.shape, y_valid.shape, trainidt_train.shape, trainidt_valid.shape"
   ]
  },
  {
   "cell_type": "code",
   "execution_count": 10,
   "id": "4517c55a",
   "metadata": {},
   "outputs": [],
   "source": [
    "# global_average_layer = tf.keras.layers.GlobalAveragePooling2D()\n",
    "# data_augmentation = tf.keras.Sequential([\n",
    "#   tf.keras.layers.experimental.preprocessing.RandomFlip('horizontal'),\n",
    "#   tf.keras.layers.experimental.preprocessing.RandomRotation(0.2),\n",
    "# ])"
   ]
  },
  {
   "cell_type": "code",
   "execution_count": 11,
   "id": "33a3caed",
   "metadata": {
    "scrolled": true
   },
   "outputs": [
    {
     "name": "stdout",
     "output_type": "stream",
     "text": [
      "Epoch 1/20\n",
      "1335/1335 [==============================] - 155s 107ms/step - loss: 0.6882 - auc: 0.6212 - val_loss: 0.5988 - val_auc: 0.7811\n",
      "Epoch 2/20\n",
      "1335/1335 [==============================] - 142s 106ms/step - loss: 0.5609 - auc: 0.7820 - val_loss: 0.4930 - val_auc: 0.8606\n",
      "Epoch 3/20\n",
      "1335/1335 [==============================] - 140s 105ms/step - loss: 0.4357 - auc: 0.8882 - val_loss: 0.3883 - val_auc: 0.9222\n",
      "Epoch 4/20\n",
      "1335/1335 [==============================] - 139s 104ms/step - loss: 0.3225 - auc: 0.9489 - val_loss: 0.2649 - val_auc: 0.9752\n",
      "Epoch 5/20\n",
      "1335/1335 [==============================] - 139s 104ms/step - loss: 0.2287 - auc: 0.9808 - val_loss: 0.2322 - val_auc: 0.9766\n",
      "Epoch 6/20\n",
      "1335/1335 [==============================] - 139s 104ms/step - loss: 0.1602 - auc: 0.9943 - val_loss: 0.1746 - val_auc: 0.9879\n",
      "Epoch 7/20\n",
      "1335/1335 [==============================] - 139s 104ms/step - loss: 0.1137 - auc: 0.9982 - val_loss: 0.1418 - val_auc: 0.9919\n",
      "Epoch 8/20\n",
      "1335/1335 [==============================] - 138s 103ms/step - loss: 0.0841 - auc: 0.9993 - val_loss: 0.1282 - val_auc: 0.9911\n",
      "Epoch 9/20\n",
      "1335/1335 [==============================] - 139s 104ms/step - loss: 0.0647 - auc: 0.9998 - val_loss: 0.1122 - val_auc: 0.9927\n",
      "Epoch 10/20\n",
      "1335/1335 [==============================] - 137s 103ms/step - loss: 0.0474 - auc: 1.0000 - val_loss: 0.0996 - val_auc: 0.9939\n",
      "Epoch 11/20\n",
      "1335/1335 [==============================] - 137s 103ms/step - loss: 0.0398 - auc: 1.0000 - val_loss: 0.0949 - val_auc: 0.9942\n",
      "Epoch 12/20\n",
      "1335/1335 [==============================] - 139s 104ms/step - loss: 0.0317 - auc: 1.0000 - val_loss: 0.0871 - val_auc: 0.9950\n",
      "Epoch 13/20\n",
      "1335/1335 [==============================] - 138s 104ms/step - loss: 0.0291 - auc: 1.0000 - val_loss: 0.1133 - val_auc: 0.9908\n",
      "Epoch 14/20\n",
      "1335/1335 [==============================] - 138s 104ms/step - loss: 0.0236 - auc: 1.0000 - val_loss: 0.0939 - val_auc: 0.9936\n",
      "Epoch 15/20\n",
      "1335/1335 [==============================] - 138s 104ms/step - loss: 0.0213 - auc: 1.0000 - val_loss: 0.0840 - val_auc: 0.9950\n",
      "Epoch 16/20\n",
      "1335/1335 [==============================] - 139s 104ms/step - loss: 0.0182 - auc: 1.0000 - val_loss: 0.0795 - val_auc: 0.9956\n",
      "Epoch 17/20\n",
      "1335/1335 [==============================] - 138s 104ms/step - loss: 0.0162 - auc: 1.0000 - val_loss: 0.0802 - val_auc: 0.9952\n",
      "Epoch 18/20\n",
      "1335/1335 [==============================] - 139s 104ms/step - loss: 0.0149 - auc: 1.0000 - val_loss: 0.0784 - val_auc: 0.9955\n",
      "Epoch 19/20\n",
      "1335/1335 [==============================] - 139s 104ms/step - loss: 0.0133 - auc: 1.0000 - val_loss: 0.0739 - val_auc: 0.9961\n",
      "Epoch 20/20\n",
      "1335/1335 [==============================] - 138s 104ms/step - loss: 0.0125 - auc: 1.0000 - val_loss: 0.0797 - val_auc: 0.9951\n",
      "Wall time: 46min 32s\n"
     ]
    }
   ],
   "source": [
    "%%time \n",
    "np.random.seed(0)\n",
    "random.seed(12)\n",
    "tf.random.set_seed(12)\n",
    "\n",
    "inpt = keras.Input(shape=(IMAGE_SIZE, IMAGE_SIZE, 1))\n",
    "\n",
    "h = keras.layers.experimental.preprocessing.Rescaling(1./255)(inpt)\n",
    "# h = data_augmentation(h)\n",
    "\n",
    "# convolutional layer!\n",
    "h = keras.layers.Conv2D(32, kernel_size=(3, 3),strides=(1,1), activation=\"relu\", name=\"Conv_1\", padding=\"valid\")(h) \n",
    "h = tf.keras.layers.BatchNormalization(axis=-1)(h)\n",
    "h = keras.layers.Conv2D(64, kernel_size=(3, 3),strides=(1,1), activation=\"relu\", name=\"Conv_2\", padding=\"same\")(h) \n",
    "h = tf.keras.layers.BatchNormalization(axis=-1)(h)\n",
    "# pooling layer\n",
    "h = keras.layers.MaxPool2D(pool_size=(2,2))(h) \n",
    "h = tf.keras.layers.BatchNormalization(axis=-1)(h)\n",
    "# convolutional layer!\n",
    "h = keras.layers.Conv2D(64, kernel_size=(3, 3), activation=\"relu\", name=\"Conv_3\",padding =\"same\")(h)\n",
    "# h = tf.keras.layers.BatchNormalization(axis=-1)(h)\n",
    "# pooling layer\n",
    "# h = keras.layers.MaxPool2D(pool_size=(1,1))(h)\n",
    "h = tf.keras.layers.BatchNormalization(axis=-1)(h)\n",
    "h = keras.layers.Conv2D(128, kernel_size=(3, 3), activation=\"relu\", name=\"Conv_4\",padding =\"valid\")(h)\n",
    "h = tf.keras.layers.BatchNormalization(axis=-1)(h)\n",
    "h = keras.layers.Conv2D(128, kernel_size=(3, 3), activation=\"relu\", name=\"Conv_5\",padding =\"same\")(h)\n",
    "h = tf.keras.layers.BatchNormalization(axis=-1)(h)\n",
    "h = keras.layers.MaxPool2D(pool_size=(2,2))(h)\n",
    "h = tf.keras.layers.BatchNormalization(axis=-1)(h)\n",
    "h = keras.layers.Dropout(0.3)(h)   \n",
    "\n",
    "h = keras.layers.Flatten()(h) \n",
    "# h = global_average_layer(h)\n",
    "h = keras.layers.Dense(128, activation='relu')(h)   \n",
    "\n",
    "output = keras.layers.Dense(2, activation=\"softmax\")(h)\n",
    "\n",
    "model = keras.Model(inpt, output)\n",
    "\n",
    "from tensorflow.keras.optimizers import SGD\n",
    "# opt = SGD(lr=0.1)\n",
    "\n",
    "checkpoint_filepath = FILENAME\n",
    "model_checkpoint_callback = tf.keras.callbacks.ModelCheckpoint(\n",
    "filepath=checkpoint_filepath,\n",
    "save_weights_only=False,\n",
    "monitor='val_auc',\n",
    "mode='max',\n",
    "save_best_only=True,\n",
    "save_freq='epoch')\n",
    "\n",
    "\n",
    "earlystop = tf.keras.callbacks.EarlyStopping(monitor='val_auc', patience=10)\n",
    "\n",
    "model.compile(loss='categorical_crossentropy',\n",
    "             optimizer=tf.keras.optimizers.SGD(learning_rate =0.0001),\n",
    "             metrics=[tf.keras.metrics.AUC()])\n",
    "\n",
    "history = model.fit(x=X_train, y = y_train, batch_size=8, epochs=20, callbacks=[model_checkpoint_callback, earlystop], validation_data= (X_valid, y_valid))"
   ]
  },
  {
   "cell_type": "code",
   "execution_count": 12,
   "id": "3bb50ab2",
   "metadata": {},
   "outputs": [],
   "source": [
    "def get_confusion_matrix(result3, threshold=0.5):\n",
    "\n",
    "    confusion_matrix = [[0, 0], [0, 0]]\n",
    "\n",
    "#     for i in range(len(result3)):\n",
    "#         threshold = 1 if result3.loc[i, \"MGMT_value_x\"] > threshold else 0\n",
    "#         confusion_matrix[result3.loc[i, \"MGMT_value_y\"]][threshold] += 1\n",
    "        \n",
    "    for idx, data in result3.iterrows():\n",
    "        res = 1 if data.MGMT_value_x > threshold else 0\n",
    "        confusion_matrix[int(data.MGMT_value_y)][res] += 1\n",
    "\n",
    "    return confusion_matrix\n",
    "\n",
    "def get_acc_recall(arr):\n",
    "    acc = sum((arr[0][0], arr[1][1]))/sum((sum(arr[0]), sum(arr[1])))\n",
    "    recall = arr[1][1] / sum(arr[1])\n",
    "    print(f\"Acc: {acc} \\t Recall: {recall}\")"
   ]
  },
  {
   "cell_type": "code",
   "execution_count": null,
   "id": "b5bcb678",
   "metadata": {},
   "outputs": [],
   "source": []
  },
  {
   "cell_type": "code",
   "execution_count": 13,
   "id": "fb0b1541",
   "metadata": {},
   "outputs": [],
   "source": [
    "def loss(y_true, y_pred):\n",
    "    return - (1 - theta(y_true - margin) * theta(y_pred - margin)\n",
    "                - theta(1 - margin - y_true) * theta(1 - margin - y_pred)\n",
    "             ) * (y_true * K.log(y_pred + 1e-8) + (1 - y_true) * K.log(1 - y_pred + 1e-8))\n",
    "\n",
    "import tensorflow as tf\n",
    "\n",
    "margin = 0.6\n",
    "theta = lambda t: (K.sign(t)+1.)/2.\n",
    "\n",
    "def mish(inputs):\n",
    "    x = tf.nn.softplus(inputs)\n",
    "    x = tf.nn.tanh(x)\n",
    "    x = tf.multiply(x, inputs)\n",
    "    return x\n",
    "\n",
    "\n",
    "\n",
    "\n",
    "model_path = [\n",
    " FILENAME,\n",
    "]\n",
    "\n",
    "pred_list = []\n",
    "for path in model_path:\n",
    "    model_best = tf.keras.models.load_model(filepath=path,custom_objects={\"loss\":loss,'leaky_relu': tf.nn.leaky_relu,'mish':mish})\n",
    "    \n",
    "#     sample = pd.read_csv(base_path + '/test_df.csv')\n",
    "    y_pred = model_best.predict(X_test)\n",
    "    #pred = np.argmax(y_pred, axis=1)\n",
    "    pred_list.append(y_pred)"
   ]
  },
  {
   "cell_type": "code",
   "execution_count": 14,
   "id": "86f164b5",
   "metadata": {},
   "outputs": [
    {
     "data": {
      "text/plain": [
       "(1,\n",
       " (2852, 2),\n",
       " [array([[0.9851634 , 0.01483663],\n",
       "         [0.92415583, 0.0758441 ],\n",
       "         [0.09986763, 0.90013236],\n",
       "         ...,\n",
       "         [0.95077467, 0.04922528],\n",
       "         [0.02318405, 0.97681594],\n",
       "         [0.82199126, 0.17800881]], dtype=float32)])"
      ]
     },
     "execution_count": 14,
     "metadata": {},
     "output_type": "execute_result"
    }
   ],
   "source": [
    "len(pred_list),pred_list[0].shape, pred_list"
   ]
  },
  {
   "cell_type": "code",
   "execution_count": 15,
   "id": "0065cff9",
   "metadata": {},
   "outputs": [],
   "source": [
    "sample = pd.read_csv(base_path + '/test_df.csv')\n",
    "# sample"
   ]
  },
  {
   "cell_type": "code",
   "execution_count": 16,
   "id": "4b7e850e",
   "metadata": {},
   "outputs": [],
   "source": [
    "y_pred = sum(pred_list)/len(pred_list)\n",
    "pred = np.argmax(y_pred, axis=1)\n",
    "result=pd.DataFrame(testidt)\n",
    "result[1]=pred \n",
    "result.columns=['BraTS21ID','MGMT_value']\n",
    "result2 = result.groupby('BraTS21ID',as_index=False).mean()\n",
    "result2['BraTS21ID'] = list(test_df_id)\n",
    "\n",
    "result2.to_csv('submission_best_score_2dcnn_test.csv',index=False)\n",
    "    \n",
    "result2['MGMT_value_y'] = list(test_df['MGMT_value'])\n",
    "result2.columns=[['BrsTS21ID','MGMT_value_x','MGMT_value_y']]\n"
   ]
  },
  {
   "cell_type": "code",
   "execution_count": 17,
   "id": "3066b3a5",
   "metadata": {},
   "outputs": [
    {
     "data": {
      "text/plain": [
       "94"
      ]
     },
     "execution_count": 17,
     "metadata": {},
     "output_type": "execute_result"
    }
   ],
   "source": [
    "len(list(test_df['MGMT_value']))"
   ]
  },
  {
   "cell_type": "code",
   "execution_count": 18,
   "id": "4055480a",
   "metadata": {},
   "outputs": [
    {
     "name": "stderr",
     "output_type": "stream",
     "text": [
      "No handles with labels found to put in legend.\n"
     ]
    },
    {
     "data": {
      "text/plain": [
       "<matplotlib.legend.Legend at 0x1f584b43670>"
      ]
     },
     "execution_count": 18,
     "metadata": {},
     "output_type": "execute_result"
    },
    {
     "data": {
      "image/png": "[encoded data removed]",
      "text/plain": [
       "<Figure size 360x360 with 1 Axes>"
      ]
     },
     "metadata": {
      "needs_background": "light"
     },
     "output_type": "display_data"
    }
   ],
   "source": [
    "plt.figure(figsize=(5, 5))\n",
    "plt.hist(result2[\"MGMT_value_x\"])\n",
    "plt.legend()"
   ]
  },
  {
   "cell_type": "code",
   "execution_count": 19,
   "id": "8932ed03",
   "metadata": {},
   "outputs": [
    {
     "name": "stdout",
     "output_type": "stream",
     "text": [
      "[[24, 20], [21, 29]]\n",
      "Acc: 0.5638297872340425 \t Recall: 0.58\n"
     ]
    }
   ],
   "source": [
    "arr = get_confusion_matrix(result2)\n",
    "print(arr)\n",
    "get_acc_recall(arr)"
   ]
  },
  {
   "cell_type": "code",
   "execution_count": null,
   "id": "6c260330",
   "metadata": {},
   "outputs": [],
   "source": []
  },
  {
   "cell_type": "code",
   "execution_count": 21,
   "id": "cbfecb44",
   "metadata": {},
   "outputs": [
    {
     "data": {
      "image/png": "[encoded data removed]",
      "text/plain": [
       "<Figure size 432x288 with 2 Axes>"
      ]
     },
     "metadata": {
      "needs_background": "light"
     },
     "output_type": "display_data"
    }
   ],
   "source": [
    "import matplotlib.pyplot as plt\n",
    "\n",
    "fig, loss_ax = plt.subplots()\n",
    "acc_ax = loss_ax.twinx()\n",
    "\n",
    "loss_ax.plot(history.history['loss'], 'y', label='train loss')\n",
    "loss_ax.plot(history.history['val_loss'], 'r', label='val loss')\n",
    "loss_ax.set_xlabel('epoch')\n",
    "loss_ax.set_ylabel('loss')\n",
    "loss_ax.legend(loc='upper left')\n",
    "\n",
    "acc_ax.plot(history.history['auc'], 'b', label='train acc')\n",
    "acc_ax.plot(history.history['val_auc'], 'g', label='val acc')\n",
    "acc_ax.set_ylabel('accuracy')\n",
    "acc_ax.legend(loc='upper right')\n",
    "\n",
    "plt.show()"
   ]
  },
  {
   "cell_type": "code",
   "execution_count": null,
   "id": "66e0c8e3",
   "metadata": {},
   "outputs": [],
   "source": []
  },
  {
   "cell_type": "code",
   "execution_count": null,
   "id": "71923b15",
   "metadata": {},
   "outputs": [],
   "source": []
  },
  {
   "cell_type": "code",
   "execution_count": null,
   "id": "d72235c8",
   "metadata": {},
   "outputs": [],
   "source": []
  }
 ],
 "metadata": {
  "kernelspec": {
   "display_name": "posecnn",
   "language": "python",
   "name": "posecnn"
  },
  "language_info": {
   "codemirror_mode": {
    "name": "ipython",
    "version": 3
   },
   "file_extension": ".py",
   "mimetype": "text/x-python",
   "name": "python",
   "nbconvert_exporter": "python",
   "pygments_lexer": "ipython3",
   "version": "3.9.7"
  }
 },
 "nbformat": 4,
 "nbformat_minor": 5
}
