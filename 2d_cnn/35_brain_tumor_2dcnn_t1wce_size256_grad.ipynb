{
 "cells": [
  {
   "cell_type": "code",
   "execution_count": 1,
   "id": "fe5ee03f",
   "metadata": {},
   "outputs": [],
   "source": [
    "import os\n",
    "import json\n",
    "import glob\n",
    "import random\n",
    "import collections\n",
    "\n",
    "import numpy as np\n",
    "import pandas as pd\n",
    "import pydicom\n",
    "from pydicom.pixel_data_handlers.util import apply_voi_lut, apply_modality_lut\n",
    "import cv2\n",
    "import matplotlib.pyplot as plt\n",
    "import seaborn as sns\n",
    "import random\n",
    "from tqdm.notebook import tqdm\n",
    "\n",
    "import tensorflow as tf\n",
    "from tensorflow import keras\n",
    "from sklearn.metrics import roc_auc_score\n",
    "from sklearn.model_selection import train_test_split\n",
    "from tensorflow.keras.utils import to_categorical\n",
    "from tensorflow.keras import layers"
   ]
  },
  {
   "cell_type": "code",
   "execution_count": 2,
   "id": "f29e1395",
   "metadata": {},
   "outputs": [],
   "source": [
    "IMAGE_SIZE = 256\n",
    "TYPES = [\"FLAIR\", \"T1w\", \"T2w\", \"T1wCE\"]\n",
    "# WHITE_THRESHOLD = 10 # out of 255\n",
    "EXCLUDE = [109, 123, 709]\n",
    "\n",
    "KERNEL_SIZE = (3,3)\n",
    "\n",
    "base_path = 'D:\\zerobase\\Brain_tumor'\n",
    "\n",
    "FILENAME = '35_best_model_2dcnn_t1wce_size256_grad.h5'\n",
    "IMAGETYPE = 'T1wCE'\n",
    "\n",
    "train_df = pd.read_csv(base_path + \"/train_df.csv\")\n",
    "valid_df = pd.read_csv(base_path + '/test_df.csv')\n",
    "train_df = train_df[~train_df.BraTS21ID.isin(EXCLUDE)]"
   ]
  },
  {
   "cell_type": "code",
   "execution_count": 3,
   "id": "814e42ea",
   "metadata": {},
   "outputs": [],
   "source": [
    "# X, test_X, y, test_y = train_test_split(train_df['BraTS21ID'], train_df['MGMT_value'], test_size=0.2, random_state=13, stratify=train_df['MGMT_value'])\n",
    "# train_df = pd.DataFrame({'BraTS21ID':X, 'MGMT_value':y})\n",
    "# test_df = pd.DataFrame({'BraTS21ID':test_X, 'MGMT_value':test_y})"
   ]
  },
  {
   "cell_type": "code",
   "execution_count": 4,
   "id": "bf044056",
   "metadata": {},
   "outputs": [],
   "source": [
    "# def load_dicom(path, size = 224):\n",
    "def load_dicom(path, IMAGE_SIZE):\n",
    "    ''' \n",
    "    Reads a DICOM image, standardizes so that the pixel values are between 0 and 1, then rescales to 0 and 255\n",
    "    \n",
    "    Note super sure if this kind of scaling is appropriate, but everyone seems to do it. \n",
    "    '''\n",
    "    dicom = pydicom.read_file(path)\n",
    "    data = dicom.pixel_array\n",
    "    \n",
    "#     data = apply_modality_lut(data, dicom)   # modality 적용\n",
    "#     data = apply_voi_lut(data,dicom)         # voi 적용\n",
    "    \n",
    "    if np.max(data) != 0:\n",
    "        data = data / np.max(data)\n",
    "    data = (data * 255).astype(np.uint8)\n",
    "    \n",
    "    k = cv2.getStructuringElement(cv2.MORPH_RECT,KERNEL_SIZE)  # tophat or gradient 적용시 활성화\n",
    "#     data = cv2.morphologyEx(data, cv2.MORPH_TOPHAT, k)       # tophat 적용\n",
    "    data = cv2.morphologyEx(data, cv2.MORPH_GRADIENT, k)       # gradient 적용\n",
    "    \n",
    "    return cv2.resize(data, (IMAGE_SIZE, IMAGE_SIZE))\n",
    "\n",
    "def get_all_image_paths(brats21id, image_type, folder='train'): \n",
    "    '''\n",
    "    Returns an arry of all the images of a particular type for a particular patient ID\n",
    "    '''\n",
    "    assert(image_type in TYPES), '이미지 타입 이름을 확인하세요'\n",
    "    \n",
    "    patient_path = os.path.join(\n",
    "        base_path + \"/%s/\" % folder, \n",
    "        str(brats21id).zfill(5),\n",
    "    )\n",
    "\n",
    "    paths = sorted(\n",
    "        glob.glob(os.path.join(patient_path, image_type, \"*\")), \n",
    "        key=lambda x: int(x[:-4].split(\"-\")[-1]),\n",
    "    )\n",
    "    \n",
    "    num_images = len(paths)\n",
    "    \n",
    "    start = int(num_images * 0.25)\n",
    "    end = int(num_images * 0.75)\n",
    "\n",
    "    interval = 3\n",
    "    \n",
    "    if num_images < 10: \n",
    "        interval = 1\n",
    "    \n",
    "    return np.array(paths[start:end:interval])\n",
    "\n",
    "def get_all_images(brats21id, image_type, folder='train', size = IMAGE_SIZE):\n",
    "    return [load_dicom(path, size) for path in get_all_image_paths(brats21id, image_type, folder)]\n",
    "\n",
    "\n",
    "def get_all_data_for_train(image_type):\n",
    "    global train_df\n",
    "    \n",
    "    X = []\n",
    "    y = []\n",
    "    train_ids = []\n",
    "\n",
    "    for i in tqdm(train_df.index):\n",
    "        x = train_df.loc[i]\n",
    "        images = get_all_images(int(x['BraTS21ID']), image_type, 'train', IMAGE_SIZE)\n",
    "        label = x['MGMT_value']\n",
    "\n",
    "        X += images\n",
    "        y += [label] * len(images)\n",
    "        train_ids += [int(x['BraTS21ID'])] * len(images)\n",
    "        assert(len(X) == len(y))\n",
    "    return np.array(X), np.array(y), np.array(train_ids)\n",
    "\n",
    "# def get_all_data_for_test(image_type):\n",
    "#     global test_df\n",
    "    \n",
    "#     X = []\n",
    "#     test_ids = []\n",
    "\n",
    "#     for i in tqdm(test_df.index):\n",
    "#         x = test_df.loc[i]\n",
    "#         images = get_all_images(int(x['BraTS21ID']), image_type, 'train', IMAGE_SIZE)\n",
    "#         X += images\n",
    "#         test_ids += [int(x['BraTS21ID'])] * len(images)\n",
    "\n",
    "#     return np.array(X), np.array(test_ids)\n",
    "\n"
   ]
  },
  {
   "cell_type": "code",
   "execution_count": 5,
   "id": "340485bc",
   "metadata": {},
   "outputs": [
    {
     "data": {
      "application/vnd.jupyter.widget-view+json": {
       "model_id": "171b94176da44be1bd5e2c91cd22f8a5",
       "version_major": 2,
       "version_minor": 0
      },
      "text/plain": [
       "  0%|          | 0/466 [00:00<?, ?it/s]"
      ]
     },
     "metadata": {},
     "output_type": "display_data"
    },
    {
     "data": {
      "text/plain": [
       "((12832, 256, 256), (12832,), (12832,))"
      ]
     },
     "execution_count": 5,
     "metadata": {},
     "output_type": "execute_result"
    }
   ],
   "source": [
    "X, y, trainidt = get_all_data_for_train(IMAGETYPE)\n",
    "# X_test, testidt = get_all_data_for_test('FLAIR')\n",
    "X.shape, y.shape, trainidt.shape"
   ]
  },
  {
   "cell_type": "code",
   "execution_count": 6,
   "id": "d8dbb7fa",
   "metadata": {},
   "outputs": [],
   "source": [
    "X_train, X_valid, y_train, y_valid, trainidt_train, trainidt_valid = train_test_split(X, y, trainidt, test_size=0.2, random_state=40)"
   ]
  },
  {
   "cell_type": "code",
   "execution_count": 7,
   "id": "055064b2",
   "metadata": {},
   "outputs": [
    {
     "data": {
      "text/plain": [
       "(TensorShape([10265, 256, 256, 1]),\n",
       " (10265, 2),\n",
       " TensorShape([2567, 256, 256, 1]),\n",
       " (2567, 2),\n",
       " (10265,),\n",
       " (2567,))"
      ]
     },
     "execution_count": 7,
     "metadata": {},
     "output_type": "execute_result"
    }
   ],
   "source": [
    "split = int(X.shape[0] * 0.8)\n",
    "\n",
    "# X_train = X[:split]\n",
    "# X_valid = X[split:]\n",
    "\n",
    "# y_train = y[:split]\n",
    "# y_valid = y[split:]\n",
    "\n",
    "# trainidt_train = trainidt[:split]\n",
    "# trainidt_valid = trainidt[split:]\n",
    "\n",
    "X_train = tf.expand_dims(X_train, axis=-1)\n",
    "X_valid = tf.expand_dims(X_valid, axis=-1)\n",
    "\n",
    "y_train = to_categorical(y_train)\n",
    "y_valid = to_categorical(y_valid)\n",
    "\n",
    "X_train.shape, y_train.shape, X_valid.shape, y_valid.shape, trainidt_train.shape, trainidt_valid.shape"
   ]
  },
  {
   "cell_type": "code",
   "execution_count": 8,
   "id": "4517c55a",
   "metadata": {},
   "outputs": [],
   "source": [
    "# global_average_layer = tf.keras.layers.GlobalAveragePooling2D()\n",
    "# data_augmentation = tf.keras.Sequential([\n",
    "#   tf.keras.layers.experimental.preprocessing.RandomFlip('horizontal'),\n",
    "#   tf.keras.layers.experimental.preprocessing.RandomRotation(0.2),\n",
    "# ])"
   ]
  },
  {
   "cell_type": "code",
   "execution_count": 9,
   "id": "33a3caed",
   "metadata": {
    "scrolled": true
   },
   "outputs": [
    {
     "name": "stdout",
     "output_type": "stream",
     "text": [
      "Epoch 1/50\n",
      "642/642 [==============================] - 140s 196ms/step - loss: 0.6887 - auc: 0.6362 - val_loss: 0.6363 - val_auc: 0.6947\n",
      "Epoch 2/50\n",
      "642/642 [==============================] - 123s 191ms/step - loss: 0.5687 - auc: 0.7749 - val_loss: 0.6217 - val_auc: 0.7236\n",
      "Epoch 3/50\n",
      "642/642 [==============================] - 123s 191ms/step - loss: 0.4720 - auc: 0.8608 - val_loss: 0.5413 - val_auc: 0.7999\n",
      "Epoch 4/50\n",
      "642/642 [==============================] - 123s 191ms/step - loss: 0.3829 - auc: 0.9184 - val_loss: 0.5646 - val_auc: 0.7778\n",
      "Epoch 5/50\n",
      "642/642 [==============================] - 127s 199ms/step - loss: 0.3047 - auc: 0.9553 - val_loss: 0.4823 - val_auc: 0.8498\n",
      "Epoch 6/50\n",
      "642/642 [==============================] - 126s 196ms/step - loss: 0.2361 - auc: 0.9784 - val_loss: 0.4376 - val_auc: 0.8782\n",
      "Epoch 7/50\n",
      "642/642 [==============================] - 125s 194ms/step - loss: 0.1898 - auc: 0.9886 - val_loss: 0.4021 - val_auc: 0.8996\n",
      "Epoch 8/50\n",
      "642/642 [==============================] - 126s 196ms/step - loss: 0.1489 - auc: 0.9951 - val_loss: 0.4216 - val_auc: 0.8891\n",
      "Epoch 9/50\n",
      "642/642 [==============================] - 127s 197ms/step - loss: 0.1236 - auc: 0.9973 - val_loss: 0.3957 - val_auc: 0.9034\n",
      "Epoch 10/50\n",
      "642/642 [==============================] - 125s 195ms/step - loss: 0.0988 - auc: 0.9989 - val_loss: 0.3854 - val_auc: 0.9087\n",
      "Epoch 11/50\n",
      "642/642 [==============================] - 131s 204ms/step - loss: 0.0832 - auc: 0.9993 - val_loss: 0.3773 - val_auc: 0.9128\n",
      "Epoch 12/50\n",
      "642/642 [==============================] - 136s 211ms/step - loss: 0.0698 - auc: 0.9997 - val_loss: 0.3650 - val_auc: 0.9188\n",
      "Epoch 13/50\n",
      "642/642 [==============================] - 133s 207ms/step - loss: 0.0598 - auc: 0.9998 - val_loss: 0.3686 - val_auc: 0.9182\n",
      "Epoch 14/50\n",
      "642/642 [==============================] - 133s 208ms/step - loss: 0.0532 - auc: 0.9999 - val_loss: 0.3644 - val_auc: 0.9207\n",
      "Epoch 15/50\n",
      "642/642 [==============================] - 132s 206ms/step - loss: 0.0478 - auc: 0.9999 - val_loss: 0.3481 - val_auc: 0.9270\n",
      "Epoch 16/50\n",
      "642/642 [==============================] - 133s 207ms/step - loss: 0.0398 - auc: 1.0000 - val_loss: 0.3481 - val_auc: 0.9276\n",
      "Epoch 17/50\n",
      "642/642 [==============================] - 130s 203ms/step - loss: 0.0376 - auc: 0.9999 - val_loss: 0.3443 - val_auc: 0.9289\n",
      "Epoch 18/50\n",
      "642/642 [==============================] - 126s 197ms/step - loss: 0.0338 - auc: 1.0000 - val_loss: 0.3501 - val_auc: 0.9280\n",
      "Epoch 19/50\n",
      "642/642 [==============================] - 126s 197ms/step - loss: 0.0310 - auc: 1.0000 - val_loss: 0.3516 - val_auc: 0.9277\n",
      "Epoch 20/50\n",
      "642/642 [==============================] - 128s 200ms/step - loss: 0.0281 - auc: 1.0000 - val_loss: 0.3383 - val_auc: 0.9322\n",
      "Epoch 21/50\n",
      "642/642 [==============================] - 125s 195ms/step - loss: 0.0254 - auc: 1.0000 - val_loss: 0.3413 - val_auc: 0.9316\n",
      "Epoch 22/50\n",
      "642/642 [==============================] - 126s 196ms/step - loss: 0.0237 - auc: 1.0000 - val_loss: 0.3447 - val_auc: 0.9310\n",
      "Epoch 23/50\n",
      "642/642 [==============================] - 126s 196ms/step - loss: 0.0222 - auc: 1.0000 - val_loss: 0.3410 - val_auc: 0.9327\n",
      "Epoch 24/50\n",
      "642/642 [==============================] - 125s 195ms/step - loss: 0.0207 - auc: 1.0000 - val_loss: 0.3441 - val_auc: 0.9320\n",
      "Epoch 25/50\n",
      "642/642 [==============================] - 125s 195ms/step - loss: 0.0190 - auc: 1.0000 - val_loss: 0.3448 - val_auc: 0.9320\n",
      "Epoch 26/50\n",
      "642/642 [==============================] - 126s 196ms/step - loss: 0.0183 - auc: 1.0000 - val_loss: 0.3392 - val_auc: 0.9340\n",
      "Epoch 27/50\n",
      "642/642 [==============================] - 126s 197ms/step - loss: 0.0173 - auc: 1.0000 - val_loss: 0.3422 - val_auc: 0.9332\n",
      "Epoch 28/50\n",
      "642/642 [==============================] - 129s 200ms/step - loss: 0.0159 - auc: 1.0000 - val_loss: 0.3420 - val_auc: 0.9339\n",
      "Epoch 29/50\n",
      "642/642 [==============================] - 127s 198ms/step - loss: 0.0154 - auc: 1.0000 - val_loss: 0.3389 - val_auc: 0.9350\n",
      "Epoch 30/50\n",
      "642/642 [==============================] - 127s 197ms/step - loss: 0.0149 - auc: 1.0000 - val_loss: 0.3411 - val_auc: 0.9349\n",
      "Epoch 31/50\n",
      "642/642 [==============================] - 128s 200ms/step - loss: 0.0140 - auc: 1.0000 - val_loss: 0.3357 - val_auc: 0.9359\n",
      "Epoch 32/50\n",
      "642/642 [==============================] - 131s 203ms/step - loss: 0.0136 - auc: 1.0000 - val_loss: 0.3494 - val_auc: 0.9327\n",
      "Epoch 33/50\n",
      "642/642 [==============================] - 129s 201ms/step - loss: 0.0126 - auc: 1.0000 - val_loss: 0.3396 - val_auc: 0.9355\n",
      "Epoch 34/50\n",
      "642/642 [==============================] - 129s 201ms/step - loss: 0.0123 - auc: 1.0000 - val_loss: 0.3397 - val_auc: 0.9359\n",
      "Epoch 35/50\n",
      "642/642 [==============================] - 127s 197ms/step - loss: 0.0121 - auc: 1.0000 - val_loss: 0.3468 - val_auc: 0.9345\n",
      "Epoch 36/50\n",
      "642/642 [==============================] - 127s 197ms/step - loss: 0.0112 - auc: 1.0000 - val_loss: 0.3353 - val_auc: 0.9369\n",
      "Epoch 37/50\n",
      "642/642 [==============================] - 127s 198ms/step - loss: 0.0114 - auc: 1.0000 - val_loss: 0.3358 - val_auc: 0.9373\n",
      "Epoch 38/50\n",
      "642/642 [==============================] - 126s 196ms/step - loss: 0.0108 - auc: 1.0000 - val_loss: 0.3405 - val_auc: 0.9366\n",
      "Epoch 39/50\n",
      "642/642 [==============================] - 126s 196ms/step - loss: 0.0104 - auc: 1.0000 - val_loss: 0.3396 - val_auc: 0.9364\n",
      "Epoch 40/50\n",
      "642/642 [==============================] - 128s 199ms/step - loss: 0.0098 - auc: 1.0000 - val_loss: 0.3352 - val_auc: 0.9381\n",
      "Epoch 41/50\n",
      "642/642 [==============================] - 127s 199ms/step - loss: 0.0100 - auc: 1.0000 - val_loss: 0.3448 - val_auc: 0.9362\n",
      "Epoch 42/50\n",
      "642/642 [==============================] - 130s 202ms/step - loss: 0.0090 - auc: 1.0000 - val_loss: 0.3330 - val_auc: 0.9390\n",
      "Epoch 43/50\n",
      "642/642 [==============================] - 127s 199ms/step - loss: 0.0091 - auc: 1.0000 - val_loss: 0.3401 - val_auc: 0.9375\n",
      "Epoch 44/50\n",
      "642/642 [==============================] - 128s 199ms/step - loss: 0.0086 - auc: 1.0000 - val_loss: 0.3353 - val_auc: 0.9385\n",
      "Epoch 45/50\n",
      "642/642 [==============================] - 129s 201ms/step - loss: 0.0084 - auc: 1.0000 - val_loss: 0.3402 - val_auc: 0.9378\n",
      "Epoch 46/50\n",
      "642/642 [==============================] - 129s 201ms/step - loss: 0.0080 - auc: 1.0000 - val_loss: 0.3345 - val_auc: 0.9394\n",
      "Epoch 47/50\n",
      "642/642 [==============================] - 127s 198ms/step - loss: 0.0081 - auc: 1.0000 - val_loss: 0.3450 - val_auc: 0.9371\n",
      "Epoch 48/50\n",
      "642/642 [==============================] - 127s 198ms/step - loss: 0.0080 - auc: 1.0000 - val_loss: 0.3400 - val_auc: 0.9384\n",
      "Epoch 49/50\n",
      "642/642 [==============================] - 128s 199ms/step - loss: 0.0077 - auc: 1.0000 - val_loss: 0.3456 - val_auc: 0.9373\n",
      "Epoch 50/50\n",
      "642/642 [==============================] - 127s 198ms/step - loss: 0.0076 - auc: 1.0000 - val_loss: 0.3404 - val_auc: 0.9384s - \n",
      "Wall time: 1h 46min 30s\n"
     ]
    }
   ],
   "source": [
    "%%time \n",
    "np.random.seed(0)\n",
    "random.seed(12)\n",
    "tf.random.set_seed(12)\n",
    "\n",
    "inpt = keras.Input(shape=(IMAGE_SIZE, IMAGE_SIZE, 1))\n",
    "\n",
    "h = keras.layers.experimental.preprocessing.Rescaling(1./255)(inpt)\n",
    "# h = data_augmentation(h)\n",
    "\n",
    "# convolutional layer!\n",
    "h = keras.layers.Conv2D(32, kernel_size=(3, 3),strides=(1,1), activation=\"relu\", name=\"Conv_1\", padding=\"valid\")(h) \n",
    "h = tf.keras.layers.BatchNormalization(axis=-1)(h)\n",
    "h = keras.layers.Conv2D(64, kernel_size=(3, 3),strides=(1,1), activation=\"relu\", name=\"Conv_2\", padding=\"same\")(h) \n",
    "h = tf.keras.layers.BatchNormalization(axis=-1)(h)\n",
    "# pooling layer\n",
    "h = keras.layers.MaxPool2D(pool_size=(2,2))(h) \n",
    "h = tf.keras.layers.BatchNormalization(axis=-1)(h)\n",
    "# convolutional layer!\n",
    "h = keras.layers.Conv2D(64, kernel_size=(3, 3), activation=\"relu\", name=\"Conv_3\",padding =\"same\")(h)\n",
    "# h = tf.keras.layers.BatchNormalization(axis=-1)(h)\n",
    "# pooling layer\n",
    "# h = keras.layers.MaxPool2D(pool_size=(1,1))(h)\n",
    "h = tf.keras.layers.BatchNormalization(axis=-1)(h)\n",
    "h = keras.layers.Conv2D(128, kernel_size=(3, 3), activation=\"relu\", name=\"Conv_4\",padding =\"valid\")(h)\n",
    "h = tf.keras.layers.BatchNormalization(axis=-1)(h)\n",
    "h = keras.layers.Conv2D(128, kernel_size=(3, 3), activation=\"relu\", name=\"Conv_5\",padding =\"same\")(h)\n",
    "h = tf.keras.layers.BatchNormalization(axis=-1)(h)\n",
    "h = keras.layers.MaxPool2D(pool_size=(2,2))(h)\n",
    "h = tf.keras.layers.BatchNormalization(axis=-1)(h)\n",
    "h = keras.layers.Dropout(0.3)(h)   \n",
    "\n",
    "h = keras.layers.Flatten()(h) \n",
    "# h = global_average_layer(h)\n",
    "h = keras.layers.Dense(128, activation='relu')(h)   \n",
    "\n",
    "output = keras.layers.Dense(2, activation=\"softmax\")(h)\n",
    "\n",
    "model = keras.Model(inpt, output)\n",
    "\n",
    "from tensorflow.keras.optimizers import SGD\n",
    "# opt = SGD(lr=0.1)\n",
    "\n",
    "checkpoint_filepath = FILENAME\n",
    "model_checkpoint_callback = tf.keras.callbacks.ModelCheckpoint(\n",
    "filepath=checkpoint_filepath,\n",
    "save_weights_only=False,\n",
    "monitor='val_auc',\n",
    "mode='max',\n",
    "save_best_only=True,\n",
    "save_freq='epoch')\n",
    "\n",
    "\n",
    "earlystop = tf.keras.callbacks.EarlyStopping(monitor='val_auc', patience=10)\n",
    "\n",
    "model.compile(loss='categorical_crossentropy',\n",
    "             optimizer=tf.keras.optimizers.SGD(learning_rate =0.0001),\n",
    "             metrics=[tf.keras.metrics.AUC()])\n",
    "\n",
    "history = model.fit(x=X_train, y = y_train, batch_size=16, epochs=50, callbacks=[model_checkpoint_callback, earlystop], validation_data= (X_valid, y_valid))"
   ]
  },
  {
   "cell_type": "code",
   "execution_count": 19,
   "id": "3bb50ab2",
   "metadata": {},
   "outputs": [],
   "source": [
    "def get_confusion_matrix(result3, threshold=0.5):\n",
    "\n",
    "    confusion_matrix = [[0, 0], [0, 0]]\n",
    "\n",
    "#     for i in range(len(result3)):\n",
    "#         threshold = 1 if result3.loc[i, \"MGMT_value_x\"] > threshold else 0\n",
    "#         confusion_matrix[result3.loc[i, \"MGMT_value_y\"]][threshold] += 1\n",
    "        \n",
    "    for idx, data in result3.iterrows():\n",
    "        res = 1 if data.MGMT_value_x > threshold else 0\n",
    "        confusion_matrix[int(data.MGMT_value_y)][res] += 1\n",
    "\n",
    "    return confusion_matrix\n",
    "\n",
    "def get_acc_recall(arr):\n",
    "    acc = sum((arr[0][0], arr[1][1]))/sum((sum(arr[0]), sum(arr[1])))\n",
    "    recall = arr[1][1] / sum(arr[1])\n",
    "    print(f\"Acc: {acc} \\t Recall: {recall}\")"
   ]
  },
  {
   "cell_type": "code",
   "execution_count": 20,
   "id": "b5bcb678",
   "metadata": {},
   "outputs": [],
   "source": [
    "def get_all_data_for_val(image_type):\n",
    "    global valid_df\n",
    "    \n",
    "    X = []\n",
    "    valid_ids = []\n",
    "\n",
    "    for i in tqdm(valid_df.index):\n",
    "        x = valid_df.loc[i]\n",
    "        images = get_all_images(int(x['BraTS21ID']), image_type, 'train', IMAGE_SIZE)\n",
    "        X += images\n",
    "        valid_ids += [int(x['BraTS21ID'])] * len(images)\n",
    "\n",
    "    return np.array(X), np.array(valid_ids)"
   ]
  },
  {
   "cell_type": "code",
   "execution_count": 21,
   "id": "fb0b1541",
   "metadata": {},
   "outputs": [
    {
     "data": {
      "application/vnd.jupyter.widget-view+json": {
       "model_id": "adecb42fc03d435cb3e60748edf4ac77",
       "version_major": 2,
       "version_minor": 0
      },
      "text/plain": [
       "  0%|          | 0/117 [00:00<?, ?it/s]"
      ]
     },
     "metadata": {},
     "output_type": "display_data"
    }
   ],
   "source": [
    "def loss(y_true, y_pred):\n",
    "    return - (1 - theta(y_true - margin) * theta(y_pred - margin)\n",
    "                - theta(1 - margin - y_true) * theta(1 - margin - y_pred)\n",
    "             ) * (y_true * K.log(y_pred + 1e-8) + (1 - y_true) * K.log(1 - y_pred + 1e-8))\n",
    "\n",
    "import tensorflow as tf\n",
    "\n",
    "margin = 0.6\n",
    "theta = lambda t: (K.sign(t)+1.)/2.\n",
    "\n",
    "def mish(inputs):\n",
    "    x = tf.nn.softplus(inputs)\n",
    "    x = tf.nn.tanh(x)\n",
    "    x = tf.multiply(x, inputs)\n",
    "    return x\n",
    "\n",
    "\n",
    "X_val, validt = get_all_data_for_val(IMAGETYPE)\n",
    "\n",
    "model_path = [\n",
    " FILENAME,\n",
    "]\n",
    "\n",
    "pred_list = []\n",
    "for path in model_path:\n",
    "    model_best = tf.keras.models.load_model(filepath=path,custom_objects={\"loss\":loss,'leaky_relu': tf.nn.leaky_relu,'mish':mish})\n",
    "    \n",
    "#     sample = pd.read_csv(base_path + '/test_df.csv')\n",
    "    y_pred = model_best.predict(X_val)\n",
    "    #pred = np.argmax(y_pred, axis=1)\n",
    "    pred_list.append(y_pred)"
   ]
  },
  {
   "cell_type": "code",
   "execution_count": 22,
   "id": "86f164b5",
   "metadata": {},
   "outputs": [
    {
     "data": {
      "text/plain": [
       "(1,\n",
       " (3368, 2),\n",
       " [array([[0.3140049 , 0.6859951 ],\n",
       "         [0.4876336 , 0.5123665 ],\n",
       "         [0.9970515 , 0.00294845],\n",
       "         ...,\n",
       "         [0.15535817, 0.84464186],\n",
       "         [0.7929212 , 0.20707881],\n",
       "         [0.26611784, 0.7338822 ]], dtype=float32)])"
      ]
     },
     "execution_count": 22,
     "metadata": {},
     "output_type": "execute_result"
    }
   ],
   "source": [
    "len(pred_list),pred_list[0].shape, pred_list"
   ]
  },
  {
   "cell_type": "code",
   "execution_count": 23,
   "id": "0065cff9",
   "metadata": {},
   "outputs": [],
   "source": [
    "sample = pd.read_csv(base_path + '/test_df.csv')\n",
    "# sample"
   ]
  },
  {
   "cell_type": "code",
   "execution_count": 24,
   "id": "4b7e850e",
   "metadata": {},
   "outputs": [],
   "source": [
    "y_pred = sum(pred_list)/len(pred_list)\n",
    "pred = np.argmax(y_pred, axis=1)\n",
    "result=pd.DataFrame(validt)\n",
    "result[1]=pred \n",
    "result.columns=['BraTS21ID','MGMT_value']\n",
    "result2 = result.groupby('BraTS21ID',as_index=False).mean()\n",
    "result2['BraTS21ID'] = sample['BraTS21ID']\n",
    "\n",
    "result2.to_csv('submission_best_score_2dcnn.csv',index=False)\n",
    "    \n",
    "result2['MGMT_value_y'] = valid_df['MGMT_value']\n",
    "result2.columns=[['BrsTS21ID','MGMT_value_x','MGMT_value_y']]\n"
   ]
  },
  {
   "cell_type": "code",
   "execution_count": 25,
   "id": "4055480a",
   "metadata": {},
   "outputs": [
    {
     "name": "stderr",
     "output_type": "stream",
     "text": [
      "No handles with labels found to put in legend.\n"
     ]
    },
    {
     "data": {
      "text/plain": [
       "<matplotlib.legend.Legend at 0x165c2ec19a0>"
      ]
     },
     "execution_count": 25,
     "metadata": {},
     "output_type": "execute_result"
    },
    {
     "data": {
      "image/png": "[encoded data removed]",
      "text/plain": [
       "<Figure size 360x360 with 1 Axes>"
      ]
     },
     "metadata": {
      "needs_background": "light"
     },
     "output_type": "display_data"
    }
   ],
   "source": [
    "plt.figure(figsize=(5, 5))\n",
    "plt.hist(result2[\"MGMT_value_x\"])\n",
    "plt.legend()"
   ]
  },
  {
   "cell_type": "code",
   "execution_count": 26,
   "id": "8932ed03",
   "metadata": {},
   "outputs": [
    {
     "name": "stdout",
     "output_type": "stream",
     "text": [
      "[[22, 34], [27, 34]]\n",
      "Acc: 0.47863247863247865 \t Recall: 0.5573770491803278\n"
     ]
    }
   ],
   "source": [
    "arr = get_confusion_matrix(result2)\n",
    "print(arr)\n",
    "get_acc_recall(arr)"
   ]
  },
  {
   "cell_type": "code",
   "execution_count": null,
   "id": "6c260330",
   "metadata": {},
   "outputs": [],
   "source": []
  },
  {
   "cell_type": "code",
   "execution_count": 27,
   "id": "cbfecb44",
   "metadata": {},
   "outputs": [
    {
     "data": {
      "image/png": "[encoded data removed]",
      "text/plain": [
       "<Figure size 432x288 with 2 Axes>"
      ]
     },
     "metadata": {
      "needs_background": "light"
     },
     "output_type": "display_data"
    }
   ],
   "source": [
    "import matplotlib.pyplot as plt\n",
    "\n",
    "fig, loss_ax = plt.subplots()\n",
    "acc_ax = loss_ax.twinx()\n",
    "\n",
    "loss_ax.plot(history.history['loss'], 'y', label='train loss')\n",
    "loss_ax.plot(history.history['val_loss'], 'r', label='val loss')\n",
    "loss_ax.set_xlabel('epoch')\n",
    "loss_ax.set_ylabel('loss')\n",
    "loss_ax.legend(loc='upper left')\n",
    "\n",
    "acc_ax.plot(history.history['auc'], 'b', label='train acc')\n",
    "acc_ax.plot(history.history['val_auc'], 'g', label='val acc')\n",
    "acc_ax.set_ylabel('accuracy')\n",
    "acc_ax.legend(loc='upper right')\n",
    "\n",
    "plt.show()"
   ]
  },
  {
   "cell_type": "code",
   "execution_count": null,
   "id": "66e0c8e3",
   "metadata": {},
   "outputs": [],
   "source": []
  },
  {
   "cell_type": "code",
   "execution_count": null,
   "id": "71923b15",
   "metadata": {},
   "outputs": [],
   "source": []
  },
  {
   "cell_type": "code",
   "execution_count": null,
   "id": "0d5edad3",
   "metadata": {},
   "outputs": [],
   "source": []
  }
 ],
 "metadata": {
  "kernelspec": {
   "display_name": "posecnn",
   "language": "python",
   "name": "posecnn"
  },
  "language_info": {
   "codemirror_mode": {
    "name": "ipython",
    "version": 3
   },
   "file_extension": ".py",
   "mimetype": "text/x-python",
   "name": "python",
   "nbconvert_exporter": "python",
   "pygments_lexer": "ipython3",
   "version": "3.9.7"
  }
 },
 "nbformat": 4,
 "nbformat_minor": 5
}
