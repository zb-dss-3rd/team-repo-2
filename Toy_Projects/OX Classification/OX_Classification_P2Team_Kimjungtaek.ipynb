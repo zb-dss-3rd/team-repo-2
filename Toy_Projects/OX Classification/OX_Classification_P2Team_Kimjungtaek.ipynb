{
  "nbformat": 4,
  "nbformat_minor": 0,
  "metadata": {
    "colab": {
      "provenance": [],
      "collapsed_sections": [],
      "toc_visible": true
    },
    "kernelspec": {
      "name": "python3",
      "display_name": "Python 3"
    },
    "language_info": {
      "name": "python"
    },
    "gpuClass": "standard",
    "widgets": {
      "application/vnd.jupyter.widget-state+json": {
        "148aec3278624626a81c66853cf5d269": {
          "model_module": "@jupyter-widgets/controls",
          "model_name": "HBoxModel",
          "model_module_version": "1.5.0",
          "state": {
            "_dom_classes": [],
            "_model_module": "@jupyter-widgets/controls",
            "_model_module_version": "1.5.0",
            "_model_name": "HBoxModel",
            "_view_count": null,
            "_view_module": "@jupyter-widgets/controls",
            "_view_module_version": "1.5.0",
            "_view_name": "HBoxView",
            "box_style": "",
            "children": [
              "IPY_MODEL_8c25c6751e3d462582d81346d5ec3672",
              "IPY_MODEL_f32fec047b18436aad04517b89140cc8",
              "IPY_MODEL_fc62d7e3b02d4ddc99f134c8db42351e"
            ],
            "layout": "IPY_MODEL_8e2359e4fa3546bab070860a047ae3de"
          }
        },
        "8c25c6751e3d462582d81346d5ec3672": {
          "model_module": "@jupyter-widgets/controls",
          "model_name": "HTMLModel",
          "model_module_version": "1.5.0",
          "state": {
            "_dom_classes": [],
            "_model_module": "@jupyter-widgets/controls",
            "_model_module_version": "1.5.0",
            "_model_name": "HTMLModel",
            "_view_count": null,
            "_view_module": "@jupyter-widgets/controls",
            "_view_module_version": "1.5.0",
            "_view_name": "HTMLView",
            "description": "",
            "description_tooltip": null,
            "layout": "IPY_MODEL_f1124a8c62214d51aad89dbabbdffba5",
            "placeholder": "​",
            "style": "IPY_MODEL_eb58bcad535046a2a506a974935616f6",
            "value": "100%"
          }
        },
        "f32fec047b18436aad04517b89140cc8": {
          "model_module": "@jupyter-widgets/controls",
          "model_name": "FloatProgressModel",
          "model_module_version": "1.5.0",
          "state": {
            "_dom_classes": [],
            "_model_module": "@jupyter-widgets/controls",
            "_model_module_version": "1.5.0",
            "_model_name": "FloatProgressModel",
            "_view_count": null,
            "_view_module": "@jupyter-widgets/controls",
            "_view_module_version": "1.5.0",
            "_view_name": "ProgressView",
            "bar_style": "success",
            "description": "",
            "description_tooltip": null,
            "layout": "IPY_MODEL_85956a5557e546fd9790f024bf4107e8",
            "max": 32,
            "min": 0,
            "orientation": "horizontal",
            "style": "IPY_MODEL_36528982195f4f7781c96514e629ff07",
            "value": 32
          }
        },
        "fc62d7e3b02d4ddc99f134c8db42351e": {
          "model_module": "@jupyter-widgets/controls",
          "model_name": "HTMLModel",
          "model_module_version": "1.5.0",
          "state": {
            "_dom_classes": [],
            "_model_module": "@jupyter-widgets/controls",
            "_model_module_version": "1.5.0",
            "_model_name": "HTMLModel",
            "_view_count": null,
            "_view_module": "@jupyter-widgets/controls",
            "_view_module_version": "1.5.0",
            "_view_name": "HTMLView",
            "description": "",
            "description_tooltip": null,
            "layout": "IPY_MODEL_38efbcfe3277470c9fd76e7c2114d047",
            "placeholder": "​",
            "style": "IPY_MODEL_84df669a164941b7848a25785bfd7bbc",
            "value": " 32/32 [00:00&lt;00:00, 83.81it/s]"
          }
        },
        "8e2359e4fa3546bab070860a047ae3de": {
          "model_module": "@jupyter-widgets/base",
          "model_name": "LayoutModel",
          "model_module_version": "1.2.0",
          "state": {
            "_model_module": "@jupyter-widgets/base",
            "_model_module_version": "1.2.0",
            "_model_name": "LayoutModel",
            "_view_count": null,
            "_view_module": "@jupyter-widgets/base",
            "_view_module_version": "1.2.0",
            "_view_name": "LayoutView",
            "align_content": null,
            "align_items": null,
            "align_self": null,
            "border": null,
            "bottom": null,
            "display": null,
            "flex": null,
            "flex_flow": null,
            "grid_area": null,
            "grid_auto_columns": null,
            "grid_auto_flow": null,
            "grid_auto_rows": null,
            "grid_column": null,
            "grid_gap": null,
            "grid_row": null,
            "grid_template_areas": null,
            "grid_template_columns": null,
            "grid_template_rows": null,
            "height": null,
            "justify_content": null,
            "justify_items": null,
            "left": null,
            "margin": null,
            "max_height": null,
            "max_width": null,
            "min_height": null,
            "min_width": null,
            "object_fit": null,
            "object_position": null,
            "order": null,
            "overflow": null,
            "overflow_x": null,
            "overflow_y": null,
            "padding": null,
            "right": null,
            "top": null,
            "visibility": null,
            "width": null
          }
        },
        "f1124a8c62214d51aad89dbabbdffba5": {
          "model_module": "@jupyter-widgets/base",
          "model_name": "LayoutModel",
          "model_module_version": "1.2.0",
          "state": {
            "_model_module": "@jupyter-widgets/base",
            "_model_module_version": "1.2.0",
            "_model_name": "LayoutModel",
            "_view_count": null,
            "_view_module": "@jupyter-widgets/base",
            "_view_module_version": "1.2.0",
            "_view_name": "LayoutView",
            "align_content": null,
            "align_items": null,
            "align_self": null,
            "border": null,
            "bottom": null,
            "display": null,
            "flex": null,
            "flex_flow": null,
            "grid_area": null,
            "grid_auto_columns": null,
            "grid_auto_flow": null,
            "grid_auto_rows": null,
            "grid_column": null,
            "grid_gap": null,
            "grid_row": null,
            "grid_template_areas": null,
            "grid_template_columns": null,
            "grid_template_rows": null,
            "height": null,
            "justify_content": null,
            "justify_items": null,
            "left": null,
            "margin": null,
            "max_height": null,
            "max_width": null,
            "min_height": null,
            "min_width": null,
            "object_fit": null,
            "object_position": null,
            "order": null,
            "overflow": null,
            "overflow_x": null,
            "overflow_y": null,
            "padding": null,
            "right": null,
            "top": null,
            "visibility": null,
            "width": null
          }
        },
        "eb58bcad535046a2a506a974935616f6": {
          "model_module": "@jupyter-widgets/controls",
          "model_name": "DescriptionStyleModel",
          "model_module_version": "1.5.0",
          "state": {
            "_model_module": "@jupyter-widgets/controls",
            "_model_module_version": "1.5.0",
            "_model_name": "DescriptionStyleModel",
            "_view_count": null,
            "_view_module": "@jupyter-widgets/base",
            "_view_module_version": "1.2.0",
            "_view_name": "StyleView",
            "description_width": ""
          }
        },
        "85956a5557e546fd9790f024bf4107e8": {
          "model_module": "@jupyter-widgets/base",
          "model_name": "LayoutModel",
          "model_module_version": "1.2.0",
          "state": {
            "_model_module": "@jupyter-widgets/base",
            "_model_module_version": "1.2.0",
            "_model_name": "LayoutModel",
            "_view_count": null,
            "_view_module": "@jupyter-widgets/base",
            "_view_module_version": "1.2.0",
            "_view_name": "LayoutView",
            "align_content": null,
            "align_items": null,
            "align_self": null,
            "border": null,
            "bottom": null,
            "display": null,
            "flex": null,
            "flex_flow": null,
            "grid_area": null,
            "grid_auto_columns": null,
            "grid_auto_flow": null,
            "grid_auto_rows": null,
            "grid_column": null,
            "grid_gap": null,
            "grid_row": null,
            "grid_template_areas": null,
            "grid_template_columns": null,
            "grid_template_rows": null,
            "height": null,
            "justify_content": null,
            "justify_items": null,
            "left": null,
            "margin": null,
            "max_height": null,
            "max_width": null,
            "min_height": null,
            "min_width": null,
            "object_fit": null,
            "object_position": null,
            "order": null,
            "overflow": null,
            "overflow_x": null,
            "overflow_y": null,
            "padding": null,
            "right": null,
            "top": null,
            "visibility": null,
            "width": null
          }
        },
        "36528982195f4f7781c96514e629ff07": {
          "model_module": "@jupyter-widgets/controls",
          "model_name": "ProgressStyleModel",
          "model_module_version": "1.5.0",
          "state": {
            "_model_module": "@jupyter-widgets/controls",
            "_model_module_version": "1.5.0",
            "_model_name": "ProgressStyleModel",
            "_view_count": null,
            "_view_module": "@jupyter-widgets/base",
            "_view_module_version": "1.2.0",
            "_view_name": "StyleView",
            "bar_color": null,
            "description_width": ""
          }
        },
        "38efbcfe3277470c9fd76e7c2114d047": {
          "model_module": "@jupyter-widgets/base",
          "model_name": "LayoutModel",
          "model_module_version": "1.2.0",
          "state": {
            "_model_module": "@jupyter-widgets/base",
            "_model_module_version": "1.2.0",
            "_model_name": "LayoutModel",
            "_view_count": null,
            "_view_module": "@jupyter-widgets/base",
            "_view_module_version": "1.2.0",
            "_view_name": "LayoutView",
            "align_content": null,
            "align_items": null,
            "align_self": null,
            "border": null,
            "bottom": null,
            "display": null,
            "flex": null,
            "flex_flow": null,
            "grid_area": null,
            "grid_auto_columns": null,
            "grid_auto_flow": null,
            "grid_auto_rows": null,
            "grid_column": null,
            "grid_gap": null,
            "grid_row": null,
            "grid_template_areas": null,
            "grid_template_columns": null,
            "grid_template_rows": null,
            "height": null,
            "justify_content": null,
            "justify_items": null,
            "left": null,
            "margin": null,
            "max_height": null,
            "max_width": null,
            "min_height": null,
            "min_width": null,
            "object_fit": null,
            "object_position": null,
            "order": null,
            "overflow": null,
            "overflow_x": null,
            "overflow_y": null,
            "padding": null,
            "right": null,
            "top": null,
            "visibility": null,
            "width": null
          }
        },
        "84df669a164941b7848a25785bfd7bbc": {
          "model_module": "@jupyter-widgets/controls",
          "model_name": "DescriptionStyleModel",
          "model_module_version": "1.5.0",
          "state": {
            "_model_module": "@jupyter-widgets/controls",
            "_model_module_version": "1.5.0",
            "_model_name": "DescriptionStyleModel",
            "_view_count": null,
            "_view_module": "@jupyter-widgets/base",
            "_view_module_version": "1.2.0",
            "_view_name": "StyleView",
            "description_width": ""
          }
        },
        "5a6fac29fa5b4c6fb5a9e815f4a2fa12": {
          "model_module": "@jupyter-widgets/controls",
          "model_name": "HBoxModel",
          "model_module_version": "1.5.0",
          "state": {
            "_dom_classes": [],
            "_model_module": "@jupyter-widgets/controls",
            "_model_module_version": "1.5.0",
            "_model_name": "HBoxModel",
            "_view_count": null,
            "_view_module": "@jupyter-widgets/controls",
            "_view_module_version": "1.5.0",
            "_view_name": "HBoxView",
            "box_style": "",
            "children": [
              "IPY_MODEL_05d9ff57550242e385de78ed995a6764",
              "IPY_MODEL_94a4d2ec1d0440d382cd926dba8aa045",
              "IPY_MODEL_acc2dd18bd204768b5344c60f119a037"
            ],
            "layout": "IPY_MODEL_0562497f0a194022ab70e8e53a484153"
          }
        },
        "05d9ff57550242e385de78ed995a6764": {
          "model_module": "@jupyter-widgets/controls",
          "model_name": "HTMLModel",
          "model_module_version": "1.5.0",
          "state": {
            "_dom_classes": [],
            "_model_module": "@jupyter-widgets/controls",
            "_model_module_version": "1.5.0",
            "_model_name": "HTMLModel",
            "_view_count": null,
            "_view_module": "@jupyter-widgets/controls",
            "_view_module_version": "1.5.0",
            "_view_name": "HTMLView",
            "description": "",
            "description_tooltip": null,
            "layout": "IPY_MODEL_724a8af933284a3eb989d45999ecfaa7",
            "placeholder": "​",
            "style": "IPY_MODEL_dd85e4ac51774b9ab80dc831cd1f58ee",
            "value": "100%"
          }
        },
        "94a4d2ec1d0440d382cd926dba8aa045": {
          "model_module": "@jupyter-widgets/controls",
          "model_name": "FloatProgressModel",
          "model_module_version": "1.5.0",
          "state": {
            "_dom_classes": [],
            "_model_module": "@jupyter-widgets/controls",
            "_model_module_version": "1.5.0",
            "_model_name": "FloatProgressModel",
            "_view_count": null,
            "_view_module": "@jupyter-widgets/controls",
            "_view_module_version": "1.5.0",
            "_view_name": "ProgressView",
            "bar_style": "success",
            "description": "",
            "description_tooltip": null,
            "layout": "IPY_MODEL_69d69d0e07ce4d58be2d2d8534bb599f",
            "max": 32,
            "min": 0,
            "orientation": "horizontal",
            "style": "IPY_MODEL_520d1ce257f543f6bec6ae65d37fdf9e",
            "value": 32
          }
        },
        "acc2dd18bd204768b5344c60f119a037": {
          "model_module": "@jupyter-widgets/controls",
          "model_name": "HTMLModel",
          "model_module_version": "1.5.0",
          "state": {
            "_dom_classes": [],
            "_model_module": "@jupyter-widgets/controls",
            "_model_module_version": "1.5.0",
            "_model_name": "HTMLModel",
            "_view_count": null,
            "_view_module": "@jupyter-widgets/controls",
            "_view_module_version": "1.5.0",
            "_view_name": "HTMLView",
            "description": "",
            "description_tooltip": null,
            "layout": "IPY_MODEL_5044699c520a48cbadf49c63bb59f9cf",
            "placeholder": "​",
            "style": "IPY_MODEL_b9dc6c4f6234419c965565bf775c5a02",
            "value": " 32/32 [00:00&lt;00:00, 83.37it/s]"
          }
        },
        "0562497f0a194022ab70e8e53a484153": {
          "model_module": "@jupyter-widgets/base",
          "model_name": "LayoutModel",
          "model_module_version": "1.2.0",
          "state": {
            "_model_module": "@jupyter-widgets/base",
            "_model_module_version": "1.2.0",
            "_model_name": "LayoutModel",
            "_view_count": null,
            "_view_module": "@jupyter-widgets/base",
            "_view_module_version": "1.2.0",
            "_view_name": "LayoutView",
            "align_content": null,
            "align_items": null,
            "align_self": null,
            "border": null,
            "bottom": null,
            "display": null,
            "flex": null,
            "flex_flow": null,
            "grid_area": null,
            "grid_auto_columns": null,
            "grid_auto_flow": null,
            "grid_auto_rows": null,
            "grid_column": null,
            "grid_gap": null,
            "grid_row": null,
            "grid_template_areas": null,
            "grid_template_columns": null,
            "grid_template_rows": null,
            "height": null,
            "justify_content": null,
            "justify_items": null,
            "left": null,
            "margin": null,
            "max_height": null,
            "max_width": null,
            "min_height": null,
            "min_width": null,
            "object_fit": null,
            "object_position": null,
            "order": null,
            "overflow": null,
            "overflow_x": null,
            "overflow_y": null,
            "padding": null,
            "right": null,
            "top": null,
            "visibility": null,
            "width": null
          }
        },
        "724a8af933284a3eb989d45999ecfaa7": {
          "model_module": "@jupyter-widgets/base",
          "model_name": "LayoutModel",
          "model_module_version": "1.2.0",
          "state": {
            "_model_module": "@jupyter-widgets/base",
            "_model_module_version": "1.2.0",
            "_model_name": "LayoutModel",
            "_view_count": null,
            "_view_module": "@jupyter-widgets/base",
            "_view_module_version": "1.2.0",
            "_view_name": "LayoutView",
            "align_content": null,
            "align_items": null,
            "align_self": null,
            "border": null,
            "bottom": null,
            "display": null,
            "flex": null,
            "flex_flow": null,
            "grid_area": null,
            "grid_auto_columns": null,
            "grid_auto_flow": null,
            "grid_auto_rows": null,
            "grid_column": null,
            "grid_gap": null,
            "grid_row": null,
            "grid_template_areas": null,
            "grid_template_columns": null,
            "grid_template_rows": null,
            "height": null,
            "justify_content": null,
            "justify_items": null,
            "left": null,
            "margin": null,
            "max_height": null,
            "max_width": null,
            "min_height": null,
            "min_width": null,
            "object_fit": null,
            "object_position": null,
            "order": null,
            "overflow": null,
            "overflow_x": null,
            "overflow_y": null,
            "padding": null,
            "right": null,
            "top": null,
            "visibility": null,
            "width": null
          }
        },
        "dd85e4ac51774b9ab80dc831cd1f58ee": {
          "model_module": "@jupyter-widgets/controls",
          "model_name": "DescriptionStyleModel",
          "model_module_version": "1.5.0",
          "state": {
            "_model_module": "@jupyter-widgets/controls",
            "_model_module_version": "1.5.0",
            "_model_name": "DescriptionStyleModel",
            "_view_count": null,
            "_view_module": "@jupyter-widgets/base",
            "_view_module_version": "1.2.0",
            "_view_name": "StyleView",
            "description_width": ""
          }
        },
        "69d69d0e07ce4d58be2d2d8534bb599f": {
          "model_module": "@jupyter-widgets/base",
          "model_name": "LayoutModel",
          "model_module_version": "1.2.0",
          "state": {
            "_model_module": "@jupyter-widgets/base",
            "_model_module_version": "1.2.0",
            "_model_name": "LayoutModel",
            "_view_count": null,
            "_view_module": "@jupyter-widgets/base",
            "_view_module_version": "1.2.0",
            "_view_name": "LayoutView",
            "align_content": null,
            "align_items": null,
            "align_self": null,
            "border": null,
            "bottom": null,
            "display": null,
            "flex": null,
            "flex_flow": null,
            "grid_area": null,
            "grid_auto_columns": null,
            "grid_auto_flow": null,
            "grid_auto_rows": null,
            "grid_column": null,
            "grid_gap": null,
            "grid_row": null,
            "grid_template_areas": null,
            "grid_template_columns": null,
            "grid_template_rows": null,
            "height": null,
            "justify_content": null,
            "justify_items": null,
            "left": null,
            "margin": null,
            "max_height": null,
            "max_width": null,
            "min_height": null,
            "min_width": null,
            "object_fit": null,
            "object_position": null,
            "order": null,
            "overflow": null,
            "overflow_x": null,
            "overflow_y": null,
            "padding": null,
            "right": null,
            "top": null,
            "visibility": null,
            "width": null
          }
        },
        "520d1ce257f543f6bec6ae65d37fdf9e": {
          "model_module": "@jupyter-widgets/controls",
          "model_name": "ProgressStyleModel",
          "model_module_version": "1.5.0",
          "state": {
            "_model_module": "@jupyter-widgets/controls",
            "_model_module_version": "1.5.0",
            "_model_name": "ProgressStyleModel",
            "_view_count": null,
            "_view_module": "@jupyter-widgets/base",
            "_view_module_version": "1.2.0",
            "_view_name": "StyleView",
            "bar_color": null,
            "description_width": ""
          }
        },
        "5044699c520a48cbadf49c63bb59f9cf": {
          "model_module": "@jupyter-widgets/base",
          "model_name": "LayoutModel",
          "model_module_version": "1.2.0",
          "state": {
            "_model_module": "@jupyter-widgets/base",
            "_model_module_version": "1.2.0",
            "_model_name": "LayoutModel",
            "_view_count": null,
            "_view_module": "@jupyter-widgets/base",
            "_view_module_version": "1.2.0",
            "_view_name": "LayoutView",
            "align_content": null,
            "align_items": null,
            "align_self": null,
            "border": null,
            "bottom": null,
            "display": null,
            "flex": null,
            "flex_flow": null,
            "grid_area": null,
            "grid_auto_columns": null,
            "grid_auto_flow": null,
            "grid_auto_rows": null,
            "grid_column": null,
            "grid_gap": null,
            "grid_row": null,
            "grid_template_areas": null,
            "grid_template_columns": null,
            "grid_template_rows": null,
            "height": null,
            "justify_content": null,
            "justify_items": null,
            "left": null,
            "margin": null,
            "max_height": null,
            "max_width": null,
            "min_height": null,
            "min_width": null,
            "object_fit": null,
            "object_position": null,
            "order": null,
            "overflow": null,
            "overflow_x": null,
            "overflow_y": null,
            "padding": null,
            "right": null,
            "top": null,
            "visibility": null,
            "width": null
          }
        },
        "b9dc6c4f6234419c965565bf775c5a02": {
          "model_module": "@jupyter-widgets/controls",
          "model_name": "DescriptionStyleModel",
          "model_module_version": "1.5.0",
          "state": {
            "_model_module": "@jupyter-widgets/controls",
            "_model_module_version": "1.5.0",
            "_model_name": "DescriptionStyleModel",
            "_view_count": null,
            "_view_module": "@jupyter-widgets/base",
            "_view_module_version": "1.2.0",
            "_view_name": "StyleView",
            "description_width": ""
          }
        },
        "f4a9cedfed5445ac84ea4d94f0a56c6c": {
          "model_module": "@jupyter-widgets/controls",
          "model_name": "HBoxModel",
          "model_module_version": "1.5.0",
          "state": {
            "_dom_classes": [],
            "_model_module": "@jupyter-widgets/controls",
            "_model_module_version": "1.5.0",
            "_model_name": "HBoxModel",
            "_view_count": null,
            "_view_module": "@jupyter-widgets/controls",
            "_view_module_version": "1.5.0",
            "_view_name": "HBoxView",
            "box_style": "",
            "children": [
              "IPY_MODEL_3bdd90fb6dc94649a220346c8b333399",
              "IPY_MODEL_62fcf134f0274cc0876340b56ae75e72",
              "IPY_MODEL_7fc7e31dc0c043789baf02db211c65ea"
            ],
            "layout": "IPY_MODEL_0a710a0e12c34bd38988b5122a1629a9"
          }
        },
        "3bdd90fb6dc94649a220346c8b333399": {
          "model_module": "@jupyter-widgets/controls",
          "model_name": "HTMLModel",
          "model_module_version": "1.5.0",
          "state": {
            "_dom_classes": [],
            "_model_module": "@jupyter-widgets/controls",
            "_model_module_version": "1.5.0",
            "_model_name": "HTMLModel",
            "_view_count": null,
            "_view_module": "@jupyter-widgets/controls",
            "_view_module_version": "1.5.0",
            "_view_name": "HTMLView",
            "description": "",
            "description_tooltip": null,
            "layout": "IPY_MODEL_85587a73a38b44219a380531d5ed3e9d",
            "placeholder": "​",
            "style": "IPY_MODEL_42f00f62e4364df6a78318d5450b8aef",
            "value": "100%"
          }
        },
        "62fcf134f0274cc0876340b56ae75e72": {
          "model_module": "@jupyter-widgets/controls",
          "model_name": "FloatProgressModel",
          "model_module_version": "1.5.0",
          "state": {
            "_dom_classes": [],
            "_model_module": "@jupyter-widgets/controls",
            "_model_module_version": "1.5.0",
            "_model_name": "FloatProgressModel",
            "_view_count": null,
            "_view_module": "@jupyter-widgets/controls",
            "_view_module_version": "1.5.0",
            "_view_name": "ProgressView",
            "bar_style": "success",
            "description": "",
            "description_tooltip": null,
            "layout": "IPY_MODEL_f7de97e1ca434b73af6cd9d75a7aeb44",
            "max": 8,
            "min": 0,
            "orientation": "horizontal",
            "style": "IPY_MODEL_03cf5f3fd8134fc397fba73526693f2d",
            "value": 8
          }
        },
        "7fc7e31dc0c043789baf02db211c65ea": {
          "model_module": "@jupyter-widgets/controls",
          "model_name": "HTMLModel",
          "model_module_version": "1.5.0",
          "state": {
            "_dom_classes": [],
            "_model_module": "@jupyter-widgets/controls",
            "_model_module_version": "1.5.0",
            "_model_name": "HTMLModel",
            "_view_count": null,
            "_view_module": "@jupyter-widgets/controls",
            "_view_module_version": "1.5.0",
            "_view_name": "HTMLView",
            "description": "",
            "description_tooltip": null,
            "layout": "IPY_MODEL_1068edad37fd42d5946b1d99a2d42982",
            "placeholder": "​",
            "style": "IPY_MODEL_e4d6bb976e4d4008832c9af4edd89f4a",
            "value": " 8/8 [00:02&lt;00:00,  3.50it/s]"
          }
        },
        "0a710a0e12c34bd38988b5122a1629a9": {
          "model_module": "@jupyter-widgets/base",
          "model_name": "LayoutModel",
          "model_module_version": "1.2.0",
          "state": {
            "_model_module": "@jupyter-widgets/base",
            "_model_module_version": "1.2.0",
            "_model_name": "LayoutModel",
            "_view_count": null,
            "_view_module": "@jupyter-widgets/base",
            "_view_module_version": "1.2.0",
            "_view_name": "LayoutView",
            "align_content": null,
            "align_items": null,
            "align_self": null,
            "border": null,
            "bottom": null,
            "display": null,
            "flex": null,
            "flex_flow": null,
            "grid_area": null,
            "grid_auto_columns": null,
            "grid_auto_flow": null,
            "grid_auto_rows": null,
            "grid_column": null,
            "grid_gap": null,
            "grid_row": null,
            "grid_template_areas": null,
            "grid_template_columns": null,
            "grid_template_rows": null,
            "height": null,
            "justify_content": null,
            "justify_items": null,
            "left": null,
            "margin": null,
            "max_height": null,
            "max_width": null,
            "min_height": null,
            "min_width": null,
            "object_fit": null,
            "object_position": null,
            "order": null,
            "overflow": null,
            "overflow_x": null,
            "overflow_y": null,
            "padding": null,
            "right": null,
            "top": null,
            "visibility": null,
            "width": null
          }
        },
        "85587a73a38b44219a380531d5ed3e9d": {
          "model_module": "@jupyter-widgets/base",
          "model_name": "LayoutModel",
          "model_module_version": "1.2.0",
          "state": {
            "_model_module": "@jupyter-widgets/base",
            "_model_module_version": "1.2.0",
            "_model_name": "LayoutModel",
            "_view_count": null,
            "_view_module": "@jupyter-widgets/base",
            "_view_module_version": "1.2.0",
            "_view_name": "LayoutView",
            "align_content": null,
            "align_items": null,
            "align_self": null,
            "border": null,
            "bottom": null,
            "display": null,
            "flex": null,
            "flex_flow": null,
            "grid_area": null,
            "grid_auto_columns": null,
            "grid_auto_flow": null,
            "grid_auto_rows": null,
            "grid_column": null,
            "grid_gap": null,
            "grid_row": null,
            "grid_template_areas": null,
            "grid_template_columns": null,
            "grid_template_rows": null,
            "height": null,
            "justify_content": null,
            "justify_items": null,
            "left": null,
            "margin": null,
            "max_height": null,
            "max_width": null,
            "min_height": null,
            "min_width": null,
            "object_fit": null,
            "object_position": null,
            "order": null,
            "overflow": null,
            "overflow_x": null,
            "overflow_y": null,
            "padding": null,
            "right": null,
            "top": null,
            "visibility": null,
            "width": null
          }
        },
        "42f00f62e4364df6a78318d5450b8aef": {
          "model_module": "@jupyter-widgets/controls",
          "model_name": "DescriptionStyleModel",
          "model_module_version": "1.5.0",
          "state": {
            "_model_module": "@jupyter-widgets/controls",
            "_model_module_version": "1.5.0",
            "_model_name": "DescriptionStyleModel",
            "_view_count": null,
            "_view_module": "@jupyter-widgets/base",
            "_view_module_version": "1.2.0",
            "_view_name": "StyleView",
            "description_width": ""
          }
        },
        "f7de97e1ca434b73af6cd9d75a7aeb44": {
          "model_module": "@jupyter-widgets/base",
          "model_name": "LayoutModel",
          "model_module_version": "1.2.0",
          "state": {
            "_model_module": "@jupyter-widgets/base",
            "_model_module_version": "1.2.0",
            "_model_name": "LayoutModel",
            "_view_count": null,
            "_view_module": "@jupyter-widgets/base",
            "_view_module_version": "1.2.0",
            "_view_name": "LayoutView",
            "align_content": null,
            "align_items": null,
            "align_self": null,
            "border": null,
            "bottom": null,
            "display": null,
            "flex": null,
            "flex_flow": null,
            "grid_area": null,
            "grid_auto_columns": null,
            "grid_auto_flow": null,
            "grid_auto_rows": null,
            "grid_column": null,
            "grid_gap": null,
            "grid_row": null,
            "grid_template_areas": null,
            "grid_template_columns": null,
            "grid_template_rows": null,
            "height": null,
            "justify_content": null,
            "justify_items": null,
            "left": null,
            "margin": null,
            "max_height": null,
            "max_width": null,
            "min_height": null,
            "min_width": null,
            "object_fit": null,
            "object_position": null,
            "order": null,
            "overflow": null,
            "overflow_x": null,
            "overflow_y": null,
            "padding": null,
            "right": null,
            "top": null,
            "visibility": null,
            "width": null
          }
        },
        "03cf5f3fd8134fc397fba73526693f2d": {
          "model_module": "@jupyter-widgets/controls",
          "model_name": "ProgressStyleModel",
          "model_module_version": "1.5.0",
          "state": {
            "_model_module": "@jupyter-widgets/controls",
            "_model_module_version": "1.5.0",
            "_model_name": "ProgressStyleModel",
            "_view_count": null,
            "_view_module": "@jupyter-widgets/base",
            "_view_module_version": "1.2.0",
            "_view_name": "StyleView",
            "bar_color": null,
            "description_width": ""
          }
        },
        "1068edad37fd42d5946b1d99a2d42982": {
          "model_module": "@jupyter-widgets/base",
          "model_name": "LayoutModel",
          "model_module_version": "1.2.0",
          "state": {
            "_model_module": "@jupyter-widgets/base",
            "_model_module_version": "1.2.0",
            "_model_name": "LayoutModel",
            "_view_count": null,
            "_view_module": "@jupyter-widgets/base",
            "_view_module_version": "1.2.0",
            "_view_name": "LayoutView",
            "align_content": null,
            "align_items": null,
            "align_self": null,
            "border": null,
            "bottom": null,
            "display": null,
            "flex": null,
            "flex_flow": null,
            "grid_area": null,
            "grid_auto_columns": null,
            "grid_auto_flow": null,
            "grid_auto_rows": null,
            "grid_column": null,
            "grid_gap": null,
            "grid_row": null,
            "grid_template_areas": null,
            "grid_template_columns": null,
            "grid_template_rows": null,
            "height": null,
            "justify_content": null,
            "justify_items": null,
            "left": null,
            "margin": null,
            "max_height": null,
            "max_width": null,
            "min_height": null,
            "min_width": null,
            "object_fit": null,
            "object_position": null,
            "order": null,
            "overflow": null,
            "overflow_x": null,
            "overflow_y": null,
            "padding": null,
            "right": null,
            "top": null,
            "visibility": null,
            "width": null
          }
        },
        "e4d6bb976e4d4008832c9af4edd89f4a": {
          "model_module": "@jupyter-widgets/controls",
          "model_name": "DescriptionStyleModel",
          "model_module_version": "1.5.0",
          "state": {
            "_model_module": "@jupyter-widgets/controls",
            "_model_module_version": "1.5.0",
            "_model_name": "DescriptionStyleModel",
            "_view_count": null,
            "_view_module": "@jupyter-widgets/base",
            "_view_module_version": "1.2.0",
            "_view_name": "StyleView",
            "description_width": ""
          }
        },
        "abf9aefef48e45d2986c27a92b58a878": {
          "model_module": "@jupyter-widgets/controls",
          "model_name": "HBoxModel",
          "model_module_version": "1.5.0",
          "state": {
            "_dom_classes": [],
            "_model_module": "@jupyter-widgets/controls",
            "_model_module_version": "1.5.0",
            "_model_name": "HBoxModel",
            "_view_count": null,
            "_view_module": "@jupyter-widgets/controls",
            "_view_module_version": "1.5.0",
            "_view_name": "HBoxView",
            "box_style": "",
            "children": [
              "IPY_MODEL_785f0b76af9d49098d7da24fa6f5e0e9",
              "IPY_MODEL_5c5d1e50636a40488cac69fadd941154",
              "IPY_MODEL_43246db04fb94e3e81d4c8b35cd6a43b"
            ],
            "layout": "IPY_MODEL_3e59a148f6bb4dbfafbde8282588a8bc"
          }
        },
        "785f0b76af9d49098d7da24fa6f5e0e9": {
          "model_module": "@jupyter-widgets/controls",
          "model_name": "HTMLModel",
          "model_module_version": "1.5.0",
          "state": {
            "_dom_classes": [],
            "_model_module": "@jupyter-widgets/controls",
            "_model_module_version": "1.5.0",
            "_model_name": "HTMLModel",
            "_view_count": null,
            "_view_module": "@jupyter-widgets/controls",
            "_view_module_version": "1.5.0",
            "_view_name": "HTMLView",
            "description": "",
            "description_tooltip": null,
            "layout": "IPY_MODEL_fb308aab86134b959af01d2fa3058f75",
            "placeholder": "​",
            "style": "IPY_MODEL_1eee3f2bb1ba4f10ac5bf157765f64cb",
            "value": "100%"
          }
        },
        "5c5d1e50636a40488cac69fadd941154": {
          "model_module": "@jupyter-widgets/controls",
          "model_name": "FloatProgressModel",
          "model_module_version": "1.5.0",
          "state": {
            "_dom_classes": [],
            "_model_module": "@jupyter-widgets/controls",
            "_model_module_version": "1.5.0",
            "_model_name": "FloatProgressModel",
            "_view_count": null,
            "_view_module": "@jupyter-widgets/controls",
            "_view_module_version": "1.5.0",
            "_view_name": "ProgressView",
            "bar_style": "success",
            "description": "",
            "description_tooltip": null,
            "layout": "IPY_MODEL_d7fbfc0721cd4c35ad9f13ee2bcc5c58",
            "max": 8,
            "min": 0,
            "orientation": "horizontal",
            "style": "IPY_MODEL_e0089e82405741f58bf7d4af8f454018",
            "value": 8
          }
        },
        "43246db04fb94e3e81d4c8b35cd6a43b": {
          "model_module": "@jupyter-widgets/controls",
          "model_name": "HTMLModel",
          "model_module_version": "1.5.0",
          "state": {
            "_dom_classes": [],
            "_model_module": "@jupyter-widgets/controls",
            "_model_module_version": "1.5.0",
            "_model_name": "HTMLModel",
            "_view_count": null,
            "_view_module": "@jupyter-widgets/controls",
            "_view_module_version": "1.5.0",
            "_view_name": "HTMLView",
            "description": "",
            "description_tooltip": null,
            "layout": "IPY_MODEL_b7b0f979a0e4460482631e2df4fd9e73",
            "placeholder": "​",
            "style": "IPY_MODEL_cb0f28bc0fc54f8285d5c317637e4b23",
            "value": " 8/8 [00:02&lt;00:00,  3.04it/s]"
          }
        },
        "3e59a148f6bb4dbfafbde8282588a8bc": {
          "model_module": "@jupyter-widgets/base",
          "model_name": "LayoutModel",
          "model_module_version": "1.2.0",
          "state": {
            "_model_module": "@jupyter-widgets/base",
            "_model_module_version": "1.2.0",
            "_model_name": "LayoutModel",
            "_view_count": null,
            "_view_module": "@jupyter-widgets/base",
            "_view_module_version": "1.2.0",
            "_view_name": "LayoutView",
            "align_content": null,
            "align_items": null,
            "align_self": null,
            "border": null,
            "bottom": null,
            "display": null,
            "flex": null,
            "flex_flow": null,
            "grid_area": null,
            "grid_auto_columns": null,
            "grid_auto_flow": null,
            "grid_auto_rows": null,
            "grid_column": null,
            "grid_gap": null,
            "grid_row": null,
            "grid_template_areas": null,
            "grid_template_columns": null,
            "grid_template_rows": null,
            "height": null,
            "justify_content": null,
            "justify_items": null,
            "left": null,
            "margin": null,
            "max_height": null,
            "max_width": null,
            "min_height": null,
            "min_width": null,
            "object_fit": null,
            "object_position": null,
            "order": null,
            "overflow": null,
            "overflow_x": null,
            "overflow_y": null,
            "padding": null,
            "right": null,
            "top": null,
            "visibility": null,
            "width": null
          }
        },
        "fb308aab86134b959af01d2fa3058f75": {
          "model_module": "@jupyter-widgets/base",
          "model_name": "LayoutModel",
          "model_module_version": "1.2.0",
          "state": {
            "_model_module": "@jupyter-widgets/base",
            "_model_module_version": "1.2.0",
            "_model_name": "LayoutModel",
            "_view_count": null,
            "_view_module": "@jupyter-widgets/base",
            "_view_module_version": "1.2.0",
            "_view_name": "LayoutView",
            "align_content": null,
            "align_items": null,
            "align_self": null,
            "border": null,
            "bottom": null,
            "display": null,
            "flex": null,
            "flex_flow": null,
            "grid_area": null,
            "grid_auto_columns": null,
            "grid_auto_flow": null,
            "grid_auto_rows": null,
            "grid_column": null,
            "grid_gap": null,
            "grid_row": null,
            "grid_template_areas": null,
            "grid_template_columns": null,
            "grid_template_rows": null,
            "height": null,
            "justify_content": null,
            "justify_items": null,
            "left": null,
            "margin": null,
            "max_height": null,
            "max_width": null,
            "min_height": null,
            "min_width": null,
            "object_fit": null,
            "object_position": null,
            "order": null,
            "overflow": null,
            "overflow_x": null,
            "overflow_y": null,
            "padding": null,
            "right": null,
            "top": null,
            "visibility": null,
            "width": null
          }
        },
        "1eee3f2bb1ba4f10ac5bf157765f64cb": {
          "model_module": "@jupyter-widgets/controls",
          "model_name": "DescriptionStyleModel",
          "model_module_version": "1.5.0",
          "state": {
            "_model_module": "@jupyter-widgets/controls",
            "_model_module_version": "1.5.0",
            "_model_name": "DescriptionStyleModel",
            "_view_count": null,
            "_view_module": "@jupyter-widgets/base",
            "_view_module_version": "1.2.0",
            "_view_name": "StyleView",
            "description_width": ""
          }
        },
        "d7fbfc0721cd4c35ad9f13ee2bcc5c58": {
          "model_module": "@jupyter-widgets/base",
          "model_name": "LayoutModel",
          "model_module_version": "1.2.0",
          "state": {
            "_model_module": "@jupyter-widgets/base",
            "_model_module_version": "1.2.0",
            "_model_name": "LayoutModel",
            "_view_count": null,
            "_view_module": "@jupyter-widgets/base",
            "_view_module_version": "1.2.0",
            "_view_name": "LayoutView",
            "align_content": null,
            "align_items": null,
            "align_self": null,
            "border": null,
            "bottom": null,
            "display": null,
            "flex": null,
            "flex_flow": null,
            "grid_area": null,
            "grid_auto_columns": null,
            "grid_auto_flow": null,
            "grid_auto_rows": null,
            "grid_column": null,
            "grid_gap": null,
            "grid_row": null,
            "grid_template_areas": null,
            "grid_template_columns": null,
            "grid_template_rows": null,
            "height": null,
            "justify_content": null,
            "justify_items": null,
            "left": null,
            "margin": null,
            "max_height": null,
            "max_width": null,
            "min_height": null,
            "min_width": null,
            "object_fit": null,
            "object_position": null,
            "order": null,
            "overflow": null,
            "overflow_x": null,
            "overflow_y": null,
            "padding": null,
            "right": null,
            "top": null,
            "visibility": null,
            "width": null
          }
        },
        "e0089e82405741f58bf7d4af8f454018": {
          "model_module": "@jupyter-widgets/controls",
          "model_name": "ProgressStyleModel",
          "model_module_version": "1.5.0",
          "state": {
            "_model_module": "@jupyter-widgets/controls",
            "_model_module_version": "1.5.0",
            "_model_name": "ProgressStyleModel",
            "_view_count": null,
            "_view_module": "@jupyter-widgets/base",
            "_view_module_version": "1.2.0",
            "_view_name": "StyleView",
            "bar_color": null,
            "description_width": ""
          }
        },
        "b7b0f979a0e4460482631e2df4fd9e73": {
          "model_module": "@jupyter-widgets/base",
          "model_name": "LayoutModel",
          "model_module_version": "1.2.0",
          "state": {
            "_model_module": "@jupyter-widgets/base",
            "_model_module_version": "1.2.0",
            "_model_name": "LayoutModel",
            "_view_count": null,
            "_view_module": "@jupyter-widgets/base",
            "_view_module_version": "1.2.0",
            "_view_name": "LayoutView",
            "align_content": null,
            "align_items": null,
            "align_self": null,
            "border": null,
            "bottom": null,
            "display": null,
            "flex": null,
            "flex_flow": null,
            "grid_area": null,
            "grid_auto_columns": null,
            "grid_auto_flow": null,
            "grid_auto_rows": null,
            "grid_column": null,
            "grid_gap": null,
            "grid_row": null,
            "grid_template_areas": null,
            "grid_template_columns": null,
            "grid_template_rows": null,
            "height": null,
            "justify_content": null,
            "justify_items": null,
            "left": null,
            "margin": null,
            "max_height": null,
            "max_width": null,
            "min_height": null,
            "min_width": null,
            "object_fit": null,
            "object_position": null,
            "order": null,
            "overflow": null,
            "overflow_x": null,
            "overflow_y": null,
            "padding": null,
            "right": null,
            "top": null,
            "visibility": null,
            "width": null
          }
        },
        "cb0f28bc0fc54f8285d5c317637e4b23": {
          "model_module": "@jupyter-widgets/controls",
          "model_name": "DescriptionStyleModel",
          "model_module_version": "1.5.0",
          "state": {
            "_model_module": "@jupyter-widgets/controls",
            "_model_module_version": "1.5.0",
            "_model_name": "DescriptionStyleModel",
            "_view_count": null,
            "_view_module": "@jupyter-widgets/base",
            "_view_module_version": "1.2.0",
            "_view_name": "StyleView",
            "description_width": ""
          }
        },
        "d3e8a517d9ee401b81f743148ca94131": {
          "model_module": "@jupyter-widgets/controls",
          "model_name": "HBoxModel",
          "model_module_version": "1.5.0",
          "state": {
            "_dom_classes": [],
            "_model_module": "@jupyter-widgets/controls",
            "_model_module_version": "1.5.0",
            "_model_name": "HBoxModel",
            "_view_count": null,
            "_view_module": "@jupyter-widgets/controls",
            "_view_module_version": "1.5.0",
            "_view_name": "HBoxView",
            "box_style": "",
            "children": [
              "IPY_MODEL_e9275bb3341e46fab29b32c30fb230e8",
              "IPY_MODEL_e4743cdc96a44081b763b96467743fa6",
              "IPY_MODEL_4edd286a82c64f9fb1c89bf85fc87741"
            ],
            "layout": "IPY_MODEL_a9d2c218da524715a865cb3ca2aa7180"
          }
        },
        "e9275bb3341e46fab29b32c30fb230e8": {
          "model_module": "@jupyter-widgets/controls",
          "model_name": "HTMLModel",
          "model_module_version": "1.5.0",
          "state": {
            "_dom_classes": [],
            "_model_module": "@jupyter-widgets/controls",
            "_model_module_version": "1.5.0",
            "_model_name": "HTMLModel",
            "_view_count": null,
            "_view_module": "@jupyter-widgets/controls",
            "_view_module_version": "1.5.0",
            "_view_name": "HTMLView",
            "description": "",
            "description_tooltip": null,
            "layout": "IPY_MODEL_54ffa164ba774c5080dba89dfd886b59",
            "placeholder": "​",
            "style": "IPY_MODEL_d5ace35c868b454281940b0b6e4c9f4f",
            "value": "100%"
          }
        },
        "e4743cdc96a44081b763b96467743fa6": {
          "model_module": "@jupyter-widgets/controls",
          "model_name": "FloatProgressModel",
          "model_module_version": "1.5.0",
          "state": {
            "_dom_classes": [],
            "_model_module": "@jupyter-widgets/controls",
            "_model_module_version": "1.5.0",
            "_model_name": "FloatProgressModel",
            "_view_count": null,
            "_view_module": "@jupyter-widgets/controls",
            "_view_module_version": "1.5.0",
            "_view_name": "ProgressView",
            "bar_style": "success",
            "description": "",
            "description_tooltip": null,
            "layout": "IPY_MODEL_0741d93a7ebd4d6a9b3e70192e8d4dac",
            "max": 20,
            "min": 0,
            "orientation": "horizontal",
            "style": "IPY_MODEL_78ff1ecbe91741548f457967101fecc3",
            "value": 20
          }
        },
        "4edd286a82c64f9fb1c89bf85fc87741": {
          "model_module": "@jupyter-widgets/controls",
          "model_name": "HTMLModel",
          "model_module_version": "1.5.0",
          "state": {
            "_dom_classes": [],
            "_model_module": "@jupyter-widgets/controls",
            "_model_module_version": "1.5.0",
            "_model_name": "HTMLModel",
            "_view_count": null,
            "_view_module": "@jupyter-widgets/controls",
            "_view_module_version": "1.5.0",
            "_view_name": "HTMLView",
            "description": "",
            "description_tooltip": null,
            "layout": "IPY_MODEL_d31c166a2bb34562b0ed191641e4f00c",
            "placeholder": "​",
            "style": "IPY_MODEL_df4550a3d82545c69a6616acf4cda54a",
            "value": " 20/20 [00:00&lt;00:00, 86.22it/s]"
          }
        },
        "a9d2c218da524715a865cb3ca2aa7180": {
          "model_module": "@jupyter-widgets/base",
          "model_name": "LayoutModel",
          "model_module_version": "1.2.0",
          "state": {
            "_model_module": "@jupyter-widgets/base",
            "_model_module_version": "1.2.0",
            "_model_name": "LayoutModel",
            "_view_count": null,
            "_view_module": "@jupyter-widgets/base",
            "_view_module_version": "1.2.0",
            "_view_name": "LayoutView",
            "align_content": null,
            "align_items": null,
            "align_self": null,
            "border": null,
            "bottom": null,
            "display": null,
            "flex": null,
            "flex_flow": null,
            "grid_area": null,
            "grid_auto_columns": null,
            "grid_auto_flow": null,
            "grid_auto_rows": null,
            "grid_column": null,
            "grid_gap": null,
            "grid_row": null,
            "grid_template_areas": null,
            "grid_template_columns": null,
            "grid_template_rows": null,
            "height": null,
            "justify_content": null,
            "justify_items": null,
            "left": null,
            "margin": null,
            "max_height": null,
            "max_width": null,
            "min_height": null,
            "min_width": null,
            "object_fit": null,
            "object_position": null,
            "order": null,
            "overflow": null,
            "overflow_x": null,
            "overflow_y": null,
            "padding": null,
            "right": null,
            "top": null,
            "visibility": null,
            "width": null
          }
        },
        "54ffa164ba774c5080dba89dfd886b59": {
          "model_module": "@jupyter-widgets/base",
          "model_name": "LayoutModel",
          "model_module_version": "1.2.0",
          "state": {
            "_model_module": "@jupyter-widgets/base",
            "_model_module_version": "1.2.0",
            "_model_name": "LayoutModel",
            "_view_count": null,
            "_view_module": "@jupyter-widgets/base",
            "_view_module_version": "1.2.0",
            "_view_name": "LayoutView",
            "align_content": null,
            "align_items": null,
            "align_self": null,
            "border": null,
            "bottom": null,
            "display": null,
            "flex": null,
            "flex_flow": null,
            "grid_area": null,
            "grid_auto_columns": null,
            "grid_auto_flow": null,
            "grid_auto_rows": null,
            "grid_column": null,
            "grid_gap": null,
            "grid_row": null,
            "grid_template_areas": null,
            "grid_template_columns": null,
            "grid_template_rows": null,
            "height": null,
            "justify_content": null,
            "justify_items": null,
            "left": null,
            "margin": null,
            "max_height": null,
            "max_width": null,
            "min_height": null,
            "min_width": null,
            "object_fit": null,
            "object_position": null,
            "order": null,
            "overflow": null,
            "overflow_x": null,
            "overflow_y": null,
            "padding": null,
            "right": null,
            "top": null,
            "visibility": null,
            "width": null
          }
        },
        "d5ace35c868b454281940b0b6e4c9f4f": {
          "model_module": "@jupyter-widgets/controls",
          "model_name": "DescriptionStyleModel",
          "model_module_version": "1.5.0",
          "state": {
            "_model_module": "@jupyter-widgets/controls",
            "_model_module_version": "1.5.0",
            "_model_name": "DescriptionStyleModel",
            "_view_count": null,
            "_view_module": "@jupyter-widgets/base",
            "_view_module_version": "1.2.0",
            "_view_name": "StyleView",
            "description_width": ""
          }
        },
        "0741d93a7ebd4d6a9b3e70192e8d4dac": {
          "model_module": "@jupyter-widgets/base",
          "model_name": "LayoutModel",
          "model_module_version": "1.2.0",
          "state": {
            "_model_module": "@jupyter-widgets/base",
            "_model_module_version": "1.2.0",
            "_model_name": "LayoutModel",
            "_view_count": null,
            "_view_module": "@jupyter-widgets/base",
            "_view_module_version": "1.2.0",
            "_view_name": "LayoutView",
            "align_content": null,
            "align_items": null,
            "align_self": null,
            "border": null,
            "bottom": null,
            "display": null,
            "flex": null,
            "flex_flow": null,
            "grid_area": null,
            "grid_auto_columns": null,
            "grid_auto_flow": null,
            "grid_auto_rows": null,
            "grid_column": null,
            "grid_gap": null,
            "grid_row": null,
            "grid_template_areas": null,
            "grid_template_columns": null,
            "grid_template_rows": null,
            "height": null,
            "justify_content": null,
            "justify_items": null,
            "left": null,
            "margin": null,
            "max_height": null,
            "max_width": null,
            "min_height": null,
            "min_width": null,
            "object_fit": null,
            "object_position": null,
            "order": null,
            "overflow": null,
            "overflow_x": null,
            "overflow_y": null,
            "padding": null,
            "right": null,
            "top": null,
            "visibility": null,
            "width": null
          }
        },
        "78ff1ecbe91741548f457967101fecc3": {
          "model_module": "@jupyter-widgets/controls",
          "model_name": "ProgressStyleModel",
          "model_module_version": "1.5.0",
          "state": {
            "_model_module": "@jupyter-widgets/controls",
            "_model_module_version": "1.5.0",
            "_model_name": "ProgressStyleModel",
            "_view_count": null,
            "_view_module": "@jupyter-widgets/base",
            "_view_module_version": "1.2.0",
            "_view_name": "StyleView",
            "bar_color": null,
            "description_width": ""
          }
        },
        "d31c166a2bb34562b0ed191641e4f00c": {
          "model_module": "@jupyter-widgets/base",
          "model_name": "LayoutModel",
          "model_module_version": "1.2.0",
          "state": {
            "_model_module": "@jupyter-widgets/base",
            "_model_module_version": "1.2.0",
            "_model_name": "LayoutModel",
            "_view_count": null,
            "_view_module": "@jupyter-widgets/base",
            "_view_module_version": "1.2.0",
            "_view_name": "LayoutView",
            "align_content": null,
            "align_items": null,
            "align_self": null,
            "border": null,
            "bottom": null,
            "display": null,
            "flex": null,
            "flex_flow": null,
            "grid_area": null,
            "grid_auto_columns": null,
            "grid_auto_flow": null,
            "grid_auto_rows": null,
            "grid_column": null,
            "grid_gap": null,
            "grid_row": null,
            "grid_template_areas": null,
            "grid_template_columns": null,
            "grid_template_rows": null,
            "height": null,
            "justify_content": null,
            "justify_items": null,
            "left": null,
            "margin": null,
            "max_height": null,
            "max_width": null,
            "min_height": null,
            "min_width": null,
            "object_fit": null,
            "object_position": null,
            "order": null,
            "overflow": null,
            "overflow_x": null,
            "overflow_y": null,
            "padding": null,
            "right": null,
            "top": null,
            "visibility": null,
            "width": null
          }
        },
        "df4550a3d82545c69a6616acf4cda54a": {
          "model_module": "@jupyter-widgets/controls",
          "model_name": "DescriptionStyleModel",
          "model_module_version": "1.5.0",
          "state": {
            "_model_module": "@jupyter-widgets/controls",
            "_model_module_version": "1.5.0",
            "_model_name": "DescriptionStyleModel",
            "_view_count": null,
            "_view_module": "@jupyter-widgets/base",
            "_view_module_version": "1.2.0",
            "_view_name": "StyleView",
            "description_width": ""
          }
        },
        "1deda827af9f4ef0bf5b65baddf82dfc": {
          "model_module": "@jupyter-widgets/controls",
          "model_name": "HBoxModel",
          "model_module_version": "1.5.0",
          "state": {
            "_dom_classes": [],
            "_model_module": "@jupyter-widgets/controls",
            "_model_module_version": "1.5.0",
            "_model_name": "HBoxModel",
            "_view_count": null,
            "_view_module": "@jupyter-widgets/controls",
            "_view_module_version": "1.5.0",
            "_view_name": "HBoxView",
            "box_style": "",
            "children": [
              "IPY_MODEL_467c9968af7c486991ca601540281b7e",
              "IPY_MODEL_1b93b59b0e9144ffa98824cc0fee4afd",
              "IPY_MODEL_3e3cac4fbbca4a689215a7208cb29e8d"
            ],
            "layout": "IPY_MODEL_a4e55ea3b49a44bcab13d6290af23639"
          }
        },
        "467c9968af7c486991ca601540281b7e": {
          "model_module": "@jupyter-widgets/controls",
          "model_name": "HTMLModel",
          "model_module_version": "1.5.0",
          "state": {
            "_dom_classes": [],
            "_model_module": "@jupyter-widgets/controls",
            "_model_module_version": "1.5.0",
            "_model_name": "HTMLModel",
            "_view_count": null,
            "_view_module": "@jupyter-widgets/controls",
            "_view_module_version": "1.5.0",
            "_view_name": "HTMLView",
            "description": "",
            "description_tooltip": null,
            "layout": "IPY_MODEL_833e37c105ca4f42b93750b679641450",
            "placeholder": "​",
            "style": "IPY_MODEL_eaebe8073f284b5c95d5f92cb4ccd926",
            "value": "100%"
          }
        },
        "1b93b59b0e9144ffa98824cc0fee4afd": {
          "model_module": "@jupyter-widgets/controls",
          "model_name": "FloatProgressModel",
          "model_module_version": "1.5.0",
          "state": {
            "_dom_classes": [],
            "_model_module": "@jupyter-widgets/controls",
            "_model_module_version": "1.5.0",
            "_model_name": "FloatProgressModel",
            "_view_count": null,
            "_view_module": "@jupyter-widgets/controls",
            "_view_module_version": "1.5.0",
            "_view_name": "ProgressView",
            "bar_style": "success",
            "description": "",
            "description_tooltip": null,
            "layout": "IPY_MODEL_e2debf802b7149118784f475dc7a258a",
            "max": 20,
            "min": 0,
            "orientation": "horizontal",
            "style": "IPY_MODEL_4ea26675cae941a0a23bbbcaecc26d6e",
            "value": 20
          }
        },
        "3e3cac4fbbca4a689215a7208cb29e8d": {
          "model_module": "@jupyter-widgets/controls",
          "model_name": "HTMLModel",
          "model_module_version": "1.5.0",
          "state": {
            "_dom_classes": [],
            "_model_module": "@jupyter-widgets/controls",
            "_model_module_version": "1.5.0",
            "_model_name": "HTMLModel",
            "_view_count": null,
            "_view_module": "@jupyter-widgets/controls",
            "_view_module_version": "1.5.0",
            "_view_name": "HTMLView",
            "description": "",
            "description_tooltip": null,
            "layout": "IPY_MODEL_0be3c6a559c5404b931d14feb4979e34",
            "placeholder": "​",
            "style": "IPY_MODEL_4a2b9864892b460d80b46115908c7af0",
            "value": " 20/20 [00:00&lt;00:00, 85.69it/s]"
          }
        },
        "a4e55ea3b49a44bcab13d6290af23639": {
          "model_module": "@jupyter-widgets/base",
          "model_name": "LayoutModel",
          "model_module_version": "1.2.0",
          "state": {
            "_model_module": "@jupyter-widgets/base",
            "_model_module_version": "1.2.0",
            "_model_name": "LayoutModel",
            "_view_count": null,
            "_view_module": "@jupyter-widgets/base",
            "_view_module_version": "1.2.0",
            "_view_name": "LayoutView",
            "align_content": null,
            "align_items": null,
            "align_self": null,
            "border": null,
            "bottom": null,
            "display": null,
            "flex": null,
            "flex_flow": null,
            "grid_area": null,
            "grid_auto_columns": null,
            "grid_auto_flow": null,
            "grid_auto_rows": null,
            "grid_column": null,
            "grid_gap": null,
            "grid_row": null,
            "grid_template_areas": null,
            "grid_template_columns": null,
            "grid_template_rows": null,
            "height": null,
            "justify_content": null,
            "justify_items": null,
            "left": null,
            "margin": null,
            "max_height": null,
            "max_width": null,
            "min_height": null,
            "min_width": null,
            "object_fit": null,
            "object_position": null,
            "order": null,
            "overflow": null,
            "overflow_x": null,
            "overflow_y": null,
            "padding": null,
            "right": null,
            "top": null,
            "visibility": null,
            "width": null
          }
        },
        "833e37c105ca4f42b93750b679641450": {
          "model_module": "@jupyter-widgets/base",
          "model_name": "LayoutModel",
          "model_module_version": "1.2.0",
          "state": {
            "_model_module": "@jupyter-widgets/base",
            "_model_module_version": "1.2.0",
            "_model_name": "LayoutModel",
            "_view_count": null,
            "_view_module": "@jupyter-widgets/base",
            "_view_module_version": "1.2.0",
            "_view_name": "LayoutView",
            "align_content": null,
            "align_items": null,
            "align_self": null,
            "border": null,
            "bottom": null,
            "display": null,
            "flex": null,
            "flex_flow": null,
            "grid_area": null,
            "grid_auto_columns": null,
            "grid_auto_flow": null,
            "grid_auto_rows": null,
            "grid_column": null,
            "grid_gap": null,
            "grid_row": null,
            "grid_template_areas": null,
            "grid_template_columns": null,
            "grid_template_rows": null,
            "height": null,
            "justify_content": null,
            "justify_items": null,
            "left": null,
            "margin": null,
            "max_height": null,
            "max_width": null,
            "min_height": null,
            "min_width": null,
            "object_fit": null,
            "object_position": null,
            "order": null,
            "overflow": null,
            "overflow_x": null,
            "overflow_y": null,
            "padding": null,
            "right": null,
            "top": null,
            "visibility": null,
            "width": null
          }
        },
        "eaebe8073f284b5c95d5f92cb4ccd926": {
          "model_module": "@jupyter-widgets/controls",
          "model_name": "DescriptionStyleModel",
          "model_module_version": "1.5.0",
          "state": {
            "_model_module": "@jupyter-widgets/controls",
            "_model_module_version": "1.5.0",
            "_model_name": "DescriptionStyleModel",
            "_view_count": null,
            "_view_module": "@jupyter-widgets/base",
            "_view_module_version": "1.2.0",
            "_view_name": "StyleView",
            "description_width": ""
          }
        },
        "e2debf802b7149118784f475dc7a258a": {
          "model_module": "@jupyter-widgets/base",
          "model_name": "LayoutModel",
          "model_module_version": "1.2.0",
          "state": {
            "_model_module": "@jupyter-widgets/base",
            "_model_module_version": "1.2.0",
            "_model_name": "LayoutModel",
            "_view_count": null,
            "_view_module": "@jupyter-widgets/base",
            "_view_module_version": "1.2.0",
            "_view_name": "LayoutView",
            "align_content": null,
            "align_items": null,
            "align_self": null,
            "border": null,
            "bottom": null,
            "display": null,
            "flex": null,
            "flex_flow": null,
            "grid_area": null,
            "grid_auto_columns": null,
            "grid_auto_flow": null,
            "grid_auto_rows": null,
            "grid_column": null,
            "grid_gap": null,
            "grid_row": null,
            "grid_template_areas": null,
            "grid_template_columns": null,
            "grid_template_rows": null,
            "height": null,
            "justify_content": null,
            "justify_items": null,
            "left": null,
            "margin": null,
            "max_height": null,
            "max_width": null,
            "min_height": null,
            "min_width": null,
            "object_fit": null,
            "object_position": null,
            "order": null,
            "overflow": null,
            "overflow_x": null,
            "overflow_y": null,
            "padding": null,
            "right": null,
            "top": null,
            "visibility": null,
            "width": null
          }
        },
        "4ea26675cae941a0a23bbbcaecc26d6e": {
          "model_module": "@jupyter-widgets/controls",
          "model_name": "ProgressStyleModel",
          "model_module_version": "1.5.0",
          "state": {
            "_model_module": "@jupyter-widgets/controls",
            "_model_module_version": "1.5.0",
            "_model_name": "ProgressStyleModel",
            "_view_count": null,
            "_view_module": "@jupyter-widgets/base",
            "_view_module_version": "1.2.0",
            "_view_name": "StyleView",
            "bar_color": null,
            "description_width": ""
          }
        },
        "0be3c6a559c5404b931d14feb4979e34": {
          "model_module": "@jupyter-widgets/base",
          "model_name": "LayoutModel",
          "model_module_version": "1.2.0",
          "state": {
            "_model_module": "@jupyter-widgets/base",
            "_model_module_version": "1.2.0",
            "_model_name": "LayoutModel",
            "_view_count": null,
            "_view_module": "@jupyter-widgets/base",
            "_view_module_version": "1.2.0",
            "_view_name": "LayoutView",
            "align_content": null,
            "align_items": null,
            "align_self": null,
            "border": null,
            "bottom": null,
            "display": null,
            "flex": null,
            "flex_flow": null,
            "grid_area": null,
            "grid_auto_columns": null,
            "grid_auto_flow": null,
            "grid_auto_rows": null,
            "grid_column": null,
            "grid_gap": null,
            "grid_row": null,
            "grid_template_areas": null,
            "grid_template_columns": null,
            "grid_template_rows": null,
            "height": null,
            "justify_content": null,
            "justify_items": null,
            "left": null,
            "margin": null,
            "max_height": null,
            "max_width": null,
            "min_height": null,
            "min_width": null,
            "object_fit": null,
            "object_position": null,
            "order": null,
            "overflow": null,
            "overflow_x": null,
            "overflow_y": null,
            "padding": null,
            "right": null,
            "top": null,
            "visibility": null,
            "width": null
          }
        },
        "4a2b9864892b460d80b46115908c7af0": {
          "model_module": "@jupyter-widgets/controls",
          "model_name": "DescriptionStyleModel",
          "model_module_version": "1.5.0",
          "state": {
            "_model_module": "@jupyter-widgets/controls",
            "_model_module_version": "1.5.0",
            "_model_name": "DescriptionStyleModel",
            "_view_count": null,
            "_view_module": "@jupyter-widgets/base",
            "_view_module_version": "1.2.0",
            "_view_name": "StyleView",
            "description_width": ""
          }
        }
      }
    },
    "accelerator": "GPU"
  },
  "cells": [
    {
      "cell_type": "markdown",
      "source": [
        "# OX 분류 모델을 만들어보자.\n",
        "- Yolo를 배우기 전이기 때문에 손글씨는 어렵고 픽셀이 이어져 있는 아이패드로 그린 데이터 또는 그림판으로 그린 데이터를 준비한다.\n",
        "- 크기는 각양각색이어도 되지만 편의를 위해 150*150, jpg 데이터로 통일하였다."
      ],
      "metadata": {
        "id": "pk2XQWV2U1N3"
      }
    },
    {
      "cell_type": "markdown",
      "source": [
        "## 데이터 가져오기"
      ],
      "metadata": {
        "id": "zIPe06PsVaAC"
      }
    },
    {
      "cell_type": "markdown",
      "source": [
        "- 드라이브에 저장해둔 zip을 푼 뒤 안의 데이터를 가져온다."
      ],
      "metadata": {
        "id": "P716JZSnYL64"
      }
    },
    {
      "cell_type": "code",
      "source": [
        "# 모아둔 OX 데이터\n",
        "url = '/content/drive/MyDrive/DL_data/OX dataset-20220913T053518Z-001.zip'"
      ],
      "metadata": {
        "id": "wMvtce8jWqSN"
      },
      "execution_count": null,
      "outputs": []
    },
    {
      "cell_type": "code",
      "source": [
        "# 파이썬으로 zip을 다룰 수 있다.\n",
        "import zipfile\n",
        "\n",
        "content_zip = zipfile.ZipFile(url)\n",
        "content_zip.extractall(\"/content/drive/MyDrive/DL_data\")\n",
        "\n",
        "content_zip.close()"
      ],
      "metadata": {
        "id": "0qScgfJ3XB3I"
      },
      "execution_count": null,
      "outputs": []
    },
    {
      "cell_type": "code",
      "execution_count": null,
      "metadata": {
        "id": "lkP736IAPZY6"
      },
      "outputs": [],
      "source": [
        "from glob import glob\n",
        "\n",
        "O_list_raw = glob('/content/drive/MyDrive/DL_data/OX dataset/raw_O/*')\n",
        "X_list_raw = glob('/content/drive/MyDrive/DL_data/OX dataset/raw_X/*')"
      ]
    },
    {
      "cell_type": "code",
      "source": [
        "O_list_raw[:3]"
      ],
      "metadata": {
        "colab": {
          "base_uri": "https://localhost:8080/"
        },
        "id": "Ly46WcsOX_ea",
        "outputId": "3665fb79-40f4-49fe-8192-7927bee5501b"
      },
      "execution_count": null,
      "outputs": [
        {
          "output_type": "execute_result",
          "data": {
            "text/plain": [
              "['/content/drive/MyDrive/DL_data/OX dataset/raw_O/8_Taek.png',\n",
              " '/content/drive/MyDrive/DL_data/OX dataset/raw_O/7_JT.jpg',\n",
              " '/content/drive/MyDrive/DL_data/OX dataset/raw_O/3_JT.jpg']"
            ]
          },
          "metadata": {},
          "execution_count": 3
        }
      ]
    },
    {
      "cell_type": "markdown",
      "source": [
        "- 각각 40개의 데이터가 들어있다."
      ],
      "metadata": {
        "id": "nuQ1LBQ_YSHh"
      }
    },
    {
      "cell_type": "code",
      "source": [
        "len(O_list_raw), len(X_list_raw)"
      ],
      "metadata": {
        "colab": {
          "base_uri": "https://localhost:8080/"
        },
        "id": "5Np6HbNYYDWZ",
        "outputId": "6c35dda9-4241-4f3e-f720-f53640584374"
      },
      "execution_count": null,
      "outputs": [
        {
          "output_type": "execute_result",
          "data": {
            "text/plain": [
              "(40, 40)"
            ]
          },
          "metadata": {},
          "execution_count": 4
        }
      ]
    },
    {
      "cell_type": "markdown",
      "source": [
        "- requirement\n",
        "  - OpenCV를 사용할 수도 있고, skimage를 사용할 수도 있다."
      ],
      "metadata": {
        "id": "9-BYT9OiYXjv"
      }
    },
    {
      "cell_type": "code",
      "source": [
        "  from skimage.transform import rescale, resize\n",
        "  from skimage import color\n",
        "  from skimage.io import imread, imsave\n",
        "  import matplotlib.pyplot as plt\n",
        "  import numpy as np"
      ],
      "metadata": {
        "id": "1mSISPaFYIoG"
      },
      "execution_count": null,
      "outputs": []
    },
    {
      "cell_type": "markdown",
      "source": [
        "## 데이터 살펴보기"
      ],
      "metadata": {
        "id": "gLziGZB0YyMW"
      }
    },
    {
      "cell_type": "code",
      "source": [
        "def show_raw_img(O_list_raw, X_list_raw):\n",
        "  sample = []\n",
        "  plt.figure(figsize=(12,9))\n",
        "  for i in range(6):\n",
        "    plt.subplot(2, 3, i+1)\n",
        "    random = np.random.randint(len(O_list_raw))\n",
        "    \n",
        "    # imread 통해 그릴 수 있게 주소 통해 가져옴\n",
        "    if i < 3:\n",
        "      image = imread(O_list_raw[random])\n",
        "    else:\n",
        "      image = imread(X_list_raw[random])\n",
        "\n",
        "    # rgb(3D)에서 흑백 이미지(2D)로 변환\n",
        "    image = color.rgb2gray(image)\n",
        "    sample.append(image)\n",
        "\n",
        "    # image show\n",
        "    plt.imshow(image, cmap = 'gray')\n",
        "\n",
        "    plt.title('O') if i<3 else plt.title('X')\n",
        "    plt.axis('off')\n",
        "  plt.show()\n",
        "\n",
        "  return sample"
      ],
      "metadata": {
        "id": "4YwtObDHaXw1"
      },
      "execution_count": null,
      "outputs": []
    },
    {
      "cell_type": "code",
      "source": [
        "sample = show_raw_img(O_list_raw, X_list_raw)"
      ],
      "metadata": {
        "colab": {
          "base_uri": "https://localhost:8080/",
          "height": 511
        },
        "id": "6f9j8D00YnVv",
        "outputId": "d63865c8-5cbd-4ad0-a4d5-0d3bbccd2bfb"
      },
      "execution_count": null,
      "outputs": [
        {
          "output_type": "display_data",
          "data": {
            "text/plain": [
              "<Figure size 864x648 with 6 Axes>"
            ],
            "image/png": "[encoded data removed]"
          },
          "metadata": {
            "needs_background": "light"
          }
        }
      ]
    },
    {
      "cell_type": "markdown",
      "source": [
        "O X 가 참 못생겼다."
      ],
      "metadata": {
        "id": "8QYL-vXIeKbS"
      }
    },
    {
      "cell_type": "markdown",
      "source": [
        "## 데이터 전처리"
      ],
      "metadata": {
        "id": "aNkk4ZEomOsg"
      }
    },
    {
      "cell_type": "markdown",
      "source": [
        "### 데이터 전처리 연습"
      ],
      "metadata": {
        "id": "7Fu_4MwJmQyi"
      }
    },
    {
      "cell_type": "markdown",
      "source": [
        "- 위 OX를 resize 하면 이렇게 생겼다."
      ],
      "metadata": {
        "id": "RbD0FWwGeUQg"
      }
    },
    {
      "cell_type": "code",
      "source": [
        "plt.figure(figsize=(12,9))\n",
        "for idx,image in enumerate(sample):\n",
        "  plt.subplot(2,3,idx+1)\n",
        "  img_resized = resize(image, (28,28))\n",
        "  print(img_resized.shape)\n",
        "  plt.imshow(img_resized, cmap='gray')\n",
        "  plt.title('O') if idx<3 else plt.title('X')\n",
        "  plt.axis('off')\n",
        "plt.show()"
      ],
      "metadata": {
        "colab": {
          "base_uri": "https://localhost:8080/",
          "height": 615
        },
        "id": "8ADzLyJneT74",
        "outputId": "0d71e216-6869-48f0-fbf4-58129b7527fa"
      },
      "execution_count": null,
      "outputs": [
        {
          "output_type": "stream",
          "name": "stdout",
          "text": [
            "(28, 28)\n",
            "(28, 28)\n",
            "(28, 28)\n",
            "(28, 28)\n",
            "(28, 28)\n",
            "(28, 28)\n"
          ]
        },
        {
          "output_type": "display_data",
          "data": {
            "text/plain": [
              "<Figure size 864x648 with 6 Axes>"
            ],
            "image/png": "[encoded data removed]"
          },
          "metadata": {
            "needs_background": "light"
          }
        }
      ]
    },
    {
      "cell_type": "markdown",
      "source": [
        "- resized 한 데이터 하나 저장해보자."
      ],
      "metadata": {
        "id": "hTcZMI04lDPI"
      }
    },
    {
      "cell_type": "code",
      "source": [
        "# 255로 나눴던 것을 다시 돌려주고 저장하는 과정이다. \n",
        "imsave('/content/drive/MyDrive/DL_data/OX dataset/tmp.png', np.round(img_resized*255).astype(np.uint8))"
      ],
      "metadata": {
        "id": "qZen6nHoZZro"
      },
      "execution_count": null,
      "outputs": []
    },
    {
      "cell_type": "markdown",
      "source": [
        "- 저장 잘 되었나 확인"
      ],
      "metadata": {
        "id": "EfVo1PtOlvBq"
      }
    },
    {
      "cell_type": "code",
      "source": [
        "tmp = imread(\"/content/drive/MyDrive/DL_data/OX dataset/tmp.png\")\n",
        "print(tmp.shape)\n",
        "plt.imshow(tmp, cmap ='gray')\n",
        "plt.show()"
      ],
      "metadata": {
        "colab": {
          "base_uri": "https://localhost:8080/",
          "height": 282
        },
        "id": "mmrbKPVeltQe",
        "outputId": "90ac986f-f7a2-431a-b137-8f65bbdf88bf"
      },
      "execution_count": null,
      "outputs": [
        {
          "output_type": "stream",
          "name": "stdout",
          "text": [
            "(28, 28)\n"
          ]
        },
        {
          "output_type": "display_data",
          "data": {
            "text/plain": [
              "<Figure size 432x288 with 1 Axes>"
            ],
            "image/png": "[encoded data removed]"
          },
          "metadata": {
            "needs_background": "light"
          }
        }
      ]
    },
    {
      "cell_type": "markdown",
      "source": [
        "### 파일 이름 추출 연습"
      ],
      "metadata": {
        "id": "l0i_qUxDmUfo"
      }
    },
    {
      "cell_type": "code",
      "source": [
        "O_list_raw[0]"
      ],
      "metadata": {
        "colab": {
          "base_uri": "https://localhost:8080/",
          "height": 35
        },
        "id": "6zEwF2AaltSi",
        "outputId": "02c3db8c-e60c-4bc9-9bee-ef0683879137"
      },
      "execution_count": null,
      "outputs": [
        {
          "output_type": "execute_result",
          "data": {
            "text/plain": [
              "'/content/drive/MyDrive/DL_data/OX dataset/raw_O/8_Taek.png'"
            ],
            "application/vnd.google.colaboratory.intrinsic+json": {
              "type": "string"
            }
          },
          "metadata": {},
          "execution_count": 11
        }
      ]
    },
    {
      "cell_type": "code",
      "source": [
        "O_list_raw[0].split('/')"
      ],
      "metadata": {
        "colab": {
          "base_uri": "https://localhost:8080/"
        },
        "id": "7L--mY54lXIM",
        "outputId": "fc403ee3-7445-4164-98bb-7824ec569a50"
      },
      "execution_count": null,
      "outputs": [
        {
          "output_type": "execute_result",
          "data": {
            "text/plain": [
              "['',\n",
              " 'content',\n",
              " 'drive',\n",
              " 'MyDrive',\n",
              " 'DL_data',\n",
              " 'OX dataset',\n",
              " 'raw_O',\n",
              " '8_Taek.png']"
            ]
          },
          "metadata": {},
          "execution_count": 12
        }
      ]
    },
    {
      "cell_type": "code",
      "source": [
        "O_list_raw[0].split('/')[-1][:-4]"
      ],
      "metadata": {
        "colab": {
          "base_uri": "https://localhost:8080/",
          "height": 35
        },
        "id": "vr1EOxaRnXTW",
        "outputId": "723392e4-0245-4b35-c079-72696848d62f"
      },
      "execution_count": null,
      "outputs": [
        {
          "output_type": "execute_result",
          "data": {
            "text/plain": [
              "'8_Taek'"
            ],
            "application/vnd.google.colaboratory.intrinsic+json": {
              "type": "string"
            }
          },
          "metadata": {},
          "execution_count": 13
        }
      ]
    },
    {
      "cell_type": "markdown",
      "source": [
        "### 전처리 시작\n"
      ],
      "metadata": {
        "id": "2A9W11BFnqE2"
      }
    },
    {
      "cell_type": "markdown",
      "source": [
        "- Train, Test data split"
      ],
      "metadata": {
        "id": "obJFt8SE4sNP"
      }
    },
    {
      "cell_type": "code",
      "source": [
        "O_list_raw = glob('./drive/MyDrive/DL_data/OX dataset/raw_O/*')\n",
        "X_list_raw = glob('./drive/MyDrive/DL_data/OX dataset/raw_X/*')\n",
        "\n",
        "# 20퍼센트 만큼을 validation으로 할당\n",
        "test_idx = np.random.choice(len(O_list_raw),np.round(len(O_list_raw)*0.2).astype(int),replace=False)"
      ],
      "metadata": {
        "id": "oK4u-96x4ref"
      },
      "execution_count": null,
      "outputs": []
    },
    {
      "cell_type": "code",
      "source": [
        "train_O = []\n",
        "test_O = []\n",
        "train_X = []\n",
        "test_X = []\n",
        "\n",
        "j=0\n",
        "test_idx.sort()\n",
        "for i in range(len(O_list_raw)):\n",
        "  if j<len(test_idx) and i == test_idx[j]:\n",
        "    test_O.append(O_list_raw[i])\n",
        "    test_X.append(X_list_raw[i])\n",
        "    j += 1\n",
        "\n",
        "  else:\n",
        "    train_O.append(O_list_raw[i])\n",
        "    train_X.append(X_list_raw[i])\n",
        "\n",
        "len(train_O), len(train_X), len(test_O), len(test_X)"
      ],
      "metadata": {
        "colab": {
          "base_uri": "https://localhost:8080/"
        },
        "id": "5vvkO3Jq8kGN",
        "outputId": "8a4c756a-f7a8-488f-9457-c9c39b62bdfa"
      },
      "execution_count": null,
      "outputs": [
        {
          "output_type": "execute_result",
          "data": {
            "text/plain": [
              "(32, 32, 8, 8)"
            ]
          },
          "metadata": {},
          "execution_count": 15
        }
      ]
    },
    {
      "cell_type": "markdown",
      "source": [
        "- resize 처리 후 저장"
      ],
      "metadata": {
        "id": "rJTzRktKJOQW"
      }
    },
    {
      "cell_type": "code",
      "source": [
        "def img_resize(img):\n",
        "  img = color.rgb2gray(img)\n",
        "  return resize(img,(28,28))"
      ],
      "metadata": {
        "id": "JQj3vy-KnpxZ"
      },
      "execution_count": null,
      "outputs": []
    },
    {
      "cell_type": "code",
      "source": [
        "from tqdm.notebook import tqdm\n",
        "\n",
        "def convert_OX(convert_list, folder_name, status):\n",
        "  for each in tqdm(convert_list):\n",
        "    img = imread(each)\n",
        "    img_resized = img_resize(img)\n",
        "    save_name = f'./drive/MyDrive/DL_data/OX dataset/{folder_name}/{status}/' + each.split('/')[-1][:-4] + '.png'\n",
        "    imsave(save_name, np.round(img_resized*255).astype(np.uint8))"
      ],
      "metadata": {
        "id": "9I6t-cTjngwd"
      },
      "execution_count": null,
      "outputs": []
    },
    {
      "cell_type": "code",
      "source": [
        "ls './drive/MyDrive/DL_data/OX dataset/raw_O/'"
      ],
      "metadata": {
        "colab": {
          "base_uri": "https://localhost:8080/"
        },
        "id": "9qrkuY6moC25",
        "outputId": "eef8f3eb-eecd-4f21-9433-489818d65b3b"
      },
      "execution_count": null,
      "outputs": [
        {
          "output_type": "stream",
          "name": "stdout",
          "text": [
            "10_HJ.jpg    2_JT.jpg    4_Taek.png  7_HJ.jpg    9_JT.jpg     O06_Sam.jpg\n",
            "10_JT.jpg    2_Taek.png  5_HJ.jpg    7_JT.jpg    9_Taek.png   O07_Sam.jpg\n",
            "10_Taek.png  3_HJ.jpg    5_JT.jpg    7_Taek.png  O01_Sam.jpg  O08_Sam.jpg\n",
            "1_HJ.jpg     3_JT.jpg    5_Taek.png  8_HJ.jpg    O02_Sam.jpg  O09_Sam.jpg\n",
            "1_JT.jpg     3_Taek.png  6_HJ.jpg    8_JT.jpg    O03_Sam.jpg  O10_Sam.jpg\n",
            "1_Taek.png   4_HJ.jpg    6_JT.jpg    8_Taek.png  O04_Sam.jpg\n",
            "2_HJ.jpg     4_JT.jpg    6_Taek.png  9_HJ.jpg    O05_Sam.jpg\n"
          ]
        }
      ]
    },
    {
      "cell_type": "code",
      "source": [
        "convert_OX(train_O, 'train','O')"
      ],
      "metadata": {
        "colab": {
          "base_uri": "https://localhost:8080/",
          "height": 49,
          "referenced_widgets": [
            "148aec3278624626a81c66853cf5d269",
            "8c25c6751e3d462582d81346d5ec3672",
            "f32fec047b18436aad04517b89140cc8",
            "fc62d7e3b02d4ddc99f134c8db42351e",
            "8e2359e4fa3546bab070860a047ae3de",
            "f1124a8c62214d51aad89dbabbdffba5",
            "eb58bcad535046a2a506a974935616f6",
            "85956a5557e546fd9790f024bf4107e8",
            "36528982195f4f7781c96514e629ff07",
            "38efbcfe3277470c9fd76e7c2114d047",
            "84df669a164941b7848a25785bfd7bbc"
          ]
        },
        "id": "rNBFunrDoPFg",
        "outputId": "4168b611-998f-49ac-d9b1-f7eeebb2ab76"
      },
      "execution_count": null,
      "outputs": [
        {
          "output_type": "display_data",
          "data": {
            "text/plain": [
              "  0%|          | 0/32 [00:00<?, ?it/s]"
            ],
            "application/vnd.jupyter.widget-view+json": {
              "version_major": 2,
              "version_minor": 0,
              "model_id": "148aec3278624626a81c66853cf5d269"
            }
          },
          "metadata": {}
        }
      ]
    },
    {
      "cell_type": "code",
      "source": [
        "convert_OX(train_X, 'train','X')\n"
      ],
      "metadata": {
        "colab": {
          "base_uri": "https://localhost:8080/",
          "height": 49,
          "referenced_widgets": [
            "5a6fac29fa5b4c6fb5a9e815f4a2fa12",
            "05d9ff57550242e385de78ed995a6764",
            "94a4d2ec1d0440d382cd926dba8aa045",
            "acc2dd18bd204768b5344c60f119a037",
            "0562497f0a194022ab70e8e53a484153",
            "724a8af933284a3eb989d45999ecfaa7",
            "dd85e4ac51774b9ab80dc831cd1f58ee",
            "69d69d0e07ce4d58be2d2d8534bb599f",
            "520d1ce257f543f6bec6ae65d37fdf9e",
            "5044699c520a48cbadf49c63bb59f9cf",
            "b9dc6c4f6234419c965565bf775c5a02"
          ]
        },
        "id": "OHFhZ4ixCnpN",
        "outputId": "1eff1d59-b4a0-4837-cfe5-6924ae955dd6"
      },
      "execution_count": null,
      "outputs": [
        {
          "output_type": "display_data",
          "data": {
            "text/plain": [
              "  0%|          | 0/32 [00:00<?, ?it/s]"
            ],
            "application/vnd.jupyter.widget-view+json": {
              "version_major": 2,
              "version_minor": 0,
              "model_id": "5a6fac29fa5b4c6fb5a9e815f4a2fa12"
            }
          },
          "metadata": {}
        }
      ]
    },
    {
      "cell_type": "code",
      "source": [
        "convert_OX(test_O,'test','O')\n"
      ],
      "metadata": {
        "colab": {
          "base_uri": "https://localhost:8080/",
          "height": 49,
          "referenced_widgets": [
            "f4a9cedfed5445ac84ea4d94f0a56c6c",
            "3bdd90fb6dc94649a220346c8b333399",
            "62fcf134f0274cc0876340b56ae75e72",
            "7fc7e31dc0c043789baf02db211c65ea",
            "0a710a0e12c34bd38988b5122a1629a9",
            "85587a73a38b44219a380531d5ed3e9d",
            "42f00f62e4364df6a78318d5450b8aef",
            "f7de97e1ca434b73af6cd9d75a7aeb44",
            "03cf5f3fd8134fc397fba73526693f2d",
            "1068edad37fd42d5946b1d99a2d42982",
            "e4d6bb976e4d4008832c9af4edd89f4a"
          ]
        },
        "id": "uJC3L8CnCnsE",
        "outputId": "8fa8cf39-7589-4155-8561-cb0ab53096d4"
      },
      "execution_count": null,
      "outputs": [
        {
          "output_type": "display_data",
          "data": {
            "text/plain": [
              "  0%|          | 0/8 [00:00<?, ?it/s]"
            ],
            "application/vnd.jupyter.widget-view+json": {
              "version_major": 2,
              "version_minor": 0,
              "model_id": "f4a9cedfed5445ac84ea4d94f0a56c6c"
            }
          },
          "metadata": {}
        }
      ]
    },
    {
      "cell_type": "code",
      "source": [
        "convert_OX(test_X,'test','X')\n"
      ],
      "metadata": {
        "colab": {
          "base_uri": "https://localhost:8080/",
          "height": 49,
          "referenced_widgets": [
            "abf9aefef48e45d2986c27a92b58a878",
            "785f0b76af9d49098d7da24fa6f5e0e9",
            "5c5d1e50636a40488cac69fadd941154",
            "43246db04fb94e3e81d4c8b35cd6a43b",
            "3e59a148f6bb4dbfafbde8282588a8bc",
            "fb308aab86134b959af01d2fa3058f75",
            "1eee3f2bb1ba4f10ac5bf157765f64cb",
            "d7fbfc0721cd4c35ad9f13ee2bcc5c58",
            "e0089e82405741f58bf7d4af8f454018",
            "b7b0f979a0e4460482631e2df4fd9e73",
            "cb0f28bc0fc54f8285d5c317637e4b23"
          ]
        },
        "id": "11QWleNLCnu4",
        "outputId": "a71afcf0-14cb-4d3c-c47e-02bde64c5991"
      },
      "execution_count": null,
      "outputs": [
        {
          "output_type": "display_data",
          "data": {
            "text/plain": [
              "  0%|          | 0/8 [00:00<?, ?it/s]"
            ],
            "application/vnd.jupyter.widget-view+json": {
              "version_major": 2,
              "version_minor": 0,
              "model_id": "abf9aefef48e45d2986c27a92b58a878"
            }
          },
          "metadata": {}
        }
      ]
    },
    {
      "cell_type": "markdown",
      "source": [
        "## 모델"
      ],
      "metadata": {
        "id": "Tsoevb8RMlAi"
      }
    },
    {
      "cell_type": "markdown",
      "source": [
        "- image_generator"
      ],
      "metadata": {
        "id": "dsZoDqD9JRGs"
      }
    },
    {
      "cell_type": "code",
      "source": [
        "# requirement\n",
        "import numpy as np\n",
        "from keras.models import Sequential\n",
        "from keras.layers import Dense, Flatten\n",
        "from keras.layers.convolutional import Conv2D, MaxPooling2D\n",
        "from keras.preprocessing.image import ImageDataGenerator\n",
        "import keras\n",
        "\n",
        "np.random.seed(13)"
      ],
      "metadata": {
        "id": "QOg693Hs42rF"
      },
      "execution_count": null,
      "outputs": []
    },
    {
      "cell_type": "markdown",
      "source": [
        "- train datagenerator"
      ],
      "metadata": {
        "id": "8rKimQ9oKJAd"
      }
    },
    {
      "cell_type": "code",
      "source": [
        "# 객체 호출\n",
        "train_datagen = ImageDataGenerator(rescale=1./255)\n",
        "\n",
        "# train 폴더 주소 던져주면, 안의 폴더에 따라 카테고리 분류를 한다.\n",
        "train_generator = train_datagen.flow_from_directory(\n",
        "    './drive/MyDrive/DL_data/OX dataset/train/',\n",
        "    target_size = (28,28),\n",
        "    batch_size = 7,\n",
        "    class_mode = 'categorical'\n",
        ")"
      ],
      "metadata": {
        "colab": {
          "base_uri": "https://localhost:8080/"
        },
        "id": "Sqy0wYPBDIK2",
        "outputId": "1c73ab1a-8f6d-4f1c-d390-d0df4f064d00"
      },
      "execution_count": null,
      "outputs": [
        {
          "output_type": "stream",
          "name": "stdout",
          "text": [
            "Found 64 images belonging to 2 classes.\n"
          ]
        }
      ]
    },
    {
      "cell_type": "markdown",
      "source": [
        "- test datagenerator"
      ],
      "metadata": {
        "id": "tmz8GNKAKMfF"
      }
    },
    {
      "cell_type": "code",
      "source": [
        "# 객체 호출\n",
        "test_datagen = ImageDataGenerator(rescale=1./255)\n",
        "\n",
        "# test 폴더 주소 던져주면, 안의 폴더에 따라 카테고리 분류를 한다.\n",
        "test_generator = test_datagen.flow_from_directory(\n",
        "    './drive/MyDrive/DL_data/OX dataset/test/',\n",
        "    target_size = (28,28),\n",
        "    batch_size = 7,\n",
        "    class_mode = 'categorical'\n",
        ")"
      ],
      "metadata": {
        "colab": {
          "base_uri": "https://localhost:8080/"
        },
        "id": "oL9-JDZyFJyb",
        "outputId": "c8fc5f00-a95e-466e-888c-a24d6f638f2d"
      },
      "execution_count": null,
      "outputs": [
        {
          "output_type": "stream",
          "name": "stdout",
          "text": [
            "Found 16 images belonging to 2 classes.\n"
          ]
        }
      ]
    },
    {
      "cell_type": "code",
      "source": [
        "model = Sequential()\n",
        "model.add(Conv2D(32,kernel_size=(3,3), activation='relu', input_shape=(28,28,3)))\n",
        "model.add(Conv2D(64,kernel_size=(3,3), activation='relu'))\n",
        "model.add(Flatten())\n",
        "model.add(Dense(128, activation='relu'))\n",
        "model.add(Dense(2, activation='softmax'))"
      ],
      "metadata": {
        "id": "tyCrdoVjKUZd"
      },
      "execution_count": null,
      "outputs": []
    },
    {
      "cell_type": "code",
      "source": [
        "model.compile(loss='categorical_crossentropy', optimizer='adam', metrics = ['accuracy'])"
      ],
      "metadata": {
        "id": "GopuFkQlLWNL"
      },
      "execution_count": null,
      "outputs": []
    },
    {
      "cell_type": "code",
      "source": [
        "model.summary()"
      ],
      "metadata": {
        "colab": {
          "base_uri": "https://localhost:8080/"
        },
        "id": "jHRz737PLiVg",
        "outputId": "c6570a29-8497-4c4d-eae1-7ce04f7ea73c"
      },
      "execution_count": null,
      "outputs": [
        {
          "output_type": "stream",
          "name": "stdout",
          "text": [
            "Model: \"sequential\"\n",
            "_________________________________________________________________\n",
            " Layer (type)                Output Shape              Param #   \n",
            "=================================================================\n",
            " conv2d (Conv2D)             (None, 26, 26, 32)        896       \n",
            "                                                                 \n",
            " conv2d_1 (Conv2D)           (None, 24, 24, 64)        18496     \n",
            "                                                                 \n",
            " flatten (Flatten)           (None, 36864)             0         \n",
            "                                                                 \n",
            " dense (Dense)               (None, 128)               4718720   \n",
            "                                                                 \n",
            " dense_1 (Dense)             (None, 2)                 258       \n",
            "                                                                 \n",
            "=================================================================\n",
            "Total params: 4,738,370\n",
            "Trainable params: 4,738,370\n",
            "Non-trainable params: 0\n",
            "_________________________________________________________________\n"
          ]
        }
      ]
    },
    {
      "cell_type": "markdown",
      "source": [
        "- 모델을 훈련\n",
        "  - generator을 쓸 때도 fit()을 쓰겠끔 바뀌었다고 한다."
      ],
      "metadata": {
        "id": "fnoUXSBTMJBK"
      }
    },
    {
      "cell_type": "code",
      "source": [
        "hist = model.fit(\n",
        "    train_generator,\n",
        "    steps_per_epoch = 8,\n",
        "    epochs = 25,\n",
        "    validation_data = test_generator,\n",
        "    validation_steps = 4\n",
        ")"
      ],
      "metadata": {
        "colab": {
          "base_uri": "https://localhost:8080/"
        },
        "id": "QcUH7F3hLmNt",
        "outputId": "cb68dc32-1a56-4384-8111-48a2a76f71f0"
      },
      "execution_count": null,
      "outputs": [
        {
          "output_type": "stream",
          "name": "stdout",
          "text": [
            "Epoch 1/25\n",
            "7/8 [=========================>....] - ETA: 0s - loss: 8.7384e-05 - accuracy: 1.0000"
          ]
        },
        {
          "output_type": "stream",
          "name": "stderr",
          "text": [
            "WARNING:tensorflow:Your input ran out of data; interrupting training. Make sure that your dataset or generator can generate at least `steps_per_epoch * epochs` batches (in this case, 4 batches). You may need to use the repeat() function when building your dataset.\n"
          ]
        },
        {
          "output_type": "stream",
          "name": "stdout",
          "text": [
            "\b\b\b\b\b\b\b\b\b\b\b\b\b\b\b\b\b\b\b\b\b\b\b\b\b\b\b\b\b\b\b\b\b\b\b\b\b\b\b\b\b\b\b\b\b\b\b\b\b\b\b\b\b\b\b\b\b\b\b\b\b\b\b\b\b\b\b\b\b\b\b\b\b\b\b\b\b\b\b\b\b\b\b\b\r8/8 [==============================] - 0s 54ms/step - loss: 7.7148e-05 - accuracy: 1.0000 - val_loss: 0.3863 - val_accuracy: 0.9375\n",
            "Epoch 2/25\n",
            "8/8 [==============================] - 0s 28ms/step - loss: 1.5459e-04 - accuracy: 1.0000\n",
            "Epoch 3/25\n",
            "8/8 [==============================] - 0s 20ms/step - loss: 1.2269e-04 - accuracy: 1.0000\n",
            "Epoch 4/25\n",
            "8/8 [==============================] - 0s 14ms/step - loss: 8.4371e-05 - accuracy: 1.0000\n",
            "Epoch 5/25\n",
            "8/8 [==============================] - 0s 15ms/step - loss: 8.2407e-05 - accuracy: 1.0000\n",
            "Epoch 6/25\n",
            "8/8 [==============================] - 0s 14ms/step - loss: 9.4862e-05 - accuracy: 1.0000\n",
            "Epoch 7/25\n",
            "8/8 [==============================] - 0s 16ms/step - loss: 9.6196e-05 - accuracy: 1.0000\n",
            "Epoch 8/25\n",
            "8/8 [==============================] - 0s 13ms/step - loss: 8.7365e-05 - accuracy: 1.0000\n",
            "Epoch 9/25\n",
            "8/8 [==============================] - 0s 14ms/step - loss: 1.1212e-04 - accuracy: 1.0000\n",
            "Epoch 10/25\n",
            "8/8 [==============================] - 0s 18ms/step - loss: 9.9926e-05 - accuracy: 1.0000\n",
            "Epoch 11/25\n",
            "8/8 [==============================] - 0s 14ms/step - loss: 1.0671e-04 - accuracy: 1.0000\n",
            "Epoch 12/25\n",
            "8/8 [==============================] - 0s 15ms/step - loss: 9.0580e-05 - accuracy: 1.0000\n",
            "Epoch 13/25\n",
            "8/8 [==============================] - 0s 15ms/step - loss: 8.0163e-05 - accuracy: 1.0000\n",
            "Epoch 14/25\n",
            "8/8 [==============================] - 0s 16ms/step - loss: 7.2265e-05 - accuracy: 1.0000\n",
            "Epoch 15/25\n",
            "8/8 [==============================] - 0s 14ms/step - loss: 8.9956e-05 - accuracy: 1.0000\n",
            "Epoch 16/25\n",
            "8/8 [==============================] - 0s 16ms/step - loss: 7.8439e-05 - accuracy: 1.0000\n",
            "Epoch 17/25\n",
            "8/8 [==============================] - 0s 14ms/step - loss: 4.1529e-05 - accuracy: 1.0000\n",
            "Epoch 18/25\n",
            "8/8 [==============================] - 0s 15ms/step - loss: 7.8842e-05 - accuracy: 1.0000\n",
            "Epoch 19/25\n",
            "8/8 [==============================] - 0s 14ms/step - loss: 7.1671e-05 - accuracy: 1.0000\n",
            "Epoch 20/25\n",
            "8/8 [==============================] - 0s 14ms/step - loss: 5.2256e-05 - accuracy: 1.0000\n",
            "Epoch 21/25\n",
            "8/8 [==============================] - 0s 15ms/step - loss: 5.0170e-05 - accuracy: 1.0000\n",
            "Epoch 22/25\n",
            "8/8 [==============================] - 0s 13ms/step - loss: 5.1578e-05 - accuracy: 1.0000\n",
            "Epoch 23/25\n",
            "8/8 [==============================] - 0s 15ms/step - loss: 6.7394e-05 - accuracy: 1.0000\n",
            "Epoch 24/25\n",
            "8/8 [==============================] - 0s 14ms/step - loss: 6.8126e-05 - accuracy: 1.0000\n",
            "Epoch 25/25\n",
            "8/8 [==============================] - 0s 14ms/step - loss: 5.6002e-05 - accuracy: 1.0000\n"
          ]
        }
      ]
    },
    {
      "cell_type": "markdown",
      "source": [
        "## 성능 평가"
      ],
      "metadata": {
        "id": "0yeJu7cRMhZ3"
      }
    },
    {
      "cell_type": "code",
      "source": [
        "plt.figure(figsize=(12,6))\n",
        "plt.plot(hist.history['loss'], label='loss')\n",
        "plt.plot(hist.history['val_loss'], label='val_loss')\n",
        "plt.plot(hist.history['accuracy'], label='accuracy')\n",
        "plt.plot(hist.history['val_accuracy'], label='val_accuracy')\n",
        "plt.legend()\n",
        "plt.show()"
      ],
      "metadata": {
        "colab": {
          "base_uri": "https://localhost:8080/",
          "height": 374
        },
        "id": "1shGUpsyMPdC",
        "outputId": "1bdbdb0f-3565-4f26-dc0a-b66c2faea8de"
      },
      "execution_count": null,
      "outputs": [
        {
          "output_type": "display_data",
          "data": {
            "text/plain": [
              "<Figure size 864x432 with 1 Axes>"
            ],
            "image/png": "[encoded data removed]"
          },
          "metadata": {
            "needs_background": "light"
          }
        }
      ]
    },
    {
      "cell_type": "markdown",
      "source": [
        "좋은걸까..?"
      ],
      "metadata": {
        "id": "0WJfZA5RRASB"
      }
    },
    {
      "cell_type": "code",
      "source": [
        "scores = model.evaluate(\n",
        "    test_generator,\n",
        "    steps = 4\n",
        ")\n",
        "\n",
        "print('%s: %.2f%%' %(model.metrics_names[1], scores[1]*100))"
      ],
      "metadata": {
        "colab": {
          "base_uri": "https://localhost:8080/"
        },
        "id": "ZH7_1yGJM9f1",
        "outputId": "56be3f2f-ce00-4654-e0a8-bf3d7c9f4546"
      },
      "execution_count": null,
      "outputs": [
        {
          "output_type": "stream",
          "name": "stdout",
          "text": [
            "\r1/4 [======>.......................] - ETA: 0s - loss: 5.0213e-05 - accuracy: 1.0000"
          ]
        },
        {
          "output_type": "stream",
          "name": "stderr",
          "text": [
            "WARNING:tensorflow:Your input ran out of data; interrupting training. Make sure that your dataset or generator can generate at least `steps_per_epoch * epochs` batches (in this case, 4 batches). You may need to use the repeat() function when building your dataset.\n"
          ]
        },
        {
          "output_type": "stream",
          "name": "stdout",
          "text": [
            "\b\b\b\b\b\b\b\b\b\b\b\b\b\b\b\b\b\b\b\b\b\b\b\b\b\b\b\b\b\b\b\b\b\b\b\b\b\b\b\b\b\b\b\b\b\b\b\b\b\b\b\b\b\b\b\b\b\b\b\b\b\b\b\b\b\b\b\b\b\b\b\b\b\b\b\b\b\b\b\b\b\b\b\b\r4/4 [==============================] - 0s 13ms/step - loss: 0.4366 - accuracy: 0.9375\n",
            "accuracy: 93.75%\n"
          ]
        }
      ]
    },
    {
      "cell_type": "code",
      "source": [
        "pred = model.predict(test_generator)\n",
        "pred"
      ],
      "metadata": {
        "colab": {
          "base_uri": "https://localhost:8080/"
        },
        "id": "2x2BWV6rR0IY",
        "outputId": "dafde5f6-3d63-4d9c-9bc6-a063ef8cc1e9"
      },
      "execution_count": null,
      "outputs": [
        {
          "output_type": "execute_result",
          "data": {
            "text/plain": [
              "array([[9.7656941e-01, 2.3430645e-02],\n",
              "       [1.0000000e+00, 2.0436084e-09],\n",
              "       [9.9994254e-01, 5.7505218e-05],\n",
              "       [1.6757951e-17, 1.0000000e+00],\n",
              "       [2.1496671e-05, 9.9997854e-01],\n",
              "       [1.0000000e+00, 1.7325417e-18],\n",
              "       [6.4846281e-11, 1.0000000e+00],\n",
              "       [9.9997818e-01, 2.1783253e-05],\n",
              "       [6.8037676e-05, 9.9993193e-01],\n",
              "       [1.0000000e+00, 3.8936687e-08],\n",
              "       [9.9905199e-01, 9.4798609e-04],\n",
              "       [1.3014945e-12, 1.0000000e+00],\n",
              "       [9.9967051e-01, 3.2945312e-04],\n",
              "       [1.0299740e-07, 9.9999988e-01],\n",
              "       [1.1120272e-06, 9.9999893e-01],\n",
              "       [9.9997783e-01, 2.2172520e-05]], dtype=float32)"
            ]
          },
          "metadata": {},
          "execution_count": 46
        }
      ]
    },
    {
      "cell_type": "code",
      "source": [
        "labels = test_generator.classes\n",
        "labels"
      ],
      "metadata": {
        "colab": {
          "base_uri": "https://localhost:8080/"
        },
        "id": "1iKrwJKYUVfe",
        "outputId": "7ed8dd28-3bf8-4007-a65e-63e8276146fa"
      },
      "execution_count": null,
      "outputs": [
        {
          "output_type": "execute_result",
          "data": {
            "text/plain": [
              "array([0, 0, 0, 0, 0, 0, 0, 0, 1, 1, 1, 1, 1, 1, 1, 1], dtype=int32)"
            ]
          },
          "metadata": {},
          "execution_count": 47
        }
      ]
    },
    {
      "cell_type": "code",
      "source": [
        "n = 1\n",
        "\n",
        "def show_prediction_result(n):\n",
        "  img =imread(test_generator.filepaths[n])\n",
        "  pred = model.predict(np.expand_dims(color.gray2rgb(img), axis=0))\n",
        "  status = 'O' if np.argmax(pred) == 0 else 'X' \n",
        "  title = 'Predict : ' + status\n",
        "  plt.imshow(img/255. , cmap='gray')\n",
        "  plt.title(title)\n",
        "  plt.show()\n",
        "\n",
        "show_prediction_result(n)"
      ],
      "metadata": {
        "colab": {
          "base_uri": "https://localhost:8080/",
          "height": 281
        },
        "id": "02CutTpJSVog",
        "outputId": "c3835b04-0827-4853-da7f-136aa2a4b686"
      },
      "execution_count": null,
      "outputs": [
        {
          "output_type": "display_data",
          "data": {
            "text/plain": [
              "<Figure size 432x288 with 1 Axes>"
            ],
            "image/png": "[encoded data removed]"
          },
          "metadata": {
            "needs_background": "light"
          }
        }
      ]
    },
    {
      "cell_type": "code",
      "source": [
        "show_prediction_result(15)"
      ],
      "metadata": {
        "colab": {
          "base_uri": "https://localhost:8080/",
          "height": 281
        },
        "id": "W_ZY1D6VS1cV",
        "outputId": "fd59e48d-3c69-479c-841d-9e628ca76fec"
      },
      "execution_count": null,
      "outputs": [
        {
          "output_type": "display_data",
          "data": {
            "text/plain": [
              "<Figure size 432x288 with 1 Axes>"
            ],
            "image/png": "[encoded data removed]"
          },
          "metadata": {
            "needs_background": "light"
          }
        }
      ]
    },
    {
      "cell_type": "markdown",
      "source": [
        "## 틀린 이미지 확인"
      ],
      "metadata": {
        "id": "__Nnn4QGTI09"
      }
    },
    {
      "cell_type": "code",
      "source": [
        "wrong = []\n",
        "\n",
        "for i in range(16):\n",
        "  img =imread(test_generator.filepaths[i])\n",
        "  pred = model.predict(np.expand_dims(color.gray2rgb(img), axis=0))\n",
        "  if np.argmax(pred) != labels[i]:\n",
        "    wrong.append(i)\n",
        "len(wrong)"
      ],
      "metadata": {
        "colab": {
          "base_uri": "https://localhost:8080/"
        },
        "id": "01LFquiuS83h",
        "outputId": "fd40fc86-882b-4aee-bf90-70be0ada58bb"
      },
      "execution_count": null,
      "outputs": [
        {
          "output_type": "execute_result",
          "data": {
            "text/plain": [
              "1"
            ]
          },
          "metadata": {},
          "execution_count": 50
        }
      ]
    },
    {
      "cell_type": "code",
      "source": [
        "plt.figure(figsize=(5,5))\n",
        "img =imread(test_generator.filepaths[wrong[0]])\n",
        "pred = model.predict(np.expand_dims(color.gray2rgb(img), axis=0))\n",
        "status = 'O' if np.argmax(pred) == 0 else 'X' \n",
        "title = 'Predict : ' + status\n",
        "plt.imshow(img/255. , cmap='gray')\n",
        "plt.title(title)\n",
        "plt.axis('off')\n",
        "plt.show()"
      ],
      "metadata": {
        "colab": {
          "base_uri": "https://localhost:8080/",
          "height": 319
        },
        "id": "3yBRLPt_XB4w",
        "outputId": "b1254d9a-290a-4da2-cfaf-67c2fe0105b1"
      },
      "execution_count": null,
      "outputs": [
        {
          "output_type": "display_data",
          "data": {
            "text/plain": [
              "<Figure size 360x360 with 1 Axes>"
            ],
            "image/png": "[encoded data removed]"
          },
          "metadata": {
            "needs_background": "light"
          }
        }
      ]
    },
    {
      "cell_type": "markdown",
      "source": [
        "## 만든 모델로 종이에 그린 O, X 테스트"
      ],
      "metadata": {
        "id": "nibdynhVQMI0"
      }
    },
    {
      "cell_type": "code",
      "source": [
        "O_paper_raw = glob('/content/drive/MyDrive/DL_data/OX dataset/paper_test/X/*')\n",
        "X_paper_raw = glob('/content/drive/MyDrive/DL_data/OX dataset/paper_test/O/*')"
      ],
      "metadata": {
        "id": "miyMU9I0WZAb"
      },
      "execution_count": null,
      "outputs": []
    },
    {
      "cell_type": "code",
      "source": [
        "O_paper_raw"
      ],
      "metadata": {
        "colab": {
          "base_uri": "https://localhost:8080/"
        },
        "id": "cN4CsGEcSOLT",
        "outputId": "991fdb2e-df8e-413d-ca94-23f7f904c58d"
      },
      "execution_count": null,
      "outputs": [
        {
          "output_type": "execute_result",
          "data": {
            "text/plain": [
              "['/content/drive/MyDrive/DL_data/OX dataset/paper_test/X/20220915_123157_18.jpg',\n",
              " '/content/drive/MyDrive/DL_data/OX dataset/paper_test/X/20220915_123157_1.jpg',\n",
              " '/content/drive/MyDrive/DL_data/OX dataset/paper_test/X/20220915_123157_20.jpg',\n",
              " '/content/drive/MyDrive/DL_data/OX dataset/paper_test/X/20220915_123157_17.jpg',\n",
              " '/content/drive/MyDrive/DL_data/OX dataset/paper_test/X/20220915_123157_4.jpg',\n",
              " '/content/drive/MyDrive/DL_data/OX dataset/paper_test/X/20220915_123157_3.jpg',\n",
              " '/content/drive/MyDrive/DL_data/OX dataset/paper_test/X/20220915_123157_5.jpg',\n",
              " '/content/drive/MyDrive/DL_data/OX dataset/paper_test/X/20220915_123157_19.jpg',\n",
              " '/content/drive/MyDrive/DL_data/OX dataset/paper_test/X/20220915_123157_2.jpg',\n",
              " '/content/drive/MyDrive/DL_data/OX dataset/paper_test/X/20220915_123157_16.jpg',\n",
              " '/content/drive/MyDrive/DL_data/OX dataset/paper_test/X/20220915_123157_15.jpg',\n",
              " '/content/drive/MyDrive/DL_data/OX dataset/paper_test/X/20220915_123157_9.jpg',\n",
              " '/content/drive/MyDrive/DL_data/OX dataset/paper_test/X/20220915_123157_10.jpg',\n",
              " '/content/drive/MyDrive/DL_data/OX dataset/paper_test/X/20220915_123157_11.jpg',\n",
              " '/content/drive/MyDrive/DL_data/OX dataset/paper_test/X/20220915_123157_12.jpg',\n",
              " '/content/drive/MyDrive/DL_data/OX dataset/paper_test/X/20220915_123157_8.jpg',\n",
              " '/content/drive/MyDrive/DL_data/OX dataset/paper_test/X/20220915_123157_13.jpg',\n",
              " '/content/drive/MyDrive/DL_data/OX dataset/paper_test/X/20220915_123157_14.jpg',\n",
              " '/content/drive/MyDrive/DL_data/OX dataset/paper_test/X/20220915_123157_7.jpg',\n",
              " '/content/drive/MyDrive/DL_data/OX dataset/paper_test/X/20220915_123157_6.jpg']"
            ]
          },
          "metadata": {},
          "execution_count": 53
        }
      ]
    },
    {
      "cell_type": "code",
      "source": [
        "convert_OX(O_paper_raw,'resized_paper_test','resized_paper_O')"
      ],
      "metadata": {
        "colab": {
          "base_uri": "https://localhost:8080/",
          "height": 49,
          "referenced_widgets": [
            "d3e8a517d9ee401b81f743148ca94131",
            "e9275bb3341e46fab29b32c30fb230e8",
            "e4743cdc96a44081b763b96467743fa6",
            "4edd286a82c64f9fb1c89bf85fc87741",
            "a9d2c218da524715a865cb3ca2aa7180",
            "54ffa164ba774c5080dba89dfd886b59",
            "d5ace35c868b454281940b0b6e4c9f4f",
            "0741d93a7ebd4d6a9b3e70192e8d4dac",
            "78ff1ecbe91741548f457967101fecc3",
            "d31c166a2bb34562b0ed191641e4f00c",
            "df4550a3d82545c69a6616acf4cda54a"
          ]
        },
        "id": "OTnAh2_JSQb3",
        "outputId": "6a62100d-c5bc-492f-81b2-c020c638bb8b"
      },
      "execution_count": 59,
      "outputs": [
        {
          "output_type": "display_data",
          "data": {
            "text/plain": [
              "  0%|          | 0/20 [00:00<?, ?it/s]"
            ],
            "application/vnd.jupyter.widget-view+json": {
              "version_major": 2,
              "version_minor": 0,
              "model_id": "d3e8a517d9ee401b81f743148ca94131"
            }
          },
          "metadata": {}
        }
      ]
    },
    {
      "cell_type": "code",
      "source": [
        "convert_OX(X_paper_raw,'resized_paper_test','resized_paper_X')"
      ],
      "metadata": {
        "colab": {
          "base_uri": "https://localhost:8080/",
          "height": 49,
          "referenced_widgets": [
            "1deda827af9f4ef0bf5b65baddf82dfc",
            "467c9968af7c486991ca601540281b7e",
            "1b93b59b0e9144ffa98824cc0fee4afd",
            "3e3cac4fbbca4a689215a7208cb29e8d",
            "a4e55ea3b49a44bcab13d6290af23639",
            "833e37c105ca4f42b93750b679641450",
            "eaebe8073f284b5c95d5f92cb4ccd926",
            "e2debf802b7149118784f475dc7a258a",
            "4ea26675cae941a0a23bbbcaecc26d6e",
            "0be3c6a559c5404b931d14feb4979e34",
            "4a2b9864892b460d80b46115908c7af0"
          ]
        },
        "id": "ZXqU7FT2SxF4",
        "outputId": "9fb5c6b8-3176-4dcb-d44c-27c56acc2306"
      },
      "execution_count": 60,
      "outputs": [
        {
          "output_type": "display_data",
          "data": {
            "text/plain": [
              "  0%|          | 0/20 [00:00<?, ?it/s]"
            ],
            "application/vnd.jupyter.widget-view+json": {
              "version_major": 2,
              "version_minor": 0,
              "model_id": "1deda827af9f4ef0bf5b65baddf82dfc"
            }
          },
          "metadata": {}
        }
      ]
    },
    {
      "cell_type": "code",
      "source": [
        "# 객체 호출\n",
        "test_datagen = ImageDataGenerator(rescale=1./255)\n",
        "\n",
        "# test 폴더 주소 던져주면, 안의 폴더에 따라 카테고리 분류를 한다.\n",
        "test_generator = test_datagen.flow_from_directory(\n",
        "    './drive/MyDrive/DL_data/OX dataset/resized_paper_test/',\n",
        "    target_size = (28,28),\n",
        "    batch_size = 7,\n",
        "    class_mode = 'categorical'\n",
        ")"
      ],
      "metadata": {
        "colab": {
          "base_uri": "https://localhost:8080/"
        },
        "id": "ksEavGv3S0cZ",
        "outputId": "660a6230-1e89-4d36-8af8-6dbb29f81ccc"
      },
      "execution_count": 61,
      "outputs": [
        {
          "output_type": "stream",
          "name": "stdout",
          "text": [
            "Found 40 images belonging to 2 classes.\n"
          ]
        }
      ]
    },
    {
      "cell_type": "code",
      "source": [
        "pred = model.predict(test_generator)\n",
        "pred"
      ],
      "metadata": {
        "id": "x0wOYCfVS_V8",
        "colab": {
          "base_uri": "https://localhost:8080/"
        },
        "outputId": "a1feb195-c120-4b1c-f8b5-cb5a4aab6e64"
      },
      "execution_count": 62,
      "outputs": [
        {
          "output_type": "execute_result",
          "data": {
            "text/plain": [
              "array([[1.7206831e-03, 9.9827933e-01],\n",
              "       [9.9732155e-01, 2.6784597e-03],\n",
              "       [9.9999964e-01, 3.4262104e-07],\n",
              "       [9.9993932e-01, 6.0704409e-05],\n",
              "       [3.3472616e-06, 9.9999666e-01],\n",
              "       [6.3105500e-07, 9.9999940e-01],\n",
              "       [9.7834545e-01, 2.1654472e-02],\n",
              "       [9.9838805e-01, 1.6119289e-03],\n",
              "       [9.9995005e-01, 4.9903199e-05],\n",
              "       [5.4344040e-04, 9.9945658e-01],\n",
              "       [1.0000000e+00, 3.5965314e-08],\n",
              "       [1.4006735e-04, 9.9985993e-01],\n",
              "       [3.3342102e-01, 6.6657901e-01],\n",
              "       [9.9230075e-01, 7.6992381e-03],\n",
              "       [4.5590595e-04, 9.9954408e-01],\n",
              "       [9.9980682e-01, 1.9325613e-04],\n",
              "       [9.9958009e-01, 4.1994042e-04],\n",
              "       [9.9680328e-01, 3.1967699e-03],\n",
              "       [7.4640024e-01, 2.5359976e-01],\n",
              "       [9.9423200e-01, 5.7680351e-03],\n",
              "       [9.9955112e-01, 4.4881136e-04],\n",
              "       [6.8121582e-01, 3.1878418e-01],\n",
              "       [1.8369759e-02, 9.8163027e-01],\n",
              "       [9.9997699e-01, 2.3010987e-05],\n",
              "       [9.9999893e-01, 1.0801917e-06],\n",
              "       [3.0483299e-05, 9.9996948e-01],\n",
              "       [9.8414654e-01, 1.5853506e-02],\n",
              "       [9.9154258e-01, 8.4573505e-03],\n",
              "       [9.9999797e-01, 1.9914451e-06],\n",
              "       [9.9878949e-01, 1.2105290e-03],\n",
              "       [1.2089062e-06, 9.9999881e-01],\n",
              "       [5.0439965e-02, 9.4956005e-01],\n",
              "       [9.9896622e-01, 1.0337997e-03],\n",
              "       [9.9994671e-01, 5.3325297e-05],\n",
              "       [7.9219383e-01, 2.0780617e-01],\n",
              "       [9.5640641e-01, 4.3593630e-02],\n",
              "       [1.3056793e-02, 9.8694324e-01],\n",
              "       [9.9999964e-01, 4.1637512e-07],\n",
              "       [4.1789827e-01, 5.8210170e-01],\n",
              "       [9.9843258e-01, 1.5673618e-03]], dtype=float32)"
            ]
          },
          "metadata": {},
          "execution_count": 62
        }
      ]
    },
    {
      "cell_type": "code",
      "source": [
        "wrong = []\n",
        "\n",
        "for i in range(16):\n",
        "  img =imread(test_generator.filepaths[i])\n",
        "  pred = model.predict(np.expand_dims(color.gray2rgb(img), axis=0))\n",
        "  if np.argmax(pred) != labels[i]:\n",
        "    wrong.append(i)\n",
        "len(wrong)"
      ],
      "metadata": {
        "colab": {
          "base_uri": "https://localhost:8080/"
        },
        "id": "yWmzrjhXVdzI",
        "outputId": "3c7cd3b4-858b-4466-a822-ae7ae29560d7"
      },
      "execution_count": 63,
      "outputs": [
        {
          "output_type": "execute_result",
          "data": {
            "text/plain": [
              "5"
            ]
          },
          "metadata": {},
          "execution_count": 63
        }
      ]
    },
    {
      "cell_type": "code",
      "source": [
        "plt.figure(figsize=(5,5))\n",
        "img =imread(test_generator.filepaths[wrong[0]])\n",
        "pred = model.predict(np.expand_dims(color.gray2rgb(img), axis=0))\n",
        "status = 'O' if np.argmax(pred) == 0 else 'X' \n",
        "title = 'Predict : ' + status\n",
        "plt.imshow(img/255. , cmap='gray')\n",
        "plt.title(title)\n",
        "plt.axis('off')\n",
        "plt.show()"
      ],
      "metadata": {
        "colab": {
          "base_uri": "https://localhost:8080/",
          "height": 319
        },
        "id": "tZloAkhRWVcd",
        "outputId": "2a363b9d-d2c6-4672-80cd-802709953409"
      },
      "execution_count": 65,
      "outputs": [
        {
          "output_type": "display_data",
          "data": {
            "text/plain": [
              "<Figure size 360x360 with 1 Axes>"
            ],
            "image/png": "[encoded data removed]"
          },
          "metadata": {
            "needs_background": "light"
          }
        }
      ]
    },
    {
      "cell_type": "code",
      "source": [
        "plt.figure(figsize=(5,5))\n",
        "img =imread(test_generator.filepaths[wrong[1]])\n",
        "pred = model.predict(np.expand_dims(color.gray2rgb(img), axis=0))\n",
        "status = 'O' if np.argmax(pred) == 0 else 'X' \n",
        "title = 'Predict : ' + status\n",
        "plt.imshow(img/255. , cmap='gray')\n",
        "plt.title(title)\n",
        "plt.axis('off')\n",
        "plt.show()"
      ],
      "metadata": {
        "colab": {
          "base_uri": "https://localhost:8080/",
          "height": 319
        },
        "id": "5bS0LW8RWc41",
        "outputId": "aa7f7f62-428e-44b0-9205-8ac7dbfeda9a"
      },
      "execution_count": 66,
      "outputs": [
        {
          "output_type": "display_data",
          "data": {
            "text/plain": [
              "<Figure size 360x360 with 1 Axes>"
            ],
            "image/png": "[encoded data removed]"
          },
          "metadata": {
            "needs_background": "light"
          }
        }
      ]
    },
    {
      "cell_type": "code",
      "source": [
        "plt.figure(figsize=(5,5))\n",
        "img =imread(test_generator.filepaths[wrong[2]])\n",
        "pred = model.predict(np.expand_dims(color.gray2rgb(img), axis=0))\n",
        "status = 'O' if np.argmax(pred) == 0 else 'X' \n",
        "title = 'Predict : ' + status\n",
        "plt.imshow(img/255. , cmap='gray')\n",
        "plt.title(title)\n",
        "plt.axis('off')\n",
        "plt.show()"
      ],
      "metadata": {
        "colab": {
          "base_uri": "https://localhost:8080/",
          "height": 319
        },
        "id": "JV-MX-6HWgEu",
        "outputId": "a38faec8-6e8e-4fc6-88be-c0353ab274d5"
      },
      "execution_count": 67,
      "outputs": [
        {
          "output_type": "display_data",
          "data": {
            "text/plain": [
              "<Figure size 360x360 with 1 Axes>"
            ],
            "image/png": "[encoded data removed]"
          },
          "metadata": {
            "needs_background": "light"
          }
        }
      ]
    },
    {
      "cell_type": "code",
      "source": [
        "plt.figure(figsize=(5,5))\n",
        "img =imread(test_generator.filepaths[wrong[3]])\n",
        "pred = model.predict(np.expand_dims(color.gray2rgb(img), axis=0))\n",
        "status = 'O' if np.argmax(pred) == 0 else 'X' \n",
        "title = 'Predict : ' + status\n",
        "plt.imshow(img/255. , cmap='gray')\n",
        "plt.title(title)\n",
        "plt.axis('off')\n",
        "plt.show()"
      ],
      "metadata": {
        "colab": {
          "base_uri": "https://localhost:8080/",
          "height": 319
        },
        "id": "nPVYOLYjXMjz",
        "outputId": "0cbddf03-78cf-47e7-e83e-081829d74a1a"
      },
      "execution_count": 68,
      "outputs": [
        {
          "output_type": "display_data",
          "data": {
            "text/plain": [
              "<Figure size 360x360 with 1 Axes>"
            ],
            "image/png": "[encoded data removed]"
          },
          "metadata": {
            "needs_background": "light"
          }
        }
      ]
    },
    {
      "cell_type": "code",
      "source": [
        "plt.figure(figsize=(5,5))\n",
        "img =imread(test_generator.filepaths[wrong[4]])\n",
        "pred = model.predict(np.expand_dims(color.gray2rgb(img), axis=0))\n",
        "status = 'O' if np.argmax(pred) == 0 else 'X' \n",
        "title = 'Predict : ' + status\n",
        "plt.imshow(img/255. , cmap='gray')\n",
        "plt.title(title)\n",
        "plt.axis('off')\n",
        "plt.show()"
      ],
      "metadata": {
        "colab": {
          "base_uri": "https://localhost:8080/",
          "height": 319
        },
        "id": "QDRnvBXWXOdr",
        "outputId": "0714ea85-ef99-40fd-ec1d-9435747dc904"
      },
      "execution_count": 69,
      "outputs": [
        {
          "output_type": "display_data",
          "data": {
            "text/plain": [
              "<Figure size 360x360 with 1 Axes>"
            ],
            "image/png": "[encoded data removed]"
          },
          "metadata": {
            "needs_background": "light"
          }
        }
      ]
    },
    {
      "cell_type": "code",
      "source": [],
      "metadata": {
        "id": "-OJ8X9StXYw2"
      },
      "execution_count": null,
      "outputs": []
    }
  ]
}