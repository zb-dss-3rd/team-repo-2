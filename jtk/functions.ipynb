{
 "cells": [
  {
   "cell_type": "markdown",
   "metadata": {},
   "source": [
    "## Requirement"
   ]
  },
  {
   "cell_type": "code",
   "execution_count": 1,
   "metadata": {},
   "outputs": [],
   "source": [
    "import os\n",
    "import sys \n",
    "import json\n",
    "import glob\n",
    "import random\n",
    "import collections\n",
    "import time\n",
    "import re\n",
    "import math\n",
    "import numpy as np\n",
    "import pandas as pd\n",
    "import cv2\n",
    "\n",
    "import matplotlib.pyplot as plt\n",
    "import seaborn as sns\n",
    "import pydicom\n",
    "from pydicom.pixel_data_handlers.util import apply_voi_lut, apply_modality_lut\n",
    "\n",
    "from random import shuffle\n",
    "from sklearn import model_selection as sk_model_selection\n",
    "\n",
    "from tensorflow import keras\n",
    "from tensorflow.keras import layers\n",
    "from tensorflow.keras.callbacks import ModelCheckpoint, EarlyStopping, ReduceLROnPlateau\n",
    "from keras.metrics import AUC\n",
    "\n",
    "import tensorflow as tf\n",
    "from tqdm import tqdm"
   ]
  },
  {
   "cell_type": "code",
   "execution_count": 2,
   "metadata": {},
   "outputs": [],
   "source": [
    "base_path = '../../data'\n",
    " \n",
    "mri_types = ['FLAIR','T1w','T1wCE','T2w']\n",
    "mri_types_id=0 # 0,1,2,3\n",
    "\n",
    "\n",
    "\n",
    "IMAGE_SIZE = 224\n",
    "MODALITY_LUT = True\n",
    "VOI_LUT = True\n",
    "\n",
    "BATCH_SIZE= 4\n",
    "EXCLUDE = [109, 123, 709]\n",
    "TYPES = [\"FLAIR\", \"T1w\", \"T2w\", \"T1wCE\"]\n",
    "IMAGE_TYPE = \"T1wCE\"\n",
    "\n",
    "num_folds=5\n",
    "Selected_fold=1 #1,2,3,4,5 "
   ]
  },
  {
   "cell_type": "code",
   "execution_count": 3,
   "metadata": {},
   "outputs": [
    {
     "data": {
      "text/html": [
       "<div>\n",
       "<style scoped>\n",
       "    .dataframe tbody tr th:only-of-type {\n",
       "        vertical-align: middle;\n",
       "    }\n",
       "\n",
       "    .dataframe tbody tr th {\n",
       "        vertical-align: top;\n",
       "    }\n",
       "\n",
       "    .dataframe thead th {\n",
       "        text-align: right;\n",
       "    }\n",
       "</style>\n",
       "<table border=\"1\" class=\"dataframe\">\n",
       "  <thead>\n",
       "    <tr style=\"text-align: right;\">\n",
       "      <th></th>\n",
       "      <th>BraTS21ID</th>\n",
       "      <th>MGMT_value</th>\n",
       "      <th>Fold</th>\n",
       "    </tr>\n",
       "  </thead>\n",
       "  <tbody>\n",
       "    <tr>\n",
       "      <th>0</th>\n",
       "      <td>185</td>\n",
       "      <td>1</td>\n",
       "      <td>train</td>\n",
       "    </tr>\n",
       "    <tr>\n",
       "      <th>1</th>\n",
       "      <td>816</td>\n",
       "      <td>1</td>\n",
       "      <td>train</td>\n",
       "    </tr>\n",
       "    <tr>\n",
       "      <th>2</th>\n",
       "      <td>707</td>\n",
       "      <td>1</td>\n",
       "      <td>train</td>\n",
       "    </tr>\n",
       "    <tr>\n",
       "      <th>3</th>\n",
       "      <td>683</td>\n",
       "      <td>0</td>\n",
       "      <td>train</td>\n",
       "    </tr>\n",
       "    <tr>\n",
       "      <th>4</th>\n",
       "      <td>6</td>\n",
       "      <td>1</td>\n",
       "      <td>train</td>\n",
       "    </tr>\n",
       "  </tbody>\n",
       "</table>\n",
       "</div>"
      ],
      "text/plain": [
       "   BraTS21ID  MGMT_value   Fold\n",
       "0        185           1  train\n",
       "1        816           1  train\n",
       "2        707           1  train\n",
       "3        683           0  train\n",
       "4          6           1  train"
      ]
     },
     "execution_count": 3,
     "metadata": {},
     "output_type": "execute_result"
    }
   ],
   "source": [
    "train_df = pd.read_csv(\"../../data/train_df.csv\")\n",
    "train_df = train_df[~train_df.BraTS21ID.isin(EXCLUDE)]\n",
    "train_df['Fold'] = 'train'\n",
    "test_df = pd.read_csv(\"../../data/test_df.csv\")\n",
    "test_df['Fold'] = 'test'\n",
    "train_df.head()"
   ]
  },
  {
   "cell_type": "code",
   "execution_count": 4,
   "metadata": {},
   "outputs": [
    {
     "data": {
      "text/plain": [
       "(466, 117)"
      ]
     },
     "execution_count": 4,
     "metadata": {},
     "output_type": "execute_result"
    }
   ],
   "source": [
    "len(train_df), len(test_df)"
   ]
  },
  {
   "cell_type": "markdown",
   "metadata": {},
   "source": [
    "### load_dicom(path,modality_lut=MODALITY_LUT,voi_lut=VOI_LUT,size=224)\n",
    "환자 id 로 경로를 찾아가며 이미지 사이즈는 default 224 임"
   ]
  },
  {
   "cell_type": "code",
   "execution_count": 5,
   "metadata": {},
   "outputs": [],
   "source": [
    "def load_dicom(path,modality_lut=MODALITY_LUT,voi_lut=VOI_LUT,size=224):\n",
    "    # read dicom\n",
    "    dicom = pydicom.read_file(path)\n",
    "\n",
    "    # pixel array\n",
    "    data = dicom.pixel_array\n",
    "    \n",
    "    if modality_lut:\n",
    "        # 기울기와 절편을 적용해주지 않으면 brightness가 엉망이 될 수도 있다고 한다.\n",
    "        data = apply_modality_lut(data,dicom)\n",
    "    \n",
    "    if voi_lut :\n",
    "        # window center와 window width에 맞춰 영상의 픽셀값 조정\n",
    "        data = apply_voi_lut(data,dicom)\n",
    "\n",
    "    # 16비트 짜리 dicom 이미지를 8비트 (0 ~ 255) 픽셀 데이터로 rescale\n",
    "    if np.max(data) != 0:\n",
    "        data = data / np.max(data)\n",
    "    data = (data * 255).astype(np.uint8)\n",
    "\n",
    "    # resize\n",
    "    return cv2.resize(data, (size, size))"
   ]
  },
  {
   "cell_type": "code",
   "execution_count": 6,
   "metadata": {},
   "outputs": [
    {
     "data": {
      "image/png": "[encoded data removed]",
      "text/plain": [
       "<Figure size 1600x500 with 4 Axes>"
      ]
     },
     "metadata": {},
     "output_type": "display_data"
    }
   ],
   "source": [
    "path = '../../data/train/00025/T1wCE/Image-80.dcm'\n",
    "\n",
    "plt.figure(figsize=(16, 5))\n",
    "plt.suptitle(f\"dicom image\", fontsize=16)\n",
    "\n",
    "\n",
    "plt.subplot(1, 4, 1)\n",
    "data = load_dicom(path,modality_lut=False,voi_lut=False,size=224)\n",
    "plt.imshow(data, cmap=\"gray\")\n",
    "plt.axis(\"off\")\n",
    "plt.title(\"origin\", fontsize=16)\n",
    "\n",
    "plt.subplot(1, 4, 2)\n",
    "data = load_dicom(path,modality_lut=True,voi_lut=False,size=224)\n",
    "plt.imshow(data, cmap=\"gray\")\n",
    "plt.axis(\"off\")\n",
    "plt.title(\"modality_lut\", fontsize=16)\n",
    "\n",
    "plt.subplot(1, 4, 3)\n",
    "data = load_dicom(path,modality_lut=False,voi_lut=True,size=224)\n",
    "plt.imshow(data, cmap=\"gray\")\n",
    "plt.axis(\"off\")\n",
    "plt.title(\"voi_lut\", fontsize=16)\n",
    "\n",
    "plt.subplot(1, 4, 4)\n",
    "data = load_dicom(path,modality_lut=True,voi_lut=True,size=224)\n",
    "plt.imshow(data, cmap=\"gray\")\n",
    "plt.axis(\"off\") \n",
    "plt.title(\"modality & voi\", fontsize=16)\n",
    "\n",
    "plt.show()"
   ]
  },
  {
   "cell_type": "markdown",
   "metadata": {},
   "source": [
    "### get_all_image_paths(brats21id, image_type=IMAGE_TYPE, folder='train')\n",
    "폴더 안의 모든 이미지 파일 중 학습/판단의 자료로 사용할 이미지의 경로를 반환 하는 함수<br>\n",
    "환자 id 로 경로를 찾아가며, 이미지 종류 (FLAIR, T1w, T2w, T1wCE), train/test를 입력 받음 default는 train.<br>\n",
    "시작 이미지는 전체 이미지의 25% 지점 / 마지막 이미지는 전체 이미지의 75% 지점 / interval 은 전체 이미지가 10장 미만이면 모든 이미지, 10장 이상이면 3장씩 건너뜀\n"
   ]
  },
  {
   "cell_type": "code",
   "execution_count": 7,
   "metadata": {},
   "outputs": [],
   "source": [
    "def get_all_image_paths(brats21id, image_type=IMAGE_TYPE, folder='train'): \n",
    "    assert(IMAGE_TYPE in TYPES)\n",
    "    \n",
    "    patient_path = os.path.join(\n",
    "        base_path + \"/%s/\" % folder,\n",
    "        str(brats21id).zfill(5),\n",
    "    )\n",
    "\n",
    "    paths = sorted(\n",
    "        glob.glob(os.path.join(patient_path, image_type, \"*\")), \n",
    "        key=lambda x: int(x[:-4].split(\"-\")[-1]),\n",
    "    )\n",
    "    \n",
    "    num_images = len(paths)\n",
    "    \n",
    "    start = int(num_images * 0.25)\n",
    "    end = int(num_images * 0.75)\n",
    "\n",
    "    interval = 3\n",
    "    \n",
    "    if num_images < 10: \n",
    "        interval = 1\n",
    "    \n",
    "    return np.array(paths[start:end:interval])"
   ]
  },
  {
   "cell_type": "code",
   "execution_count": 8,
   "metadata": {},
   "outputs": [
    {
     "data": {
      "text/plain": [
       "array(['../../data/train/00025\\\\T1wCE\\\\Image-33.dcm',\n",
       "       '../../data/train/00025\\\\T1wCE\\\\Image-36.dcm',\n",
       "       '../../data/train/00025\\\\T1wCE\\\\Image-39.dcm',\n",
       "       '../../data/train/00025\\\\T1wCE\\\\Image-42.dcm',\n",
       "       '../../data/train/00025\\\\T1wCE\\\\Image-45.dcm',\n",
       "       '../../data/train/00025\\\\T1wCE\\\\Image-48.dcm',\n",
       "       '../../data/train/00025\\\\T1wCE\\\\Image-51.dcm',\n",
       "       '../../data/train/00025\\\\T1wCE\\\\Image-54.dcm',\n",
       "       '../../data/train/00025\\\\T1wCE\\\\Image-57.dcm',\n",
       "       '../../data/train/00025\\\\T1wCE\\\\Image-60.dcm',\n",
       "       '../../data/train/00025\\\\T1wCE\\\\Image-63.dcm',\n",
       "       '../../data/train/00025\\\\T1wCE\\\\Image-66.dcm',\n",
       "       '../../data/train/00025\\\\T1wCE\\\\Image-69.dcm',\n",
       "       '../../data/train/00025\\\\T1wCE\\\\Image-72.dcm',\n",
       "       '../../data/train/00025\\\\T1wCE\\\\Image-75.dcm',\n",
       "       '../../data/train/00025\\\\T1wCE\\\\Image-78.dcm',\n",
       "       '../../data/train/00025\\\\T1wCE\\\\Image-81.dcm',\n",
       "       '../../data/train/00025\\\\T1wCE\\\\Image-84.dcm',\n",
       "       '../../data/train/00025\\\\T1wCE\\\\Image-87.dcm',\n",
       "       '../../data/train/00025\\\\T1wCE\\\\Image-90.dcm',\n",
       "       '../../data/train/00025\\\\T1wCE\\\\Image-93.dcm',\n",
       "       '../../data/train/00025\\\\T1wCE\\\\Image-96.dcm'], dtype='<U41')"
      ]
     },
     "execution_count": 8,
     "metadata": {},
     "output_type": "execute_result"
    }
   ],
   "source": [
    "get_all_image_paths(25, 'T1wCE', folder='train')"
   ]
  },
  {
   "cell_type": "markdown",
   "metadata": {},
   "source": [
    "### get_all_images(brats21id, image_type=IMAGE_TYPE, folder='train', size=IMAGE_SIZE, modality_lut=MODALITY_LUT, voi_lut=True)\n",
    "- 환자 아이디로 경로를 지정하여 get_all_image_paths 호출, 환자 아이디로된 경로 내의 이미지들을 load_dicom 을 통해 하나의 리스트로 반환\n",
    "- 종태님 코드에서 modality와 voi 옵션을 추가"
   ]
  },
  {
   "cell_type": "code",
   "execution_count": 12,
   "metadata": {},
   "outputs": [],
   "source": [
    "def get_all_3Dimages(brats21id, image_type=IMAGE_TYPE, folder='train', size=IMAGE_SIZE, modality_lut=MODALITY_LUT, voi_lut=True):\n",
    "    return [load_dicom(path,modality_lut=modality_lut,voi_lut=voi_lut,size=224) for path in get_all_image_paths(brats21id, image_type, folder)]"
   ]
  },
  {
   "cell_type": "code",
   "execution_count": 13,
   "metadata": {},
   "outputs": [
    {
     "data": {
      "text/plain": [
       "[array([[65, 65, 65, ..., 65, 65, 65],\n",
       "        [65, 65, 65, ..., 65, 65, 65],\n",
       "        [65, 65, 65, ..., 65, 65, 65],\n",
       "        ...,\n",
       "        [65, 65, 65, ..., 65, 65, 65],\n",
       "        [65, 65, 65, ..., 65, 65, 65],\n",
       "        [65, 65, 65, ..., 65, 65, 65]], dtype=uint8),\n",
       " array([[154, 154, 154, ..., 154, 154, 154],\n",
       "        [154, 154, 154, ..., 154, 154, 154],\n",
       "        [154, 154, 154, ..., 154, 154, 154],\n",
       "        ...,\n",
       "        [154, 154, 154, ..., 154, 154, 154],\n",
       "        [154, 154, 154, ..., 154, 154, 154],\n",
       "        [154, 154, 154, ..., 154, 154, 154]], dtype=uint8),\n",
       " array([[14, 14, 14, ..., 14, 14, 14],\n",
       "        [14, 14, 14, ..., 14, 14, 14],\n",
       "        [14, 14, 14, ..., 14, 14, 14],\n",
       "        ...,\n",
       "        [14, 14, 14, ..., 14, 14, 14],\n",
       "        [14, 14, 14, ..., 14, 14, 14],\n",
       "        [14, 14, 14, ..., 14, 14, 14]], dtype=uint8),\n",
       " array([[243, 243, 243, ..., 243, 243, 243],\n",
       "        [243, 243, 243, ..., 243, 243, 243],\n",
       "        [243, 243, 243, ..., 243, 243, 243],\n",
       "        ...,\n",
       "        [243, 243, 243, ..., 243, 243, 243],\n",
       "        [243, 243, 243, ..., 243, 243, 243],\n",
       "        [243, 243, 243, ..., 243, 243, 243]], dtype=uint8),\n",
       " array([[197, 197, 197, ..., 197, 197, 197],\n",
       "        [197, 197, 197, ..., 197, 197, 197],\n",
       "        [197, 197, 197, ..., 197, 197, 197],\n",
       "        ...,\n",
       "        [197, 197, 197, ..., 197, 197, 197],\n",
       "        [197, 197, 197, ..., 197, 197, 197],\n",
       "        [197, 197, 197, ..., 197, 197, 197]], dtype=uint8),\n",
       " array([[108, 108, 108, ..., 108, 108, 108],\n",
       "        [108, 108, 108, ..., 108, 108, 108],\n",
       "        [108, 108, 108, ..., 108, 108, 108],\n",
       "        ...,\n",
       "        [108, 108, 108, ..., 108, 108, 108],\n",
       "        [108, 108, 108, ..., 108, 108, 108],\n",
       "        [108, 108, 108, ..., 108, 108, 108]], dtype=uint8),\n",
       " array([[113, 113, 113, ..., 113, 113, 113],\n",
       "        [113, 113, 113, ..., 113, 113, 113],\n",
       "        [113, 113, 113, ..., 113, 113, 113],\n",
       "        ...,\n",
       "        [113, 113, 113, ..., 113, 113, 113],\n",
       "        [113, 113, 113, ..., 113, 113, 113],\n",
       "        [113, 113, 113, ..., 113, 113, 113]], dtype=uint8),\n",
       " array([[253, 253, 253, ..., 253, 253, 253],\n",
       "        [253, 253, 253, ..., 253, 253, 253],\n",
       "        [253, 253, 253, ..., 253, 253, 253],\n",
       "        ...,\n",
       "        [253, 253, 253, ..., 253, 253, 253],\n",
       "        [253, 253, 253, ..., 253, 253, 253],\n",
       "        [253, 253, 253, ..., 253, 253, 253]], dtype=uint8),\n",
       " array([[59, 59, 59, ..., 59, 59, 59],\n",
       "        [59, 59, 59, ..., 59, 59, 59],\n",
       "        [59, 59, 59, ..., 59, 59, 59],\n",
       "        ...,\n",
       "        [59, 59, 59, ..., 59, 59, 59],\n",
       "        [59, 59, 59, ..., 59, 59, 59],\n",
       "        [59, 59, 59, ..., 59, 59, 59]], dtype=uint8),\n",
       " array([[98, 98, 98, ..., 98, 98, 98],\n",
       "        [98, 98, 98, ..., 98, 98, 98],\n",
       "        [98, 98, 98, ..., 98, 98, 98],\n",
       "        ...,\n",
       "        [98, 98, 98, ..., 98, 98, 98],\n",
       "        [98, 98, 98, ..., 98, 98, 98],\n",
       "        [98, 98, 98, ..., 98, 98, 98]], dtype=uint8),\n",
       " array([[0, 0, 0, ..., 0, 0, 0],\n",
       "        [0, 0, 0, ..., 0, 0, 0],\n",
       "        [0, 0, 0, ..., 0, 0, 0],\n",
       "        ...,\n",
       "        [0, 0, 0, ..., 0, 0, 0],\n",
       "        [0, 0, 0, ..., 0, 0, 0],\n",
       "        [0, 0, 0, ..., 0, 0, 0]], dtype=uint8),\n",
       " array([[240, 240, 240, ..., 240, 240, 240],\n",
       "        [240, 240, 240, ..., 240, 240, 240],\n",
       "        [240, 240, 240, ..., 240, 240, 240],\n",
       "        ...,\n",
       "        [240, 240, 240, ..., 240, 240, 240],\n",
       "        [240, 240, 240, ..., 240, 240, 240],\n",
       "        [240, 240, 240, ..., 240, 240, 240]], dtype=uint8),\n",
       " array([[31, 31, 31, ..., 31, 31, 31],\n",
       "        [31, 31, 31, ..., 31, 31, 31],\n",
       "        [31, 31, 31, ..., 31, 31, 31],\n",
       "        ...,\n",
       "        [31, 31, 31, ..., 31, 31, 31],\n",
       "        [31, 31, 31, ..., 31, 31, 31],\n",
       "        [31, 31, 31, ..., 31, 31, 31]], dtype=uint8),\n",
       " array([[53, 53, 53, ..., 53, 53, 53],\n",
       "        [53, 53, 53, ..., 53, 53, 53],\n",
       "        [53, 53, 53, ..., 53, 53, 53],\n",
       "        ...,\n",
       "        [53, 53, 53, ..., 53, 53, 53],\n",
       "        [53, 53, 53, ..., 53, 53, 53],\n",
       "        [53, 53, 53, ..., 53, 53, 53]], dtype=uint8),\n",
       " array([[240, 240, 240, ..., 240, 240, 240],\n",
       "        [240, 240, 240, ..., 240, 240, 240],\n",
       "        [240, 240, 240, ..., 240, 240, 240],\n",
       "        ...,\n",
       "        [240, 240, 240, ..., 240, 240, 240],\n",
       "        [240, 240, 240, ..., 240, 240, 240],\n",
       "        [240, 240, 240, ..., 240, 240, 240]], dtype=uint8),\n",
       " array([[227, 227, 227, ..., 227, 227, 227],\n",
       "        [227, 227, 227, ..., 227, 227, 227],\n",
       "        [227, 227, 227, ..., 227, 227, 227],\n",
       "        ...,\n",
       "        [227, 227, 227, ..., 227, 227, 227],\n",
       "        [227, 227, 227, ..., 227, 227, 227],\n",
       "        [227, 227, 227, ..., 227, 227, 227]], dtype=uint8),\n",
       " array([[21, 21, 21, ..., 21, 21, 21],\n",
       "        [21, 21, 21, ..., 21, 21, 21],\n",
       "        [21, 21, 21, ..., 21, 21, 21],\n",
       "        ...,\n",
       "        [21, 21, 21, ..., 21, 21, 21],\n",
       "        [21, 21, 21, ..., 21, 21, 21],\n",
       "        [21, 21, 21, ..., 21, 21, 21]], dtype=uint8),\n",
       " array([[100, 100, 100, ..., 100, 100, 100],\n",
       "        [100, 100, 100, ..., 100, 100, 100],\n",
       "        [100, 100, 100, ..., 100, 100, 100],\n",
       "        ...,\n",
       "        [100, 100, 100, ..., 100, 100, 100],\n",
       "        [100, 100, 100, ..., 100, 100, 100],\n",
       "        [100, 100, 100, ..., 100, 100, 100]], dtype=uint8),\n",
       " array([[105, 105, 105, ..., 105, 105, 105],\n",
       "        [105, 105, 105, ..., 105, 105, 105],\n",
       "        [105, 105, 105, ..., 105, 105, 105],\n",
       "        ...,\n",
       "        [105, 105, 105, ..., 105, 105, 105],\n",
       "        [105, 105, 105, ..., 105, 105, 105],\n",
       "        [105, 105, 105, ..., 105, 105, 105]], dtype=uint8),\n",
       " array([[22, 22, 22, ..., 22, 22, 22],\n",
       "        [22, 22, 22, ..., 22, 22, 22],\n",
       "        [22, 22, 22, ..., 22, 22, 22],\n",
       "        ...,\n",
       "        [22, 22, 22, ..., 22, 22, 22],\n",
       "        [22, 22, 22, ..., 22, 22, 22],\n",
       "        [22, 22, 22, ..., 22, 22, 22]], dtype=uint8),\n",
       " array([[205, 205, 205, ..., 205, 205, 205],\n",
       "        [205, 205, 205, ..., 205, 205, 205],\n",
       "        [205, 205, 205, ..., 205, 205, 205],\n",
       "        ...,\n",
       "        [205, 205, 205, ..., 205, 205, 205],\n",
       "        [205, 205, 205, ..., 205, 205, 205],\n",
       "        [205, 205, 205, ..., 205, 205, 205]], dtype=uint8),\n",
       " array([[175, 175, 175, ..., 175, 175, 175],\n",
       "        [175, 175, 175, ..., 175, 175, 175],\n",
       "        [175, 175, 175, ..., 175, 175, 175],\n",
       "        ...,\n",
       "        [175, 175, 175, ..., 175, 175, 175],\n",
       "        [175, 175, 175, ..., 175, 175, 175],\n",
       "        [175, 175, 175, ..., 175, 175, 175]], dtype=uint8)]"
      ]
     },
     "execution_count": 13,
     "metadata": {},
     "output_type": "execute_result"
    }
   ],
   "source": [
    "all_images = get_all_3Dimages(25, 'T1wCE', folder='train', size=IMAGE_SIZE, modality_lut=True, voi_lut=True)\n",
    "all_images"
   ]
  },
  {
   "cell_type": "code",
   "execution_count": 15,
   "metadata": {},
   "outputs": [
    {
     "data": {
      "text/plain": [
       "22"
      ]
     },
     "execution_count": 15,
     "metadata": {},
     "output_type": "execute_result"
    }
   ],
   "source": [
    "len(all_images)"
   ]
  },
  {
   "cell_type": "code",
   "execution_count": null,
   "metadata": {},
   "outputs": [],
   "source": []
  },
  {
   "cell_type": "code",
   "execution_count": null,
   "metadata": {},
   "outputs": [],
   "source": []
  },
  {
   "cell_type": "code",
   "execution_count": null,
   "metadata": {},
   "outputs": [],
   "source": []
  },
  {
   "cell_type": "code",
   "execution_count": null,
   "metadata": {},
   "outputs": [],
   "source": []
  }
 ],
 "metadata": {
  "kernelspec": {
   "display_name": "Python 3.8.13 ('jtk')",
   "language": "python",
   "name": "python3"
  },
  "language_info": {
   "codemirror_mode": {
    "name": "ipython",
    "version": 3
   },
   "file_extension": ".py",
   "mimetype": "text/x-python",
   "name": "python",
   "nbconvert_exporter": "python",
   "pygments_lexer": "ipython3",
   "version": "3.8.13"
  },
  "orig_nbformat": 4,
  "vscode": {
   "interpreter": {
    "hash": "0edc4ebc751df66f2f329166b5209891afa3e4f58d7cb42ab5ccb6b0e6ddf96c"
   }
  }
 },
 "nbformat": 4,
 "nbformat_minor": 2
}
