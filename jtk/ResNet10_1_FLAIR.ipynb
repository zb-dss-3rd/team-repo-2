{
 "cells": [
  {
   "cell_type": "markdown",
   "metadata": {},
   "source": [
    "## requirement"
   ]
  },
  {
   "cell_type": "code",
   "execution_count": 1,
   "metadata": {},
   "outputs": [],
   "source": [
    "import pandas as pd\n",
    "import numpy as np\n",
    "from tqdm import tqdm\n",
    "import os\n",
    "\n",
    "import pydicom\n",
    "from pydicom.pixel_data_handlers.util import apply_voi_lut\n",
    "\n",
    "from sklearn import model_selection as sk_model_selection\n",
    "from sklearn.metrics import roc_auc_score\n",
    "import glob\n",
    "import pandas as pd\n",
    "import numpy as np\n",
    "import torch\n",
    "import torch.nn as nn\n",
    "import torch.optim as optim\n",
    "from sklearn.metrics import roc_auc_score\n",
    "from torch.optim import lr_scheduler\n",
    "from tqdm import tqdm\n",
    "import re\n",
    "import cv2\n",
    "import random\n",
    "from torch.utils.data import Dataset\n",
    "from pydicom.pixel_data_handlers.util import apply_modality_lut, apply_voi_lut\n",
    "import monai"
   ]
  },
  {
   "cell_type": "code",
   "execution_count": 2,
   "metadata": {},
   "outputs": [],
   "source": [
    "#명령프롬포트에서 다음 실행\n",
    "#!pip install './RSNA_Monai_Packages/monai-0.6.0-202107081903-py3-none-any.whl'"
   ]
  },
  {
   "cell_type": "markdown",
   "metadata": {},
   "source": [
    "## GPU 세팅"
   ]
  },
  {
   "cell_type": "code",
   "execution_count": 3,
   "metadata": {},
   "outputs": [
    {
     "data": {
      "text/plain": [
       "True"
      ]
     },
     "execution_count": 3,
     "metadata": {},
     "output_type": "execute_result"
    }
   ],
   "source": [
    "torch.cuda.is_available()"
   ]
  },
  {
   "cell_type": "code",
   "execution_count": 4,
   "metadata": {},
   "outputs": [],
   "source": [
    "device = torch.device(\"cuda\")"
   ]
  },
  {
   "cell_type": "markdown",
   "metadata": {},
   "source": [
    "## 하이퍼파라미터"
   ]
  },
  {
   "cell_type": "code",
   "execution_count": 5,
   "metadata": {},
   "outputs": [],
   "source": [
    "TITLE = '1_FLAIR'\n",
    "MODALITY_LUT = False\n",
    "VOI_LUT = False\n",
    "EXCLUDE = [109, 123, 709]   \n",
    "TYPES = [\"FLAIR\", \"T1w\", \"T2w\", \"T1wCE\"]\n",
    "IMAGE_TYPE = \"FLAIR\"\n",
    "KERNEL_SIZE = (3,3)\n",
    "TOPPHAT = False\n",
    "MORPHOLOGY = False\n",
    "\n",
    "num_folds=5\n",
    "Selected_fold=1 #1,2,3,4,5 \n",
    "\n",
    "NUM_IMAGES_3D = 64\n",
    "IMAGE_SIZE = 256\n",
    "N_EPOCHS = 50\n",
    "do_valid = True\n",
    "type_ = \"T1wCE\""
   ]
  },
  {
   "cell_type": "markdown",
   "metadata": {},
   "source": [
    "## Loading Data"
   ]
  },
  {
   "cell_type": "code",
   "execution_count": 6,
   "metadata": {},
   "outputs": [
    {
     "data": {
      "text/html": [
       "<div>\n",
       "<style scoped>\n",
       "    .dataframe tbody tr th:only-of-type {\n",
       "        vertical-align: middle;\n",
       "    }\n",
       "\n",
       "    .dataframe tbody tr th {\n",
       "        vertical-align: top;\n",
       "    }\n",
       "\n",
       "    .dataframe thead th {\n",
       "        text-align: right;\n",
       "    }\n",
       "</style>\n",
       "<table border=\"1\" class=\"dataframe\">\n",
       "  <thead>\n",
       "    <tr style=\"text-align: right;\">\n",
       "      <th></th>\n",
       "      <th>BraTS21ID</th>\n",
       "      <th>MGMT_value</th>\n",
       "      <th>Fold</th>\n",
       "    </tr>\n",
       "  </thead>\n",
       "  <tbody>\n",
       "    <tr>\n",
       "      <th>0</th>\n",
       "      <td>185</td>\n",
       "      <td>1</td>\n",
       "      <td>train</td>\n",
       "    </tr>\n",
       "    <tr>\n",
       "      <th>1</th>\n",
       "      <td>816</td>\n",
       "      <td>1</td>\n",
       "      <td>train</td>\n",
       "    </tr>\n",
       "    <tr>\n",
       "      <th>2</th>\n",
       "      <td>707</td>\n",
       "      <td>1</td>\n",
       "      <td>train</td>\n",
       "    </tr>\n",
       "    <tr>\n",
       "      <th>3</th>\n",
       "      <td>683</td>\n",
       "      <td>0</td>\n",
       "      <td>train</td>\n",
       "    </tr>\n",
       "    <tr>\n",
       "      <th>4</th>\n",
       "      <td>6</td>\n",
       "      <td>1</td>\n",
       "      <td>train</td>\n",
       "    </tr>\n",
       "  </tbody>\n",
       "</table>\n",
       "</div>"
      ],
      "text/plain": [
       "   BraTS21ID  MGMT_value   Fold\n",
       "0        185           1  train\n",
       "1        816           1  train\n",
       "2        707           1  train\n",
       "3        683           0  train\n",
       "4          6           1  train"
      ]
     },
     "execution_count": 6,
     "metadata": {},
     "output_type": "execute_result"
    }
   ],
   "source": [
    "train_df = pd.read_csv(\"../../data/train_df.csv\")\n",
    "train_df = train_df[~train_df.BraTS21ID.isin(EXCLUDE)]\n",
    "train_df['Fold'] = 'train'\n",
    "test_df = pd.read_csv(\"../../data/test_df.csv\")\n",
    "test_df['Fold'] = 'test'\n",
    "train_df.head()"
   ]
  },
  {
   "cell_type": "code",
   "execution_count": 7,
   "metadata": {},
   "outputs": [
    {
     "data": {
      "text/plain": [
       "(466, 117)"
      ]
     },
     "execution_count": 7,
     "metadata": {},
     "output_type": "execute_result"
    }
   ],
   "source": [
    "len(train_df), len(test_df)"
   ]
  },
  {
   "cell_type": "code",
   "execution_count": 8,
   "metadata": {},
   "outputs": [],
   "source": [
    "from sklearn.model_selection import KFold,StratifiedKFold\n",
    "sfolder = StratifiedKFold(n_splits=5,random_state=13,shuffle=True)\n",
    "X = train_df[['BraTS21ID']]\n",
    "y = train_df[['MGMT_value']]\n",
    "\n",
    "fold_no = 1\n",
    "for train, valid in sfolder.split(X,y):\n",
    "    if fold_no==Selected_fold:\n",
    "        train_df.loc[valid, \"Fold\"] = \"valid\"\n",
    "    fold_no += 1"
   ]
  },
  {
   "cell_type": "code",
   "execution_count": 9,
   "metadata": {},
   "outputs": [
    {
     "name": "stdout",
     "output_type": "stream",
     "text": [
      "df_train= 372 -- df_valid= 94\n"
     ]
    }
   ],
   "source": [
    "df_train=train_df[train_df.Fold==\"train\"]\n",
    "df_valid=train_df[train_df.Fold==\"valid\"]\n",
    "print(\"df_train=\",len(df_train),\"-- df_valid=\",len(df_valid))"
   ]
  },
  {
   "cell_type": "code",
   "execution_count": 10,
   "metadata": {},
   "outputs": [],
   "source": [
    "def load_dicom(path,modality_lut=MODALITY_LUT,voi_lut=VOI_LUT,TOPPHAT=TOPPHAT,MORPHOLOGY=MORPHOLOGY,size=IMAGE_SIZE):\n",
    "    # read dicom\n",
    "    dicom = pydicom.read_file(path)\n",
    "\n",
    "    # pixel array\n",
    "    data = dicom.pixel_array\n",
    "    \n",
    "    if modality_lut:\n",
    "        # 기울기와 절편을 적용해주지 않으면 brightness가 엉망이 될 수도 있다고 한다.\n",
    "        data = apply_modality_lut(data,dicom)\n",
    "    \n",
    "    if voi_lut :\n",
    "        # window center와 window width에 맞춰 영상의 픽셀값 조정\n",
    "        data = apply_voi_lut(data,dicom)\n",
    "\n",
    "    # 16비트 짜리 dicom 이미지를 8비트 (0 ~ 255) 픽셀 데이터로 rescale\n",
    "    if np.max(data) != 0:\n",
    "        data = data / np.max(data)\n",
    "    data = (data * 255).astype(np.uint8)\n",
    "\n",
    "    k = cv2.getStructuringElement(cv2.MORPH_RECT,KERNEL_SIZE)  # tophat or gradient 적용 시 활성화\n",
    "    if TOPPHAT == True:\n",
    "        data = cv2.morphologyEx(data, cv2.MORPH_TOPHAT, k)       # tophat 적용\n",
    "    if MORPHOLOGY == True:\n",
    "        data = cv2.morphologyEx(data, cv2.MORPH_GRADIENT, k)       # gradient 적용\n",
    "\n",
    "    # resize\n",
    "    return cv2.resize(data, (size, size))"
   ]
  },
  {
   "cell_type": "markdown",
   "metadata": {},
   "source": [
    "- BrainRSNADataset"
   ]
  },
  {
   "cell_type": "code",
   "execution_count": 11,
   "metadata": {},
   "outputs": [],
   "source": [
    "class BrainRSNADataset(Dataset):\n",
    "    def __init__(\n",
    "        self, data, transform=None, mri_type=IMAGE_TYPE, is_train=True\n",
    "    ):\n",
    "\n",
    "    #input서 ds_type=\"forgot\",  do_load=True 생략\n",
    "        self.data = data\n",
    "        self.type = mri_type\n",
    "\n",
    "        self.idpath = data[\"BraTS21ID\"].values\n",
    "        self.target = data[\"MGMT_value\"].values\n",
    "\n",
    "        self.transform = transform\n",
    "        self.is_train = is_train\n",
    "        self.folder = \"train\" if self.is_train else \"test\"\n",
    "        # self.do_load = do_load\n",
    "        # self.ds_type = ds_type\n",
    "        # self.img_indexes = self._prepare_biggest_images()\n",
    "\n",
    "    def __len__(self):\n",
    "        return len(self.data)\n",
    "\n",
    "    def __getitem__(self, index):\n",
    "        case_id = int(self.idpath[index])\n",
    "        target = int(self.target[index])\n",
    "        _3d_images = self.load_dicom_images_3d(case_id)\n",
    "        _3d_images = torch.tensor(_3d_images).float()\n",
    "        if self.is_train:\n",
    "            return {\"image\": _3d_images, \"target\": target, \"case_id\": case_id}\n",
    "        else:\n",
    "            return {\"image\": _3d_images, \"case_id\": case_id}\n",
    "\n",
    "    # def _prepare_biggest_images(self):\n",
    "    #     big_image_indexes = {}\n",
    "    #     if (f\"big_image_indexes_{self.ds_type}.pkl\" in os.listdir(\"../input/\"))\\\n",
    "    #         and (self.do_load) :\n",
    "    #         print(\"Loading the best images indexes for all the cases...\")\n",
    "    #         big_image_indexes = joblib.load(f\"../input/big_image_indexes_{self.ds_type}.pkl\")\n",
    "    #         return big_image_indexes\n",
    "    #     else:\n",
    "            \n",
    "    #         print(\"Caulculating the best scans for every case...\")\n",
    "    #         for row in tqdm(self.data.iterrows(), total=len(self.data)):\n",
    "    #             case_id = str(int(row[1].BraTS21ID)).zfill(5)\n",
    "    #             path = f\"../input/{self.folder}/{case_id}/{self.type}/*.dcm\"\n",
    "    #             files = sorted(\n",
    "    #                 glob.glob(path),\n",
    "    #                 key=lambda var: [\n",
    "    #                     int(x) if x.isdigit() else x for x in re.findall(r\"[^0-9]|[0-9]+\", var)\n",
    "    #                 ],\n",
    "    #             )\n",
    "    #             resolutions = [utils.extract_cropped_image_size(f) for f in files]\n",
    "    #             middle = np.array(resolutions).argmax()\n",
    "    #             big_image_indexes[case_id] = middle\n",
    "\n",
    "    #         joblib.dump(big_image_indexes, f\"../input/big_image_indexes_{self.ds_type}.pkl\")\n",
    "    #         return big_image_indexes\n",
    "\n",
    "\n",
    "\n",
    "    def load_dicom_images_3d(\n",
    "        self,\n",
    "        case_id,\n",
    "        num_imgs=NUM_IMAGES_3D,\n",
    "        img_size=IMAGE_SIZE,\n",
    "        rotate=0,\n",
    "    ):\n",
    "        case_id = str(case_id).zfill(5)\n",
    "\n",
    "        path = f\"../../data/train/{case_id}/{self.type}/*.dcm\"\n",
    "        files = sorted(\n",
    "            glob.glob(path),\n",
    "            key=lambda var: [\n",
    "                int(x) if x.isdigit() else x for x in re.findall(r\"[^0-9]|[0-9]+\", var)\n",
    "            ],\n",
    "        )    \n",
    "        # middle = self.img_indexes[case_id]\n",
    "\n",
    "        middle = len(files) // 2\n",
    "        num_imgs2 = num_imgs // 2\n",
    "        p1 = max(0, middle - num_imgs2)\n",
    "        p2 = min(len(files), middle + num_imgs2)\n",
    "        image_stack = [load_dicom(f) for f in files[p1:p2]]\n",
    "        \n",
    "        img3d = np.stack(image_stack).T\n",
    "        if img3d.shape[-1] < num_imgs:\n",
    "            n_zero = np.zeros((img_size, img_size, num_imgs - img3d.shape[-1]))\n",
    "            img3d = np.concatenate((img3d, n_zero), axis=-1)\n",
    "\n",
    "        return np.expand_dims(img3d, 0)"
   ]
  },
  {
   "cell_type": "code",
   "execution_count": 12,
   "metadata": {},
   "outputs": [],
   "source": [
    "train_dataset = BrainRSNADataset(data=df_train,is_train=True)\n",
    "valid_dataset = BrainRSNADataset(data=df_valid,is_train=True)"
   ]
  },
  {
   "cell_type": "code",
   "execution_count": 13,
   "metadata": {},
   "outputs": [],
   "source": [
    "train_dl = torch.utils.data.DataLoader(\n",
    "    train_dataset,\n",
    "    batch_size=4,\n",
    "    shuffle=True,\n",
    "    num_workers=0,\n",
    "    drop_last=True,\n",
    "    pin_memory=True,\n",
    ")\n",
    "\n",
    "validation_dl = torch.utils.data.DataLoader(\n",
    "    valid_dataset,\n",
    "    batch_size=4,\n",
    "    shuffle=False,\n",
    "    num_workers=0,\n",
    "    pin_memory=True,\n",
    ")"
   ]
  },
  {
   "cell_type": "code",
   "execution_count": 14,
   "metadata": {},
   "outputs": [
    {
     "name": "stdout",
     "output_type": "stream",
     "text": [
      "Adjusting learning rate of group 0 to 1.0000e-04.\n"
     ]
    }
   ],
   "source": [
    "# model \n",
    "# num_classes : output의 갯수 (classification)\n",
    "# spatial_dims : 입력 이미지의 공간 차원 수\n",
    "# n_input_channels: 첫 번째 컨볼루션 레이어의 입력 채널 수\n",
    "\n",
    "model = monai.networks.nets.resnet10(spatial_dims=3, n_input_channels=1, n_classes=1)\n",
    "optimizer = optim.Adam(model.parameters(), lr=0.0001)\n",
    "\n",
    "scheduler = lr_scheduler.MultiStepLR(optimizer, milestones=[10], gamma=0.5, last_epoch=-1, verbose=True)\n",
    "\n",
    "model.zero_grad()\n",
    "model.to(device)\n",
    "best_loss = 9999\n",
    "best_auc = 0\n",
    "criterion = nn.BCEWithLogitsLoss()"
   ]
  },
  {
   "cell_type": "markdown",
   "metadata": {},
   "source": [
    "## Train"
   ]
  },
  {
   "cell_type": "code",
   "execution_count": 15,
   "metadata": {},
   "outputs": [],
   "source": [
    "# 캐시 지우기\n",
    "# import torch, gc\n",
    "# gc.collect()\n",
    "# torch.cuda.empty_cache()"
   ]
  },
  {
   "cell_type": "code",
   "execution_count": 16,
   "metadata": {},
   "outputs": [
    {
     "name": "stderr",
     "output_type": "stream",
     "text": [
      "100%|██████████| 93/93 [01:12<00:00,  1.28it/s, batch_loss=0.673, loss=0.734]\n"
     ]
    },
    {
     "name": "stdout",
     "output_type": "stream",
     "text": [
      "Adjusting learning rate of group 0 to 1.0000e-04.\n"
     ]
    },
    {
     "name": "stderr",
     "output_type": "stream",
     "text": [
      "100%|██████████| 24/24 [00:12<00:00,  1.89it/s, batch_loss=0.74, loss=0.679] \n"
     ]
    },
    {
     "name": "stdout",
     "output_type": "stream",
     "text": [
      "EPOCH 1/50: Validation average loss: 0.6789921695987383 + AUC SCORE = 0.5419630156472262 + AUC SCORE THRESH 0.44897959183673464 = 0.586533902323376\n",
      "Saving the model...\n"
     ]
    },
    {
     "name": "stderr",
     "output_type": "stream",
     "text": [
      "100%|██████████| 93/93 [01:09<00:00,  1.33it/s, batch_loss=0.77, loss=0.697] \n"
     ]
    },
    {
     "name": "stdout",
     "output_type": "stream",
     "text": [
      "Adjusting learning rate of group 0 to 1.0000e-04.\n"
     ]
    },
    {
     "name": "stderr",
     "output_type": "stream",
     "text": [
      "100%|██████████| 24/24 [00:12<00:00,  1.88it/s, batch_loss=0.758, loss=0.671]\n"
     ]
    },
    {
     "name": "stdout",
     "output_type": "stream",
     "text": [
      "EPOCH 2/50: Validation average loss: 0.6712537941833338 + AUC SCORE = 0.5443338074917022 + AUC SCORE THRESH 0.5102040816326531 = 0.5744428639165482\n",
      "Saving the model...\n"
     ]
    },
    {
     "name": "stderr",
     "output_type": "stream",
     "text": [
      "100%|██████████| 93/93 [01:10<00:00,  1.32it/s, batch_loss=0.68, loss=0.687] \n"
     ]
    },
    {
     "name": "stdout",
     "output_type": "stream",
     "text": [
      "Adjusting learning rate of group 0 to 1.0000e-04.\n"
     ]
    },
    {
     "name": "stderr",
     "output_type": "stream",
     "text": [
      "100%|██████████| 24/24 [00:13<00:00,  1.84it/s, batch_loss=0.857, loss=0.689]\n"
     ]
    },
    {
     "name": "stdout",
     "output_type": "stream",
     "text": [
      "EPOCH 3/50: Validation average loss: 0.6890663045148054 + AUC SCORE = 0.5320056899004267 + AUC SCORE THRESH 0.5306122448979591 = 0.5839260312944523\n"
     ]
    },
    {
     "name": "stderr",
     "output_type": "stream",
     "text": [
      "100%|██████████| 93/93 [01:10<00:00,  1.31it/s, batch_loss=0.802, loss=0.671]\n"
     ]
    },
    {
     "name": "stdout",
     "output_type": "stream",
     "text": [
      "Adjusting learning rate of group 0 to 1.0000e-04.\n"
     ]
    },
    {
     "name": "stderr",
     "output_type": "stream",
     "text": [
      "100%|██████████| 24/24 [00:12<00:00,  1.88it/s, batch_loss=0.719, loss=0.707]\n"
     ]
    },
    {
     "name": "stdout",
     "output_type": "stream",
     "text": [
      "EPOCH 4/50: Validation average loss: 0.7065473223725954 + AUC SCORE = 0.5263157894736842 + AUC SCORE THRESH 0.3877551020408163 = 0.5649596965386439\n"
     ]
    },
    {
     "name": "stderr",
     "output_type": "stream",
     "text": [
      "100%|██████████| 93/93 [01:10<00:00,  1.33it/s, batch_loss=0.761, loss=0.669]\n"
     ]
    },
    {
     "name": "stdout",
     "output_type": "stream",
     "text": [
      "Adjusting learning rate of group 0 to 1.0000e-04.\n"
     ]
    },
    {
     "name": "stderr",
     "output_type": "stream",
     "text": [
      "100%|██████████| 24/24 [00:12<00:00,  1.87it/s, batch_loss=0.632, loss=0.729]\n"
     ]
    },
    {
     "name": "stdout",
     "output_type": "stream",
     "text": [
      "EPOCH 5/50: Validation average loss: 0.7285447965065638 + AUC SCORE = 0.5211000474158369 + AUC SCORE THRESH 0.4081632653061224 = 0.569701280227596\n"
     ]
    },
    {
     "name": "stderr",
     "output_type": "stream",
     "text": [
      "100%|██████████| 93/93 [01:10<00:00,  1.32it/s, batch_loss=0.651, loss=0.658]\n"
     ]
    },
    {
     "name": "stdout",
     "output_type": "stream",
     "text": [
      "Adjusting learning rate of group 0 to 1.0000e-04.\n"
     ]
    },
    {
     "name": "stderr",
     "output_type": "stream",
     "text": [
      "100%|██████████| 24/24 [00:13<00:00,  1.84it/s, batch_loss=0.736, loss=0.73] \n"
     ]
    },
    {
     "name": "stdout",
     "output_type": "stream",
     "text": [
      "EPOCH 6/50: Validation average loss: 0.7304662217696508 + AUC SCORE = 0.5130393551446182 + AUC SCORE THRESH 0.18367346938775508 = 0.5412517780938833\n"
     ]
    },
    {
     "name": "stderr",
     "output_type": "stream",
     "text": [
      "100%|██████████| 93/93 [01:10<00:00,  1.31it/s, batch_loss=0.744, loss=0.667]\n"
     ]
    },
    {
     "name": "stdout",
     "output_type": "stream",
     "text": [
      "Adjusting learning rate of group 0 to 1.0000e-04.\n"
     ]
    },
    {
     "name": "stderr",
     "output_type": "stream",
     "text": [
      "100%|██████████| 24/24 [00:13<00:00,  1.83it/s, batch_loss=0.875, loss=0.815]\n"
     ]
    },
    {
     "name": "stdout",
     "output_type": "stream",
     "text": [
      "EPOCH 7/50: Validation average loss: 0.8152302751938502 + AUC SCORE = 0.5367472735893788 + AUC SCORE THRESH 0.8163265306122448 = 0.5478899952584164\n"
     ]
    },
    {
     "name": "stderr",
     "output_type": "stream",
     "text": [
      "100%|██████████| 93/93 [01:11<00:00,  1.29it/s, batch_loss=0.748, loss=0.651]\n"
     ]
    },
    {
     "name": "stdout",
     "output_type": "stream",
     "text": [
      "Adjusting learning rate of group 0 to 1.0000e-04.\n"
     ]
    },
    {
     "name": "stderr",
     "output_type": "stream",
     "text": [
      "100%|██████████| 24/24 [00:12<00:00,  1.85it/s, batch_loss=1.1, loss=0.781]  \n"
     ]
    },
    {
     "name": "stdout",
     "output_type": "stream",
     "text": [
      "EPOCH 8/50: Validation average loss: 0.781192559748888 + AUC SCORE = 0.5040303461356093 + AUC SCORE THRESH 0.6326530612244897 = 0.5455192034139402\n"
     ]
    },
    {
     "name": "stderr",
     "output_type": "stream",
     "text": [
      "100%|██████████| 93/93 [01:10<00:00,  1.31it/s, batch_loss=0.637, loss=0.654]\n"
     ]
    },
    {
     "name": "stdout",
     "output_type": "stream",
     "text": [
      "Adjusting learning rate of group 0 to 1.0000e-04.\n"
     ]
    },
    {
     "name": "stderr",
     "output_type": "stream",
     "text": [
      "100%|██████████| 24/24 [00:13<00:00,  1.80it/s, batch_loss=0.932, loss=0.75] \n"
     ]
    },
    {
     "name": "stdout",
     "output_type": "stream",
     "text": [
      "EPOCH 9/50: Validation average loss: 0.7499425460894903 + AUC SCORE = 0.4997629208155524 + AUC SCORE THRESH 0.4081632653061224 = 0.5405405405405406\n"
     ]
    },
    {
     "name": "stderr",
     "output_type": "stream",
     "text": [
      "100%|██████████| 93/93 [01:11<00:00,  1.30it/s, batch_loss=0.813, loss=0.648]\n"
     ]
    },
    {
     "name": "stdout",
     "output_type": "stream",
     "text": [
      "Adjusting learning rate of group 0 to 5.0000e-05.\n"
     ]
    },
    {
     "name": "stderr",
     "output_type": "stream",
     "text": [
      "100%|██████████| 24/24 [00:13<00:00,  1.84it/s, batch_loss=0.8, loss=0.707]  \n"
     ]
    },
    {
     "name": "stdout",
     "output_type": "stream",
     "text": [
      "EPOCH 10/50: Validation average loss: 0.7068891674280167 + AUC SCORE = 0.5248933143669985 + AUC SCORE THRESH 0.3469387755102041 = 0.5405405405405406\n"
     ]
    },
    {
     "name": "stderr",
     "output_type": "stream",
     "text": [
      "100%|██████████| 93/93 [01:10<00:00,  1.32it/s, batch_loss=0.805, loss=0.622]\n"
     ]
    },
    {
     "name": "stdout",
     "output_type": "stream",
     "text": [
      "Adjusting learning rate of group 0 to 5.0000e-05.\n"
     ]
    },
    {
     "name": "stderr",
     "output_type": "stream",
     "text": [
      "100%|██████████| 24/24 [00:13<00:00,  1.84it/s, batch_loss=0.768, loss=0.7]  \n"
     ]
    },
    {
     "name": "stdout",
     "output_type": "stream",
     "text": [
      "EPOCH 11/50: Validation average loss: 0.699821162968874 + AUC SCORE = 0.5045045045045045 + AUC SCORE THRESH 0.36734693877551017 = 0.5452821242294926\n"
     ]
    },
    {
     "name": "stderr",
     "output_type": "stream",
     "text": [
      "100%|██████████| 93/93 [01:10<00:00,  1.32it/s, batch_loss=0.447, loss=0.614]\n"
     ]
    },
    {
     "name": "stdout",
     "output_type": "stream",
     "text": [
      "Adjusting learning rate of group 0 to 5.0000e-05.\n"
     ]
    },
    {
     "name": "stderr",
     "output_type": "stream",
     "text": [
      "100%|██████████| 24/24 [00:12<00:00,  1.85it/s, batch_loss=0.713, loss=0.731]\n"
     ]
    },
    {
     "name": "stdout",
     "output_type": "stream",
     "text": [
      "EPOCH 12/50: Validation average loss: 0.7307088846961657 + AUC SCORE = 0.5125651967757231 + AUC SCORE THRESH 0.32653061224489793 = 0.5459933617828355\n"
     ]
    },
    {
     "name": "stderr",
     "output_type": "stream",
     "text": [
      "100%|██████████| 93/93 [01:11<00:00,  1.31it/s, batch_loss=0.711, loss=0.602]\n"
     ]
    },
    {
     "name": "stdout",
     "output_type": "stream",
     "text": [
      "Adjusting learning rate of group 0 to 5.0000e-05.\n"
     ]
    },
    {
     "name": "stderr",
     "output_type": "stream",
     "text": [
      "100%|██████████| 24/24 [00:13<00:00,  1.83it/s, batch_loss=0.572, loss=0.751]\n"
     ]
    },
    {
     "name": "stdout",
     "output_type": "stream",
     "text": [
      "EPOCH 13/50: Validation average loss: 0.751154188066721 + AUC SCORE = 0.5846372688477952 + AUC SCORE THRESH 0.5102040816326531 = 0.5889046941678521\n",
      "Saving the model...\n"
     ]
    },
    {
     "name": "stderr",
     "output_type": "stream",
     "text": [
      "100%|██████████| 93/93 [01:51<00:00,  1.20s/it, batch_loss=0.514, loss=0.574]\n"
     ]
    },
    {
     "name": "stdout",
     "output_type": "stream",
     "text": [
      "Adjusting learning rate of group 0 to 5.0000e-05.\n"
     ]
    },
    {
     "name": "stderr",
     "output_type": "stream",
     "text": [
      "100%|██████████| 24/24 [00:30<00:00,  1.26s/it, batch_loss=0.614, loss=0.794]\n"
     ]
    },
    {
     "name": "stdout",
     "output_type": "stream",
     "text": [
      "EPOCH 14/50: Validation average loss: 0.7939265941580137 + AUC SCORE = 0.5495495495495495 + AUC SCORE THRESH 0.6122448979591836 = 0.5862968231389284\n"
     ]
    },
    {
     "name": "stderr",
     "output_type": "stream",
     "text": [
      "100%|██████████| 93/93 [01:30<00:00,  1.03it/s, batch_loss=0.83, loss=0.562] \n"
     ]
    },
    {
     "name": "stdout",
     "output_type": "stream",
     "text": [
      "Adjusting learning rate of group 0 to 5.0000e-05.\n"
     ]
    },
    {
     "name": "stderr",
     "output_type": "stream",
     "text": [
      "100%|██████████| 24/24 [00:12<00:00,  1.86it/s, batch_loss=1.14, loss=0.826] \n"
     ]
    },
    {
     "name": "stdout",
     "output_type": "stream",
     "text": [
      "EPOCH 15/50: Validation average loss: 0.8262958166499933 + AUC SCORE = 0.5357989568515884 + AUC SCORE THRESH 0.9183673469387754 = 0.5694642010431484\n"
     ]
    },
    {
     "name": "stderr",
     "output_type": "stream",
     "text": [
      "100%|██████████| 93/93 [01:10<00:00,  1.32it/s, batch_loss=0.495, loss=0.561]\n"
     ]
    },
    {
     "name": "stdout",
     "output_type": "stream",
     "text": [
      "Adjusting learning rate of group 0 to 5.0000e-05.\n"
     ]
    },
    {
     "name": "stderr",
     "output_type": "stream",
     "text": [
      "100%|██████████| 24/24 [00:12<00:00,  1.85it/s, batch_loss=0.687, loss=0.827]\n"
     ]
    },
    {
     "name": "stdout",
     "output_type": "stream",
     "text": [
      "EPOCH 16/50: Validation average loss: 0.8266983317832152 + AUC SCORE = 0.5334281650071123 + AUC SCORE THRESH 0.7551020408163265 = 0.572072072072072\n"
     ]
    },
    {
     "name": "stderr",
     "output_type": "stream",
     "text": [
      "100%|██████████| 93/93 [01:10<00:00,  1.32it/s, batch_loss=0.44, loss=0.529] \n"
     ]
    },
    {
     "name": "stdout",
     "output_type": "stream",
     "text": [
      "Adjusting learning rate of group 0 to 5.0000e-05.\n"
     ]
    },
    {
     "name": "stderr",
     "output_type": "stream",
     "text": [
      "100%|██████████| 24/24 [00:12<00:00,  1.85it/s, batch_loss=0.733, loss=0.877]\n"
     ]
    },
    {
     "name": "stdout",
     "output_type": "stream",
     "text": [
      "EPOCH 17/50: Validation average loss: 0.8772300556302071 + AUC SCORE = 0.5163584637268848 + AUC SCORE THRESH 0.8979591836734693 = 0.5519203413940256\n"
     ]
    },
    {
     "name": "stderr",
     "output_type": "stream",
     "text": [
      "100%|██████████| 93/93 [01:10<00:00,  1.32it/s, batch_loss=0.416, loss=0.474]\n"
     ]
    },
    {
     "name": "stdout",
     "output_type": "stream",
     "text": [
      "Adjusting learning rate of group 0 to 5.0000e-05.\n"
     ]
    },
    {
     "name": "stderr",
     "output_type": "stream",
     "text": [
      "100%|██████████| 24/24 [00:12<00:00,  1.86it/s, batch_loss=0.821, loss=0.835]\n"
     ]
    },
    {
     "name": "stdout",
     "output_type": "stream",
     "text": [
      "EPOCH 18/50: Validation average loss: 0.8345378388961157 + AUC SCORE = 0.5348506401137979 + AUC SCORE THRESH 0.22448979591836732 = 0.559506875296349\n"
     ]
    },
    {
     "name": "stderr",
     "output_type": "stream",
     "text": [
      "100%|██████████| 93/93 [01:10<00:00,  1.32it/s, batch_loss=0.368, loss=0.424] \n"
     ]
    },
    {
     "name": "stdout",
     "output_type": "stream",
     "text": [
      "Adjusting learning rate of group 0 to 5.0000e-05.\n"
     ]
    },
    {
     "name": "stderr",
     "output_type": "stream",
     "text": [
      "100%|██████████| 24/24 [00:12<00:00,  1.85it/s, batch_loss=1.62, loss=1.04]  \n"
     ]
    },
    {
     "name": "stdout",
     "output_type": "stream",
     "text": [
      "EPOCH 19/50: Validation average loss: 1.0404101262489955 + AUC SCORE = 0.4385964912280702 + AUC SCORE THRESH 0.9183673469387754 = 0.5087719298245614\n"
     ]
    },
    {
     "name": "stderr",
     "output_type": "stream",
     "text": [
      "100%|██████████| 93/93 [01:10<00:00,  1.32it/s, batch_loss=0.658, loss=0.339] \n"
     ]
    },
    {
     "name": "stdout",
     "output_type": "stream",
     "text": [
      "Adjusting learning rate of group 0 to 5.0000e-05.\n"
     ]
    },
    {
     "name": "stderr",
     "output_type": "stream",
     "text": [
      "100%|██████████| 24/24 [00:12<00:00,  1.86it/s, batch_loss=0.54, loss=1.05]  \n"
     ]
    },
    {
     "name": "stdout",
     "output_type": "stream",
     "text": [
      "EPOCH 20/50: Validation average loss: 1.054989490037163 + AUC SCORE = 0.5324798482693219 + AUC SCORE THRESH 0.8979591836734693 = 0.5519203413940256\n"
     ]
    },
    {
     "name": "stderr",
     "output_type": "stream",
     "text": [
      "100%|██████████| 93/93 [01:10<00:00,  1.32it/s, batch_loss=0.168, loss=0.258] \n"
     ]
    },
    {
     "name": "stdout",
     "output_type": "stream",
     "text": [
      "Adjusting learning rate of group 0 to 5.0000e-05.\n"
     ]
    },
    {
     "name": "stderr",
     "output_type": "stream",
     "text": [
      "100%|██████████| 24/24 [00:12<00:00,  1.85it/s, batch_loss=0.294, loss=1.19] \n"
     ]
    },
    {
     "name": "stdout",
     "output_type": "stream",
     "text": [
      "EPOCH 21/50: Validation average loss: 1.1857575494796038 + AUC SCORE = 0.5215742057847321 + AUC SCORE THRESH 0.9591836734693877 = 0.5471787577050735\n"
     ]
    },
    {
     "name": "stderr",
     "output_type": "stream",
     "text": [
      "100%|██████████| 93/93 [01:10<00:00,  1.32it/s, batch_loss=0.181, loss=0.197] \n"
     ]
    },
    {
     "name": "stdout",
     "output_type": "stream",
     "text": [
      "Adjusting learning rate of group 0 to 5.0000e-05.\n"
     ]
    },
    {
     "name": "stderr",
     "output_type": "stream",
     "text": [
      "100%|██████████| 24/24 [00:12<00:00,  1.85it/s, batch_loss=0.55, loss=1.04]  \n"
     ]
    },
    {
     "name": "stdout",
     "output_type": "stream",
     "text": [
      "EPOCH 22/50: Validation average loss: 1.0429269969463348 + AUC SCORE = 0.5519203413940256 + AUC SCORE THRESH 0.4081632653061224 = 0.5779990516832622\n"
     ]
    },
    {
     "name": "stderr",
     "output_type": "stream",
     "text": [
      "100%|██████████| 93/93 [01:10<00:00,  1.32it/s, batch_loss=0.177, loss=0.18]  \n"
     ]
    },
    {
     "name": "stdout",
     "output_type": "stream",
     "text": [
      "Adjusting learning rate of group 0 to 5.0000e-05.\n"
     ]
    },
    {
     "name": "stderr",
     "output_type": "stream",
     "text": [
      "100%|██████████| 24/24 [00:12<00:00,  1.85it/s, batch_loss=0.874, loss=1.11] \n"
     ]
    },
    {
     "name": "stdout",
     "output_type": "stream",
     "text": [
      "EPOCH 23/50: Validation average loss: 1.1112052233268817 + AUC SCORE = 0.5073494547178757 + AUC SCORE THRESH 0.8163265306122448 = 0.545045045045045\n"
     ]
    },
    {
     "name": "stderr",
     "output_type": "stream",
     "text": [
      "100%|██████████| 93/93 [01:10<00:00,  1.32it/s, batch_loss=0.132, loss=0.102]  \n"
     ]
    },
    {
     "name": "stdout",
     "output_type": "stream",
     "text": [
      "Adjusting learning rate of group 0 to 5.0000e-05.\n"
     ]
    },
    {
     "name": "stderr",
     "output_type": "stream",
     "text": [
      "100%|██████████| 24/24 [00:12<00:00,  1.85it/s, batch_loss=1.39, loss=1.14]  \n"
     ]
    },
    {
     "name": "stdout",
     "output_type": "stream",
     "text": [
      "EPOCH 24/50: Validation average loss: 1.136286724358797 + AUC SCORE = 0.5192034139402559 + AUC SCORE THRESH 0.8571428571428571 = 0.5443338074917021\n"
     ]
    },
    {
     "name": "stderr",
     "output_type": "stream",
     "text": [
      "100%|██████████| 93/93 [01:10<00:00,  1.31it/s, batch_loss=0.094, loss=0.155] \n"
     ]
    },
    {
     "name": "stdout",
     "output_type": "stream",
     "text": [
      "Adjusting learning rate of group 0 to 5.0000e-05.\n"
     ]
    },
    {
     "name": "stderr",
     "output_type": "stream",
     "text": [
      "100%|██████████| 24/24 [00:12<00:00,  1.86it/s, batch_loss=0.809, loss=1.22]\n"
     ]
    },
    {
     "name": "stdout",
     "output_type": "stream",
     "text": [
      "EPOCH 25/50: Validation average loss: 1.2152653100589912 + AUC SCORE = 0.5457562825983878 + AUC SCORE THRESH 0.7959183673469387 = 0.5680417259364628\n"
     ]
    },
    {
     "name": "stderr",
     "output_type": "stream",
     "text": [
      "100%|██████████| 93/93 [01:10<00:00,  1.32it/s, batch_loss=0.0368, loss=0.109] \n"
     ]
    },
    {
     "name": "stdout",
     "output_type": "stream",
     "text": [
      "Adjusting learning rate of group 0 to 5.0000e-05.\n"
     ]
    },
    {
     "name": "stderr",
     "output_type": "stream",
     "text": [
      "100%|██████████| 24/24 [00:12<00:00,  1.86it/s, batch_loss=0.72, loss=1.19]  \n"
     ]
    },
    {
     "name": "stdout",
     "output_type": "stream",
     "text": [
      "EPOCH 26/50: Validation average loss: 1.1869145991901557 + AUC SCORE = 0.5353247984826932 + AUC SCORE THRESH 0.18367346938775508 = 0.5704125177809388\n"
     ]
    },
    {
     "name": "stderr",
     "output_type": "stream",
     "text": [
      "100%|██████████| 93/93 [01:10<00:00,  1.32it/s, batch_loss=0.34, loss=0.124]   \n"
     ]
    },
    {
     "name": "stdout",
     "output_type": "stream",
     "text": [
      "Adjusting learning rate of group 0 to 5.0000e-05.\n"
     ]
    },
    {
     "name": "stderr",
     "output_type": "stream",
     "text": [
      "100%|██████████| 24/24 [00:12<00:00,  1.86it/s, batch_loss=0.959, loss=1.17] \n"
     ]
    },
    {
     "name": "stdout",
     "output_type": "stream",
     "text": [
      "EPOCH 27/50: Validation average loss: 1.1702004217853148 + AUC SCORE = 0.4969179706021811 + AUC SCORE THRESH 0.24489795918367346 = 0.5393551446183025\n"
     ]
    },
    {
     "name": "stderr",
     "output_type": "stream",
     "text": [
      "100%|██████████| 93/93 [01:10<00:00,  1.32it/s, batch_loss=0.0294, loss=0.0862]\n"
     ]
    },
    {
     "name": "stdout",
     "output_type": "stream",
     "text": [
      "Adjusting learning rate of group 0 to 5.0000e-05.\n"
     ]
    },
    {
     "name": "stderr",
     "output_type": "stream",
     "text": [
      "100%|██████████| 24/24 [00:13<00:00,  1.84it/s, batch_loss=0.677, loss=1.29]\n"
     ]
    },
    {
     "name": "stdout",
     "output_type": "stream",
     "text": [
      "EPOCH 28/50: Validation average loss: 1.2917797869692247 + AUC SCORE = 0.5220483641536273 + AUC SCORE THRESH 0.5714285714285714 = 0.5651967757230915\n"
     ]
    },
    {
     "name": "stderr",
     "output_type": "stream",
     "text": [
      "100%|██████████| 93/93 [01:10<00:00,  1.32it/s, batch_loss=0.0114, loss=0.0385] \n"
     ]
    },
    {
     "name": "stdout",
     "output_type": "stream",
     "text": [
      "Adjusting learning rate of group 0 to 5.0000e-05.\n"
     ]
    },
    {
     "name": "stderr",
     "output_type": "stream",
     "text": [
      "100%|██████████| 24/24 [00:12<00:00,  1.86it/s, batch_loss=0.857, loss=1.31]\n"
     ]
    },
    {
     "name": "stdout",
     "output_type": "stream",
     "text": [
      "EPOCH 29/50: Validation average loss: 1.3089716558655102 + AUC SCORE = 0.5135135135135135 + AUC SCORE THRESH 0.836734693877551 = 0.5362731152204837\n"
     ]
    },
    {
     "name": "stderr",
     "output_type": "stream",
     "text": [
      "100%|██████████| 93/93 [01:10<00:00,  1.32it/s, batch_loss=0.0838, loss=0.0255] \n"
     ]
    },
    {
     "name": "stdout",
     "output_type": "stream",
     "text": [
      "Adjusting learning rate of group 0 to 5.0000e-05.\n"
     ]
    },
    {
     "name": "stderr",
     "output_type": "stream",
     "text": [
      "100%|██████████| 24/24 [00:12<00:00,  1.85it/s, batch_loss=0.717, loss=1.42]\n"
     ]
    },
    {
     "name": "stdout",
     "output_type": "stream",
     "text": [
      "EPOCH 30/50: Validation average loss: 1.423330067967375 + AUC SCORE = 0.5059269796111902 + AUC SCORE THRESH 0.9591836734693877 = 0.5384068278805121\n"
     ]
    },
    {
     "name": "stderr",
     "output_type": "stream",
     "text": [
      "100%|██████████| 93/93 [01:10<00:00,  1.32it/s, batch_loss=0.00416, loss=0.025] \n"
     ]
    },
    {
     "name": "stdout",
     "output_type": "stream",
     "text": [
      "Adjusting learning rate of group 0 to 5.0000e-05.\n"
     ]
    },
    {
     "name": "stderr",
     "output_type": "stream",
     "text": [
      "100%|██████████| 24/24 [00:12<00:00,  1.85it/s, batch_loss=0.632, loss=1.29]\n"
     ]
    },
    {
     "name": "stdout",
     "output_type": "stream",
     "text": [
      "EPOCH 31/50: Validation average loss: 1.287801157683134 + AUC SCORE = 0.5301090564248458 + AUC SCORE THRESH 0.6122448979591836 = 0.5483641536273115\n"
     ]
    },
    {
     "name": "stderr",
     "output_type": "stream",
     "text": [
      "100%|██████████| 93/93 [01:10<00:00,  1.32it/s, batch_loss=0.0201, loss=0.0255] \n"
     ]
    },
    {
     "name": "stdout",
     "output_type": "stream",
     "text": [
      "Adjusting learning rate of group 0 to 5.0000e-05.\n"
     ]
    },
    {
     "name": "stderr",
     "output_type": "stream",
     "text": [
      "100%|██████████| 24/24 [00:12<00:00,  1.86it/s, batch_loss=0.47, loss=1.27] \n"
     ]
    },
    {
     "name": "stdout",
     "output_type": "stream",
     "text": [
      "EPOCH 32/50: Validation average loss: 1.2748025432229042 + AUC SCORE = 0.5405405405405406 + AUC SCORE THRESH 0.6938775510204082 = 0.5531057373162636\n"
     ]
    },
    {
     "name": "stderr",
     "output_type": "stream",
     "text": [
      "100%|██████████| 93/93 [01:10<00:00,  1.32it/s, batch_loss=0.0188, loss=0.0197] \n"
     ]
    },
    {
     "name": "stdout",
     "output_type": "stream",
     "text": [
      "Adjusting learning rate of group 0 to 5.0000e-05.\n"
     ]
    },
    {
     "name": "stderr",
     "output_type": "stream",
     "text": [
      "100%|██████████| 24/24 [00:12<00:00,  1.85it/s, batch_loss=0.847, loss=1.23]\n"
     ]
    },
    {
     "name": "stdout",
     "output_type": "stream",
     "text": [
      "EPOCH 33/50: Validation average loss: 1.2314143106341362 + AUC SCORE = 0.5391180654338549 + AUC SCORE THRESH 0.8163265306122448 = 0.5578473210052156\n"
     ]
    },
    {
     "name": "stderr",
     "output_type": "stream",
     "text": [
      "100%|██████████| 93/93 [01:10<00:00,  1.32it/s, batch_loss=0.00836, loss=0.011] \n"
     ]
    },
    {
     "name": "stdout",
     "output_type": "stream",
     "text": [
      "Adjusting learning rate of group 0 to 5.0000e-05.\n"
     ]
    },
    {
     "name": "stderr",
     "output_type": "stream",
     "text": [
      "100%|██████████| 24/24 [00:12<00:00,  1.85it/s, batch_loss=0.993, loss=1.38]\n"
     ]
    },
    {
     "name": "stdout",
     "output_type": "stream",
     "text": [
      "EPOCH 34/50: Validation average loss: 1.3751187411447365 + AUC SCORE = 0.5263157894736842 + AUC SCORE THRESH 0.7551020408163265 = 0.5531057373162636\n"
     ]
    },
    {
     "name": "stderr",
     "output_type": "stream",
     "text": [
      "100%|██████████| 93/93 [01:10<00:00,  1.32it/s, batch_loss=0.0128, loss=0.0118]  \n"
     ]
    },
    {
     "name": "stdout",
     "output_type": "stream",
     "text": [
      "Adjusting learning rate of group 0 to 5.0000e-05.\n"
     ]
    },
    {
     "name": "stderr",
     "output_type": "stream",
     "text": [
      "100%|██████████| 24/24 [00:12<00:00,  1.86it/s, batch_loss=0.761, loss=1.33]\n"
     ]
    },
    {
     "name": "stdout",
     "output_type": "stream",
     "text": [
      "EPOCH 35/50: Validation average loss: 1.33267147342364 + AUC SCORE = 0.5334281650071123 + AUC SCORE THRESH 0.7755102040816326 = 0.5395922238027501\n"
     ]
    },
    {
     "name": "stderr",
     "output_type": "stream",
     "text": [
      "100%|██████████| 93/93 [01:10<00:00,  1.32it/s, batch_loss=0.00691, loss=0.0119]\n"
     ]
    },
    {
     "name": "stdout",
     "output_type": "stream",
     "text": [
      "Adjusting learning rate of group 0 to 5.0000e-05.\n"
     ]
    },
    {
     "name": "stderr",
     "output_type": "stream",
     "text": [
      "100%|██████████| 24/24 [00:12<00:00,  1.85it/s, batch_loss=1.2, loss=1.39]  \n"
     ]
    },
    {
     "name": "stdout",
     "output_type": "stream",
     "text": [
      "EPOCH 36/50: Validation average loss: 1.3903227138022582 + AUC SCORE = 0.5087719298245614 + AUC SCORE THRESH 0.7755102040816326 = 0.5531057373162636\n"
     ]
    },
    {
     "name": "stderr",
     "output_type": "stream",
     "text": [
      "100%|██████████| 93/93 [01:10<00:00,  1.32it/s, batch_loss=0.00737, loss=0.0119] \n"
     ]
    },
    {
     "name": "stdout",
     "output_type": "stream",
     "text": [
      "Adjusting learning rate of group 0 to 5.0000e-05.\n"
     ]
    },
    {
     "name": "stderr",
     "output_type": "stream",
     "text": [
      "100%|██████████| 24/24 [00:12<00:00,  1.86it/s, batch_loss=1.23, loss=1.41] \n"
     ]
    },
    {
     "name": "stdout",
     "output_type": "stream",
     "text": [
      "EPOCH 37/50: Validation average loss: 1.4059761681904395 + AUC SCORE = 0.5206258890469417 + AUC SCORE THRESH 0.7551020408163265 = 0.5443338074917021\n"
     ]
    },
    {
     "name": "stderr",
     "output_type": "stream",
     "text": [
      "100%|██████████| 93/93 [01:10<00:00,  1.32it/s, batch_loss=0.00459, loss=0.00791]\n"
     ]
    },
    {
     "name": "stdout",
     "output_type": "stream",
     "text": [
      "Adjusting learning rate of group 0 to 5.0000e-05.\n"
     ]
    },
    {
     "name": "stderr",
     "output_type": "stream",
     "text": [
      "100%|██████████| 24/24 [00:12<00:00,  1.86it/s, batch_loss=1.12, loss=1.38] \n"
     ]
    },
    {
     "name": "stdout",
     "output_type": "stream",
     "text": [
      "EPOCH 38/50: Validation average loss: 1.3822020875910919 + AUC SCORE = 0.5196775723091512 + AUC SCORE THRESH 0.8571428571428571 = 0.5538169748696065\n"
     ]
    },
    {
     "name": "stderr",
     "output_type": "stream",
     "text": [
      "100%|██████████| 93/93 [01:10<00:00,  1.32it/s, batch_loss=0.00278, loss=0.00856]\n"
     ]
    },
    {
     "name": "stdout",
     "output_type": "stream",
     "text": [
      "Adjusting learning rate of group 0 to 5.0000e-05.\n"
     ]
    },
    {
     "name": "stderr",
     "output_type": "stream",
     "text": [
      "100%|██████████| 24/24 [00:12<00:00,  1.85it/s, batch_loss=0.968, loss=1.43]\n"
     ]
    },
    {
     "name": "stdout",
     "output_type": "stream",
     "text": [
      "EPOCH 39/50: Validation average loss: 1.4254306368529797 + AUC SCORE = 0.5173067804646752 + AUC SCORE THRESH 0.5102040816326531 = 0.5557136083451872\n"
     ]
    },
    {
     "name": "stderr",
     "output_type": "stream",
     "text": [
      "100%|██████████| 93/93 [01:11<00:00,  1.30it/s, batch_loss=0.0027, loss=0.00724] \n"
     ]
    },
    {
     "name": "stdout",
     "output_type": "stream",
     "text": [
      "Adjusting learning rate of group 0 to 5.0000e-05.\n"
     ]
    },
    {
     "name": "stderr",
     "output_type": "stream",
     "text": [
      "100%|██████████| 24/24 [00:12<00:00,  1.85it/s, batch_loss=1.17, loss=1.42] \n"
     ]
    },
    {
     "name": "stdout",
     "output_type": "stream",
     "text": [
      "EPOCH 40/50: Validation average loss: 1.42118894867599 + AUC SCORE = 0.5106685633001422 + AUC SCORE THRESH 0.6530612244897959 = 0.5429113323850165\n"
     ]
    },
    {
     "name": "stderr",
     "output_type": "stream",
     "text": [
      "100%|██████████| 93/93 [01:10<00:00,  1.31it/s, batch_loss=0.00363, loss=0.00797]\n"
     ]
    },
    {
     "name": "stdout",
     "output_type": "stream",
     "text": [
      "Adjusting learning rate of group 0 to 5.0000e-05.\n"
     ]
    },
    {
     "name": "stderr",
     "output_type": "stream",
     "text": [
      "100%|██████████| 24/24 [00:12<00:00,  1.85it/s, batch_loss=0.88, loss=1.46] \n"
     ]
    },
    {
     "name": "stdout",
     "output_type": "stream",
     "text": [
      "EPOCH 41/50: Validation average loss: 1.4579921072969835 + AUC SCORE = 0.5177809388335703 + AUC SCORE THRESH 0.3469387755102041 = 0.5422000948316738\n"
     ]
    },
    {
     "name": "stderr",
     "output_type": "stream",
     "text": [
      "100%|██████████| 93/93 [01:10<00:00,  1.31it/s, batch_loss=0.00419, loss=0.0061] \n"
     ]
    },
    {
     "name": "stdout",
     "output_type": "stream",
     "text": [
      "Adjusting learning rate of group 0 to 5.0000e-05.\n"
     ]
    },
    {
     "name": "stderr",
     "output_type": "stream",
     "text": [
      "100%|██████████| 24/24 [00:13<00:00,  1.84it/s, batch_loss=1.26, loss=1.46] \n"
     ]
    },
    {
     "name": "stdout",
     "output_type": "stream",
     "text": [
      "EPOCH 42/50: Validation average loss: 1.4565009238819282 + AUC SCORE = 0.5196775723091512 + AUC SCORE THRESH 0.7959183673469387 = 0.5531057373162636\n"
     ]
    },
    {
     "name": "stderr",
     "output_type": "stream",
     "text": [
      "100%|██████████| 93/93 [01:10<00:00,  1.32it/s, batch_loss=0.00466, loss=0.00561]\n"
     ]
    },
    {
     "name": "stdout",
     "output_type": "stream",
     "text": [
      "Adjusting learning rate of group 0 to 5.0000e-05.\n"
     ]
    },
    {
     "name": "stderr",
     "output_type": "stream",
     "text": [
      "100%|██████████| 24/24 [00:13<00:00,  1.83it/s, batch_loss=1.2, loss=1.44]  \n"
     ]
    },
    {
     "name": "stdout",
     "output_type": "stream",
     "text": [
      "EPOCH 43/50: Validation average loss: 1.4368667503197987 + AUC SCORE = 0.5220483641536273 + AUC SCORE THRESH 0.836734693877551 = 0.5395922238027501\n"
     ]
    },
    {
     "name": "stderr",
     "output_type": "stream",
     "text": [
      "100%|██████████| 93/93 [01:11<00:00,  1.30it/s, batch_loss=0.00421, loss=0.00632]\n"
     ]
    },
    {
     "name": "stdout",
     "output_type": "stream",
     "text": [
      "Adjusting learning rate of group 0 to 5.0000e-05.\n"
     ]
    },
    {
     "name": "stderr",
     "output_type": "stream",
     "text": [
      "100%|██████████| 24/24 [00:12<00:00,  1.86it/s, batch_loss=0.833, loss=1.57]\n"
     ]
    },
    {
     "name": "stdout",
     "output_type": "stream",
     "text": [
      "EPOCH 44/50: Validation average loss: 1.56662546719114 + AUC SCORE = 0.514461830251304 + AUC SCORE THRESH 0.7142857142857142 = 0.566619250829777\n"
     ]
    },
    {
     "name": "stderr",
     "output_type": "stream",
     "text": [
      "100%|██████████| 93/93 [01:11<00:00,  1.31it/s, batch_loss=0.0201, loss=0.00441] \n"
     ]
    },
    {
     "name": "stdout",
     "output_type": "stream",
     "text": [
      "Adjusting learning rate of group 0 to 5.0000e-05.\n"
     ]
    },
    {
     "name": "stderr",
     "output_type": "stream",
     "text": [
      "100%|██████████| 24/24 [00:12<00:00,  1.86it/s, batch_loss=0.944, loss=1.45]\n"
     ]
    },
    {
     "name": "stdout",
     "output_type": "stream",
     "text": [
      "EPOCH 45/50: Validation average loss: 1.4537623698512714 + AUC SCORE = 0.5173067804646752 + AUC SCORE THRESH 0.7959183673469387 = 0.534850640113798\n"
     ]
    },
    {
     "name": "stderr",
     "output_type": "stream",
     "text": [
      "100%|██████████| 93/93 [01:11<00:00,  1.30it/s, batch_loss=0.00424, loss=0.00485] \n"
     ]
    },
    {
     "name": "stdout",
     "output_type": "stream",
     "text": [
      "Adjusting learning rate of group 0 to 5.0000e-05.\n"
     ]
    },
    {
     "name": "stderr",
     "output_type": "stream",
     "text": [
      "100%|██████████| 24/24 [00:13<00:00,  1.84it/s, batch_loss=1.21, loss=1.55] \n"
     ]
    },
    {
     "name": "stdout",
     "output_type": "stream",
     "text": [
      "EPOCH 46/50: Validation average loss: 1.5452832281589508 + AUC SCORE = 0.5030820293978189 + AUC SCORE THRESH 0.7142857142857142 = 0.5483641536273115\n"
     ]
    },
    {
     "name": "stderr",
     "output_type": "stream",
     "text": [
      "100%|██████████| 93/93 [01:11<00:00,  1.30it/s, batch_loss=0.00176, loss=0.00414] \n"
     ]
    },
    {
     "name": "stdout",
     "output_type": "stream",
     "text": [
      "Adjusting learning rate of group 0 to 5.0000e-05.\n"
     ]
    },
    {
     "name": "stderr",
     "output_type": "stream",
     "text": [
      "100%|██████████| 24/24 [00:12<00:00,  1.86it/s, batch_loss=0.99, loss=1.54] \n"
     ]
    },
    {
     "name": "stdout",
     "output_type": "stream",
     "text": [
      "EPOCH 47/50: Validation average loss: 1.5431558986504872 + AUC SCORE = 0.5097202465623518 + AUC SCORE THRESH 0.2040816326530612 = 0.5502607871028924\n"
     ]
    },
    {
     "name": "stderr",
     "output_type": "stream",
     "text": [
      "100%|██████████| 93/93 [01:11<00:00,  1.30it/s, batch_loss=0.00423, loss=0.00341] \n"
     ]
    },
    {
     "name": "stdout",
     "output_type": "stream",
     "text": [
      "Adjusting learning rate of group 0 to 5.0000e-05.\n"
     ]
    },
    {
     "name": "stderr",
     "output_type": "stream",
     "text": [
      "100%|██████████| 24/24 [00:12<00:00,  1.85it/s, batch_loss=1.16, loss=1.56] \n"
     ]
    },
    {
     "name": "stdout",
     "output_type": "stream",
     "text": [
      "EPOCH 48/50: Validation average loss: 1.5638940657178562 + AUC SCORE = 0.5158843053579896 + AUC SCORE THRESH 0.673469387755102 = 0.5436225699383594\n"
     ]
    },
    {
     "name": "stderr",
     "output_type": "stream",
     "text": [
      "100%|██████████| 93/93 [01:11<00:00,  1.30it/s, batch_loss=0.00254, loss=0.00328] \n"
     ]
    },
    {
     "name": "stdout",
     "output_type": "stream",
     "text": [
      "Adjusting learning rate of group 0 to 5.0000e-05.\n"
     ]
    },
    {
     "name": "stderr",
     "output_type": "stream",
     "text": [
      "100%|██████████| 24/24 [00:12<00:00,  1.86it/s, batch_loss=0.893, loss=1.49]\n"
     ]
    },
    {
     "name": "stdout",
     "output_type": "stream",
     "text": [
      "EPOCH 49/50: Validation average loss: 1.49123423670729 + AUC SCORE = 0.5206258890469416 + AUC SCORE THRESH 0.836734693877551 = 0.5538169748696065\n"
     ]
    },
    {
     "name": "stderr",
     "output_type": "stream",
     "text": [
      "100%|██████████| 93/93 [01:11<00:00,  1.30it/s, batch_loss=0.0105, loss=0.00337]  \n"
     ]
    },
    {
     "name": "stdout",
     "output_type": "stream",
     "text": [
      "Adjusting learning rate of group 0 to 5.0000e-05.\n"
     ]
    },
    {
     "name": "stderr",
     "output_type": "stream",
     "text": [
      "100%|██████████| 24/24 [00:12<00:00,  1.86it/s, batch_loss=1.21, loss=1.55] "
     ]
    },
    {
     "name": "stdout",
     "output_type": "stream",
     "text": [
      "EPOCH 50/50: Validation average loss: 1.5494356142977874 + AUC SCORE = 0.5111427216690374 + AUC SCORE THRESH 0.836734693877551 = 0.5443338074917021\n",
      "0.5846372688477952\n",
      "CPU times: total: 1h 21min 48s\n",
      "Wall time: 1h 11min 7s\n"
     ]
    },
    {
     "name": "stderr",
     "output_type": "stream",
     "text": [
      "\n"
     ]
    }
   ],
   "source": [
    "%%time\n",
    "for counter in range(1,N_EPOCHS+1):\n",
    "\n",
    "    epoch_iterator_train = tqdm(train_dl)\n",
    "    tr_loss = 0.0\n",
    "    for step, batch in enumerate(epoch_iterator_train):\n",
    "        model.train()\n",
    "        images, targets = batch[\"image\"].to(device), batch[\"target\"].to(device)\n",
    "\n",
    "        outputs = model(images)\n",
    "        targets = targets  # .view(-1, 1)\n",
    "        loss = criterion(outputs.squeeze(1), targets.float())\n",
    "\n",
    "        loss.backward()\n",
    "        optimizer.step()\n",
    "        model.zero_grad()\n",
    "        optimizer.zero_grad()\n",
    "\n",
    "        tr_loss += loss.item()\n",
    "        epoch_iterator_train.set_postfix(\n",
    "            batch_loss=(loss.item()), loss=(tr_loss / (step + 1))\n",
    "        )\n",
    "    scheduler.step()  # Update learning rate schedule\n",
    "\n",
    "    if do_valid:\n",
    "        with torch.no_grad():\n",
    "            val_loss = 0.0\n",
    "            preds = []\n",
    "            true_labels = []\n",
    "            case_ids = []\n",
    "            epoch_iterator_val = tqdm(validation_dl)\n",
    "            for step, batch in enumerate(epoch_iterator_val):\n",
    "                model.eval()\n",
    "                images, targets = batch[\"image\"].to(device), batch[\"target\"].to(device)\n",
    "\n",
    "                outputs = model(images)\n",
    "                targets = targets  # .view(-1, 1)\n",
    "                loss = criterion(outputs.squeeze(1), targets.float())\n",
    "                val_loss += loss.item()\n",
    "                epoch_iterator_val.set_postfix(\n",
    "                    batch_loss=(loss.item()), loss=(val_loss / (step + 1))\n",
    "                )\n",
    "                preds.append(outputs.sigmoid().detach().cpu().numpy())\n",
    "                true_labels.append(targets.cpu().numpy())\n",
    "                case_ids.append(batch[\"case_id\"])\n",
    "        preds = np.vstack(preds).T[0].tolist()\n",
    "        true_labels = np.hstack(true_labels).tolist()\n",
    "        case_ids = np.hstack(case_ids).tolist()\n",
    "        auc_score = roc_auc_score(true_labels, preds)\n",
    "        auc_score_adj_best = 0\n",
    "        for thresh in np.linspace(0, 1, 50):\n",
    "            auc_score_adj = roc_auc_score(true_labels, list(np.array(preds) > thresh))\n",
    "            if auc_score_adj > auc_score_adj_best:\n",
    "                best_thresh = thresh\n",
    "                auc_score_adj_best = auc_score_adj\n",
    "\n",
    "        print(\n",
    "            f\"EPOCH {counter}/{N_EPOCHS}: Validation average loss: {val_loss/(step+1)} + AUC SCORE = {auc_score} + AUC SCORE THRESH {best_thresh} = {auc_score_adj_best}\"\n",
    "        )\n",
    "\n",
    "        if auc_score > best_auc:\n",
    "            print(\"Saving the model...\")\n",
    "\n",
    "            all_files = os.listdir(\"./ResNet10_weights/\")\n",
    "\n",
    "            for f in all_files:\n",
    "                if f\"ResNet10_{TITLE}\" in f:\n",
    "                    os.remove(f\"./ResNet10_weights/{f}\")\n",
    "\n",
    "            best_auc = auc_score\n",
    "            torch.save(\n",
    "                model.state_dict(),\n",
    "                f\"./ResNet10_weights/3d-ResNet10_{TITLE}_{round(best_auc,3)}.pth\",\n",
    "            )\n",
    "\n",
    "print(best_auc)\n"
   ]
  },
  {
   "cell_type": "markdown",
   "metadata": {},
   "source": [
    "## Test"
   ]
  },
  {
   "cell_type": "code",
   "execution_count": 22,
   "metadata": {},
   "outputs": [],
   "source": [
    "import monai\n",
    "# num_classes : output의 갯수 (classification)\n",
    "# spatial_dims : 입력 이미지의 공간 차원 수\n",
    "# n_input_channels: 첫 번째 컨볼루션 레이어의 입력 채널 수\n",
    "model = monai.networks.nets.resnet10(spatial_dims=3, n_input_channels=1, n_classes=1)\n",
    "device = torch.device(\"cuda\")\n",
    "model.to(device);\n",
    "# all_weights = os.listdir(\"./resnet10-rsna_weight\")\n",
    "# fold_files = [f for f in all_weights if type_ in f]\n",
    "criterion = nn.BCEWithLogitsLoss()"
   ]
  },
  {
   "cell_type": "code",
   "execution_count": 23,
   "metadata": {},
   "outputs": [
    {
     "name": "stderr",
     "output_type": "stream",
     "text": [
      "100%|██████████| 15/15 [00:38<00:00,  2.58s/it]\n"
     ]
    }
   ],
   "source": [
    "tta_true_labels = []\n",
    "tta_preds = []\n",
    "test_dataset = BrainRSNADataset(data=test_df, is_train=False)\n",
    "test_dl = torch.utils.data.DataLoader(\n",
    "        test_dataset, batch_size=8, shuffle=False, num_workers=0\n",
    "    )\n",
    "\n",
    "preds_f = np.zeros(len(test_df))\n",
    "\n",
    "image_ids = []\n",
    "model.load_state_dict(torch.load(f\"./ResNet10_weights/3d-ResNet10_{TITLE}_{round(best_auc,3)}.pth\"))\n",
    "preds = []\n",
    "epoch_iterator_test = tqdm(test_dl)\n",
    "with torch.no_grad():\n",
    "    for  step, batch in enumerate(epoch_iterator_test):\n",
    "        model.eval()\n",
    "        images = batch[\"image\"].to(device)\n",
    "\n",
    "        outputs = model(images)\n",
    "        preds.append(outputs.sigmoid().detach().cpu().numpy())\n",
    "        image_ids.append(batch[\"case_id\"].detach().cpu().numpy())\n",
    "    \n",
    "\n",
    "preds_f += np.vstack(preds).T[0]/5\n",
    "\n",
    "ids_f = np.hstack(image_ids)"
   ]
  },
  {
   "cell_type": "code",
   "execution_count": 24,
   "metadata": {},
   "outputs": [],
   "source": [
    "result = pd.DataFrame({'BraTS21ID':test_df['BraTS21ID'],\n",
    "                       'MGMT_value_x':preds_f,\n",
    "                       'MGMT_value_y':test_df['MGMT_value']})"
   ]
  },
  {
   "cell_type": "code",
   "execution_count": 25,
   "metadata": {},
   "outputs": [
    {
     "data": {
      "text/html": [
       "<div>\n",
       "<style scoped>\n",
       "    .dataframe tbody tr th:only-of-type {\n",
       "        vertical-align: middle;\n",
       "    }\n",
       "\n",
       "    .dataframe tbody tr th {\n",
       "        vertical-align: top;\n",
       "    }\n",
       "\n",
       "    .dataframe thead th {\n",
       "        text-align: right;\n",
       "    }\n",
       "</style>\n",
       "<table border=\"1\" class=\"dataframe\">\n",
       "  <thead>\n",
       "    <tr style=\"text-align: right;\">\n",
       "      <th></th>\n",
       "      <th>BraTS21ID</th>\n",
       "      <th>MGMT_value_x</th>\n",
       "      <th>MGMT_value_y</th>\n",
       "    </tr>\n",
       "  </thead>\n",
       "  <tbody>\n",
       "    <tr>\n",
       "      <th>0</th>\n",
       "      <td>107</td>\n",
       "      <td>0.099379</td>\n",
       "      <td>1</td>\n",
       "    </tr>\n",
       "    <tr>\n",
       "      <th>1</th>\n",
       "      <td>753</td>\n",
       "      <td>0.153414</td>\n",
       "      <td>0</td>\n",
       "    </tr>\n",
       "    <tr>\n",
       "      <th>2</th>\n",
       "      <td>303</td>\n",
       "      <td>0.086696</td>\n",
       "      <td>1</td>\n",
       "    </tr>\n",
       "    <tr>\n",
       "      <th>3</th>\n",
       "      <td>106</td>\n",
       "      <td>0.009672</td>\n",
       "      <td>1</td>\n",
       "    </tr>\n",
       "    <tr>\n",
       "      <th>4</th>\n",
       "      <td>171</td>\n",
       "      <td>0.082197</td>\n",
       "      <td>1</td>\n",
       "    </tr>\n",
       "    <tr>\n",
       "      <th>...</th>\n",
       "      <td>...</td>\n",
       "      <td>...</td>\n",
       "      <td>...</td>\n",
       "    </tr>\n",
       "    <tr>\n",
       "      <th>112</th>\n",
       "      <td>703</td>\n",
       "      <td>0.148246</td>\n",
       "      <td>0</td>\n",
       "    </tr>\n",
       "    <tr>\n",
       "      <th>113</th>\n",
       "      <td>21</td>\n",
       "      <td>0.097396</td>\n",
       "      <td>0</td>\n",
       "    </tr>\n",
       "    <tr>\n",
       "      <th>114</th>\n",
       "      <td>444</td>\n",
       "      <td>0.112070</td>\n",
       "      <td>0</td>\n",
       "    </tr>\n",
       "    <tr>\n",
       "      <th>115</th>\n",
       "      <td>95</td>\n",
       "      <td>0.099683</td>\n",
       "      <td>0</td>\n",
       "    </tr>\n",
       "    <tr>\n",
       "      <th>116</th>\n",
       "      <td>640</td>\n",
       "      <td>0.087022</td>\n",
       "      <td>1</td>\n",
       "    </tr>\n",
       "  </tbody>\n",
       "</table>\n",
       "<p>117 rows × 3 columns</p>\n",
       "</div>"
      ],
      "text/plain": [
       "     BraTS21ID  MGMT_value_x  MGMT_value_y\n",
       "0          107      0.099379             1\n",
       "1          753      0.153414             0\n",
       "2          303      0.086696             1\n",
       "3          106      0.009672             1\n",
       "4          171      0.082197             1\n",
       "..         ...           ...           ...\n",
       "112        703      0.148246             0\n",
       "113         21      0.097396             0\n",
       "114        444      0.112070             0\n",
       "115         95      0.099683             0\n",
       "116        640      0.087022             1\n",
       "\n",
       "[117 rows x 3 columns]"
      ]
     },
     "execution_count": 25,
     "metadata": {},
     "output_type": "execute_result"
    }
   ],
   "source": [
    "result"
   ]
  },
  {
   "cell_type": "code",
   "execution_count": 41,
   "metadata": {},
   "outputs": [],
   "source": [
    "def get_confusion_matrix(result3, threshold=0.10):\n",
    "    # TN, FP, FN, TP\n",
    "    confusion_matrix = [[0, 0], [0, 0]]\n",
    "\n",
    "#     for i in range(len(result3)):\n",
    "#         threshold = 1 if result3.loc[i, \"MGMT_value_x\"] > threshold else 0\n",
    "#         confusion_matrix[result3.loc[i, \"MGMT_value_y\"]][threshold] += 1\n",
    "        \n",
    "    for idx, data in result3.iterrows():\n",
    "        tmp = 1 if data.MGMT_value_x > threshold else 0\n",
    "        confusion_matrix[int(data.MGMT_value_y)][tmp] += 1\n",
    "\n",
    "    return confusion_matrix\n",
    "\n",
    "def get_acc_recall(arr):\n",
    "    acc = sum((arr[0][0], arr[1][1]))/sum((sum(arr[0]), sum(arr[1])))\n",
    "    recall = arr[1][1] / sum(arr[1])\n",
    "    precision = arr[1][1]/(arr[1][1]+arr[0][1])\n",
    "    f1score = 2 * precision * recall / (precision + recall)\n",
    "    print(f\"Acc: {acc} \\t Recall: {recall}\")\n",
    "    print(f'precision : {precision}\\t f1-score {f1score}')"
   ]
  },
  {
   "cell_type": "code",
   "execution_count": 43,
   "metadata": {},
   "outputs": [
    {
     "data": {
      "image/png": "[encoded data removed]",
      "text/plain": [
       "<Figure size 500x500 with 1 Axes>"
      ]
     },
     "metadata": {},
     "output_type": "display_data"
    }
   ],
   "source": [
    "import matplotlib.pyplot as plt\n",
    "plt.figure(figsize=(5, 5))\n",
    "plt.hist(result[\"MGMT_value_x\"]);"
   ]
  },
  {
   "cell_type": "code",
   "execution_count": 45,
   "metadata": {},
   "outputs": [
    {
     "name": "stdout",
     "output_type": "stream",
     "text": [
      "[[39, 17], [39, 22]]\n",
      "Acc: 0.5213675213675214 \t Recall: 0.36065573770491804\n",
      "precision : 0.5641025641025641\t f1-score 0.44000000000000006\n"
     ]
    }
   ],
   "source": [
    "arr = get_confusion_matrix(result,threshold=0.10)\n",
    "print(arr)\n",
    "get_acc_recall(arr)"
   ]
  },
  {
   "cell_type": "code",
   "execution_count": 46,
   "metadata": {},
   "outputs": [
    {
     "name": "stdout",
     "output_type": "stream",
     "text": [
      "[[22, 34], [19, 42]]\n",
      "Acc: 0.5470085470085471 \t Recall: 0.6885245901639344\n",
      "precision : 0.5526315789473685\t f1-score 0.6131386861313869\n"
     ]
    }
   ],
   "source": [
    "arr = get_confusion_matrix(result,threshold=0.08)\n",
    "print(arr)\n",
    "get_acc_recall(arr)"
   ]
  },
  {
   "cell_type": "code",
   "execution_count": 47,
   "metadata": {},
   "outputs": [
    {
     "name": "stdout",
     "output_type": "stream",
     "text": [
      "[[30, 26], [37, 24]]\n",
      "Acc: 0.46153846153846156 \t Recall: 0.39344262295081966\n",
      "precision : 0.48\t f1-score 0.43243243243243246\n"
     ]
    }
   ],
   "source": [
    "arr = get_confusion_matrix(result,threshold=0.09)\n",
    "print(arr)\n",
    "get_acc_recall(arr)"
   ]
  },
  {
   "cell_type": "code",
   "execution_count": 48,
   "metadata": {},
   "outputs": [
    {
     "name": "stdout",
     "output_type": "stream",
     "text": [
      "[[25, 31], [28, 33]]\n",
      "Acc: 0.49572649572649574 \t Recall: 0.5409836065573771\n",
      "precision : 0.515625\t f1-score 0.528\n"
     ]
    }
   ],
   "source": [
    "arr = get_confusion_matrix(result,threshold=0.085)\n",
    "print(arr)\n",
    "get_acc_recall(arr)"
   ]
  },
  {
   "cell_type": "code",
   "execution_count": null,
   "metadata": {},
   "outputs": [],
   "source": []
  }
 ],
 "metadata": {
  "kernelspec": {
   "display_name": "Python 3.8.13 ('jtk')",
   "language": "python",
   "name": "python3"
  },
  "language_info": {
   "codemirror_mode": {
    "name": "ipython",
    "version": 3
   },
   "file_extension": ".py",
   "mimetype": "text/x-python",
   "name": "python",
   "nbconvert_exporter": "python",
   "pygments_lexer": "ipython3",
   "version": "3.8.13"
  },
  "orig_nbformat": 4,
  "vscode": {
   "interpreter": {
    "hash": "0edc4ebc751df66f2f329166b5209891afa3e4f58d7cb42ab5ccb6b0e6ddf96c"
   }
  }
 },
 "nbformat": 4,
 "nbformat_minor": 2
}
